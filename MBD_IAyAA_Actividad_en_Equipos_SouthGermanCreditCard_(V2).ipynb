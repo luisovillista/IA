{
  "cells": [
    {
      "cell_type": "markdown",
      "metadata": {
        "id": "view-in-github",
        "colab_type": "text"
      },
      "source": [
        "<a href=\"https://colab.research.google.com/github/luisovillista/IA/blob/main/MBD_IAyAA_Actividad_en_Equipos_SouthGermanCreditCard_(V2).ipynb\" target=\"_parent\"><img src=\"https://colab.research.google.com/assets/colab-badge.svg\" alt=\"Open In Colab\"/></a>"
      ]
    },
    {
      "cell_type": "markdown",
      "metadata": {
        "id": "dBbWMn9ebmi8"
      },
      "source": [
        "# **Maestría en Analítica de Negocios - MBD**\n",
        "\n",
        "## **Inteligencia Artificial y Aprendizaje Automático**\n",
        "\n",
        "### Tecnológico de Monterrey\n",
        "\n",
        "### Prof Luis Eduardo Falcón Morales\n",
        "\n",
        "## Adtividad en Equipos\n",
        "\n",
        "### **Problema de asignación de créditos: South German Dataset.**\n"
      ]
    },
    {
      "cell_type": "markdown",
      "metadata": {
        "id": "YiwEw8XsZG2W"
      },
      "source": [
        "## **Nombres y matrículas de los integrantes del equipo:**"
      ]
    },
    {
      "cell_type": "markdown",
      "source": [
        "A01113947 - Agustín Jaime Aguilar Tapia\n",
        "\n",
        "A01451661 - Jesus Isaias Tec Campos\n",
        "\n",
        "A00645339 - Karen Esthela Perez Tonches\n",
        "\n",
        "A01183123 - Luis Miguel Vazquez Salazar\n",
        "\n",
        "A01451684 - Miguel Angel Higuera Lopez"
      ],
      "metadata": {
        "id": "pjk63NpbP2xX"
      }
    },
    {
      "cell_type": "markdown",
      "metadata": {
        "id": "AUxxkjE6shkH"
      },
      "source": [
        "# **Parte I: Partición, análisis y pre-procesamiento de los datos.**"
      ]
    },
    {
      "cell_type": "markdown",
      "metadata": {
        "id": "a08Di3GjkL1Y"
      },
      "source": [
        "## **Ejercicio 1**"
      ]
    },
    {
      "cell_type": "code",
      "execution_count": 15,
      "metadata": {
        "id": "6VGEpE4SblfD"
      },
      "outputs": [],
      "source": [
        "# Aquí puedes incluir alguna otra librería que requieras durante esta actividad:\n",
        "\n",
        "import pandas as pd\n",
        "import numpy as np\n",
        "import matplotlib.pyplot as plt\n",
        "\n",
        "from sklearn.model_selection import train_test_split\n",
        "from sklearn.preprocessing import MinMaxScaler\n",
        "from sklearn.preprocessing import OneHotEncoder\n",
        "from sklearn.metrics import confusion_matrix, classification_report\n",
        "from sklearn.inspection import permutation_importance\n",
        "\n",
        "from sklearn.pipeline import Pipeline\n",
        "from sklearn.compose import ColumnTransformer\n",
        "\n",
        "from sklearn.linear_model import LogisticRegression\n",
        "from sklearn.neighbors import KNeighborsClassifier\n",
        "from sklearn.tree import DecisionTreeClassifier\n",
        "from sklearn.ensemble import RandomForestClassifier\n",
        "from xgboost import XGBClassifier\n",
        "from sklearn.neural_network import MLPClassifier\n",
        "from sklearn.svm import SVC\n",
        "\n",
        "from sklearn.model_selection import RepeatedStratifiedKFold\n",
        "from sklearn.model_selection import cross_validate\n",
        "\n",
        "from imblearn.over_sampling import SMOTE\n",
        "from imblearn.combine import SMOTEENN, SMOTETomek\n"
      ]
    },
    {
      "cell_type": "code",
      "execution_count": 16,
      "metadata": {
        "id": "RriCpzMBb2mr"
      },
      "outputs": [],
      "source": [
        "# Cargamos los datos:"
      ]
    },
    {
      "cell_type": "code",
      "source": [
        "df = pd.read_csv('https://raw.githubusercontent.com/lavender-brown/South-German-Credit/main/SouthGermanCredit.asc', delim_whitespace=True, header=0)\n",
        "print(df.shape)\n",
        "df.head(3)"
      ],
      "metadata": {
        "colab": {
          "base_uri": "https://localhost:8080/",
          "height": 190
        },
        "id": "mSK5K_ElK8t-",
        "outputId": "7b902412-3981-450b-fbfc-d91c95663613"
      },
      "execution_count": 17,
      "outputs": [
        {
          "output_type": "stream",
          "name": "stdout",
          "text": [
            "(1000, 21)\n"
          ]
        },
        {
          "output_type": "execute_result",
          "data": {
            "text/plain": [
              "   laufkont  laufzeit  moral  verw  hoehe  sparkont  beszeit  rate  famges  \\\n",
              "0         1        18      4     2   1049         1        2     4       2   \n",
              "1         1         9      4     0   2799         1        3     2       3   \n",
              "2         2        12      2     9    841         2        4     2       2   \n",
              "\n",
              "   buerge  ...  verm  alter  weitkred  wohn  bishkred  beruf  pers  telef  \\\n",
              "0       1  ...     2     21         3     1         1      3     2      1   \n",
              "1       1  ...     1     36         3     1         2      3     1      1   \n",
              "2       1  ...     1     23         3     1         1      2     2      1   \n",
              "\n",
              "   gastarb  kredit  \n",
              "0        2       1  \n",
              "1        2       1  \n",
              "2        2       1  \n",
              "\n",
              "[3 rows x 21 columns]"
            ],
            "text/html": [
              "\n",
              "  <div id=\"df-5f0bd640-02d3-4de4-bf39-a06eca16c161\" class=\"colab-df-container\">\n",
              "    <div>\n",
              "<style scoped>\n",
              "    .dataframe tbody tr th:only-of-type {\n",
              "        vertical-align: middle;\n",
              "    }\n",
              "\n",
              "    .dataframe tbody tr th {\n",
              "        vertical-align: top;\n",
              "    }\n",
              "\n",
              "    .dataframe thead th {\n",
              "        text-align: right;\n",
              "    }\n",
              "</style>\n",
              "<table border=\"1\" class=\"dataframe\">\n",
              "  <thead>\n",
              "    <tr style=\"text-align: right;\">\n",
              "      <th></th>\n",
              "      <th>laufkont</th>\n",
              "      <th>laufzeit</th>\n",
              "      <th>moral</th>\n",
              "      <th>verw</th>\n",
              "      <th>hoehe</th>\n",
              "      <th>sparkont</th>\n",
              "      <th>beszeit</th>\n",
              "      <th>rate</th>\n",
              "      <th>famges</th>\n",
              "      <th>buerge</th>\n",
              "      <th>...</th>\n",
              "      <th>verm</th>\n",
              "      <th>alter</th>\n",
              "      <th>weitkred</th>\n",
              "      <th>wohn</th>\n",
              "      <th>bishkred</th>\n",
              "      <th>beruf</th>\n",
              "      <th>pers</th>\n",
              "      <th>telef</th>\n",
              "      <th>gastarb</th>\n",
              "      <th>kredit</th>\n",
              "    </tr>\n",
              "  </thead>\n",
              "  <tbody>\n",
              "    <tr>\n",
              "      <th>0</th>\n",
              "      <td>1</td>\n",
              "      <td>18</td>\n",
              "      <td>4</td>\n",
              "      <td>2</td>\n",
              "      <td>1049</td>\n",
              "      <td>1</td>\n",
              "      <td>2</td>\n",
              "      <td>4</td>\n",
              "      <td>2</td>\n",
              "      <td>1</td>\n",
              "      <td>...</td>\n",
              "      <td>2</td>\n",
              "      <td>21</td>\n",
              "      <td>3</td>\n",
              "      <td>1</td>\n",
              "      <td>1</td>\n",
              "      <td>3</td>\n",
              "      <td>2</td>\n",
              "      <td>1</td>\n",
              "      <td>2</td>\n",
              "      <td>1</td>\n",
              "    </tr>\n",
              "    <tr>\n",
              "      <th>1</th>\n",
              "      <td>1</td>\n",
              "      <td>9</td>\n",
              "      <td>4</td>\n",
              "      <td>0</td>\n",
              "      <td>2799</td>\n",
              "      <td>1</td>\n",
              "      <td>3</td>\n",
              "      <td>2</td>\n",
              "      <td>3</td>\n",
              "      <td>1</td>\n",
              "      <td>...</td>\n",
              "      <td>1</td>\n",
              "      <td>36</td>\n",
              "      <td>3</td>\n",
              "      <td>1</td>\n",
              "      <td>2</td>\n",
              "      <td>3</td>\n",
              "      <td>1</td>\n",
              "      <td>1</td>\n",
              "      <td>2</td>\n",
              "      <td>1</td>\n",
              "    </tr>\n",
              "    <tr>\n",
              "      <th>2</th>\n",
              "      <td>2</td>\n",
              "      <td>12</td>\n",
              "      <td>2</td>\n",
              "      <td>9</td>\n",
              "      <td>841</td>\n",
              "      <td>2</td>\n",
              "      <td>4</td>\n",
              "      <td>2</td>\n",
              "      <td>2</td>\n",
              "      <td>1</td>\n",
              "      <td>...</td>\n",
              "      <td>1</td>\n",
              "      <td>23</td>\n",
              "      <td>3</td>\n",
              "      <td>1</td>\n",
              "      <td>1</td>\n",
              "      <td>2</td>\n",
              "      <td>2</td>\n",
              "      <td>1</td>\n",
              "      <td>2</td>\n",
              "      <td>1</td>\n",
              "    </tr>\n",
              "  </tbody>\n",
              "</table>\n",
              "<p>3 rows × 21 columns</p>\n",
              "</div>\n",
              "    <div class=\"colab-df-buttons\">\n",
              "\n",
              "  <div class=\"colab-df-container\">\n",
              "    <button class=\"colab-df-convert\" onclick=\"convertToInteractive('df-5f0bd640-02d3-4de4-bf39-a06eca16c161')\"\n",
              "            title=\"Convert this dataframe to an interactive table.\"\n",
              "            style=\"display:none;\">\n",
              "\n",
              "  <svg xmlns=\"http://www.w3.org/2000/svg\" height=\"24px\" viewBox=\"0 -960 960 960\">\n",
              "    <path d=\"M120-120v-720h720v720H120Zm60-500h600v-160H180v160Zm220 220h160v-160H400v160Zm0 220h160v-160H400v160ZM180-400h160v-160H180v160Zm440 0h160v-160H620v160ZM180-180h160v-160H180v160Zm440 0h160v-160H620v160Z\"/>\n",
              "  </svg>\n",
              "    </button>\n",
              "\n",
              "  <style>\n",
              "    .colab-df-container {\n",
              "      display:flex;\n",
              "      gap: 12px;\n",
              "    }\n",
              "\n",
              "    .colab-df-convert {\n",
              "      background-color: #E8F0FE;\n",
              "      border: none;\n",
              "      border-radius: 50%;\n",
              "      cursor: pointer;\n",
              "      display: none;\n",
              "      fill: #1967D2;\n",
              "      height: 32px;\n",
              "      padding: 0 0 0 0;\n",
              "      width: 32px;\n",
              "    }\n",
              "\n",
              "    .colab-df-convert:hover {\n",
              "      background-color: #E2EBFA;\n",
              "      box-shadow: 0px 1px 2px rgba(60, 64, 67, 0.3), 0px 1px 3px 1px rgba(60, 64, 67, 0.15);\n",
              "      fill: #174EA6;\n",
              "    }\n",
              "\n",
              "    .colab-df-buttons div {\n",
              "      margin-bottom: 4px;\n",
              "    }\n",
              "\n",
              "    [theme=dark] .colab-df-convert {\n",
              "      background-color: #3B4455;\n",
              "      fill: #D2E3FC;\n",
              "    }\n",
              "\n",
              "    [theme=dark] .colab-df-convert:hover {\n",
              "      background-color: #434B5C;\n",
              "      box-shadow: 0px 1px 3px 1px rgba(0, 0, 0, 0.15);\n",
              "      filter: drop-shadow(0px 1px 2px rgba(0, 0, 0, 0.3));\n",
              "      fill: #FFFFFF;\n",
              "    }\n",
              "  </style>\n",
              "\n",
              "    <script>\n",
              "      const buttonEl =\n",
              "        document.querySelector('#df-5f0bd640-02d3-4de4-bf39-a06eca16c161 button.colab-df-convert');\n",
              "      buttonEl.style.display =\n",
              "        google.colab.kernel.accessAllowed ? 'block' : 'none';\n",
              "\n",
              "      async function convertToInteractive(key) {\n",
              "        const element = document.querySelector('#df-5f0bd640-02d3-4de4-bf39-a06eca16c161');\n",
              "        const dataTable =\n",
              "          await google.colab.kernel.invokeFunction('convertToInteractive',\n",
              "                                                    [key], {});\n",
              "        if (!dataTable) return;\n",
              "\n",
              "        const docLinkHtml = 'Like what you see? Visit the ' +\n",
              "          '<a target=\"_blank\" href=https://colab.research.google.com/notebooks/data_table.ipynb>data table notebook</a>'\n",
              "          + ' to learn more about interactive tables.';\n",
              "        element.innerHTML = '';\n",
              "        dataTable['output_type'] = 'display_data';\n",
              "        await google.colab.output.renderOutput(dataTable, element);\n",
              "        const docLink = document.createElement('div');\n",
              "        docLink.innerHTML = docLinkHtml;\n",
              "        element.appendChild(docLink);\n",
              "      }\n",
              "    </script>\n",
              "  </div>\n",
              "\n",
              "\n",
              "<div id=\"df-d18c2df4-7bce-4957-840f-b951fec84472\">\n",
              "  <button class=\"colab-df-quickchart\" onclick=\"quickchart('df-d18c2df4-7bce-4957-840f-b951fec84472')\"\n",
              "            title=\"Suggest charts\"\n",
              "            style=\"display:none;\">\n",
              "\n",
              "<svg xmlns=\"http://www.w3.org/2000/svg\" height=\"24px\"viewBox=\"0 0 24 24\"\n",
              "     width=\"24px\">\n",
              "    <g>\n",
              "        <path d=\"M19 3H5c-1.1 0-2 .9-2 2v14c0 1.1.9 2 2 2h14c1.1 0 2-.9 2-2V5c0-1.1-.9-2-2-2zM9 17H7v-7h2v7zm4 0h-2V7h2v10zm4 0h-2v-4h2v4z\"/>\n",
              "    </g>\n",
              "</svg>\n",
              "  </button>\n",
              "\n",
              "<style>\n",
              "  .colab-df-quickchart {\n",
              "      --bg-color: #E8F0FE;\n",
              "      --fill-color: #1967D2;\n",
              "      --hover-bg-color: #E2EBFA;\n",
              "      --hover-fill-color: #174EA6;\n",
              "      --disabled-fill-color: #AAA;\n",
              "      --disabled-bg-color: #DDD;\n",
              "  }\n",
              "\n",
              "  [theme=dark] .colab-df-quickchart {\n",
              "      --bg-color: #3B4455;\n",
              "      --fill-color: #D2E3FC;\n",
              "      --hover-bg-color: #434B5C;\n",
              "      --hover-fill-color: #FFFFFF;\n",
              "      --disabled-bg-color: #3B4455;\n",
              "      --disabled-fill-color: #666;\n",
              "  }\n",
              "\n",
              "  .colab-df-quickchart {\n",
              "    background-color: var(--bg-color);\n",
              "    border: none;\n",
              "    border-radius: 50%;\n",
              "    cursor: pointer;\n",
              "    display: none;\n",
              "    fill: var(--fill-color);\n",
              "    height: 32px;\n",
              "    padding: 0;\n",
              "    width: 32px;\n",
              "  }\n",
              "\n",
              "  .colab-df-quickchart:hover {\n",
              "    background-color: var(--hover-bg-color);\n",
              "    box-shadow: 0 1px 2px rgba(60, 64, 67, 0.3), 0 1px 3px 1px rgba(60, 64, 67, 0.15);\n",
              "    fill: var(--button-hover-fill-color);\n",
              "  }\n",
              "\n",
              "  .colab-df-quickchart-complete:disabled,\n",
              "  .colab-df-quickchart-complete:disabled:hover {\n",
              "    background-color: var(--disabled-bg-color);\n",
              "    fill: var(--disabled-fill-color);\n",
              "    box-shadow: none;\n",
              "  }\n",
              "\n",
              "  .colab-df-spinner {\n",
              "    border: 2px solid var(--fill-color);\n",
              "    border-color: transparent;\n",
              "    border-bottom-color: var(--fill-color);\n",
              "    animation:\n",
              "      spin 1s steps(1) infinite;\n",
              "  }\n",
              "\n",
              "  @keyframes spin {\n",
              "    0% {\n",
              "      border-color: transparent;\n",
              "      border-bottom-color: var(--fill-color);\n",
              "      border-left-color: var(--fill-color);\n",
              "    }\n",
              "    20% {\n",
              "      border-color: transparent;\n",
              "      border-left-color: var(--fill-color);\n",
              "      border-top-color: var(--fill-color);\n",
              "    }\n",
              "    30% {\n",
              "      border-color: transparent;\n",
              "      border-left-color: var(--fill-color);\n",
              "      border-top-color: var(--fill-color);\n",
              "      border-right-color: var(--fill-color);\n",
              "    }\n",
              "    40% {\n",
              "      border-color: transparent;\n",
              "      border-right-color: var(--fill-color);\n",
              "      border-top-color: var(--fill-color);\n",
              "    }\n",
              "    60% {\n",
              "      border-color: transparent;\n",
              "      border-right-color: var(--fill-color);\n",
              "    }\n",
              "    80% {\n",
              "      border-color: transparent;\n",
              "      border-right-color: var(--fill-color);\n",
              "      border-bottom-color: var(--fill-color);\n",
              "    }\n",
              "    90% {\n",
              "      border-color: transparent;\n",
              "      border-bottom-color: var(--fill-color);\n",
              "    }\n",
              "  }\n",
              "</style>\n",
              "\n",
              "  <script>\n",
              "    async function quickchart(key) {\n",
              "      const quickchartButtonEl =\n",
              "        document.querySelector('#' + key + ' button');\n",
              "      quickchartButtonEl.disabled = true;  // To prevent multiple clicks.\n",
              "      quickchartButtonEl.classList.add('colab-df-spinner');\n",
              "      try {\n",
              "        const charts = await google.colab.kernel.invokeFunction(\n",
              "            'suggestCharts', [key], {});\n",
              "      } catch (error) {\n",
              "        console.error('Error during call to suggestCharts:', error);\n",
              "      }\n",
              "      quickchartButtonEl.classList.remove('colab-df-spinner');\n",
              "      quickchartButtonEl.classList.add('colab-df-quickchart-complete');\n",
              "    }\n",
              "    (() => {\n",
              "      let quickchartButtonEl =\n",
              "        document.querySelector('#df-d18c2df4-7bce-4957-840f-b951fec84472 button');\n",
              "      quickchartButtonEl.style.display =\n",
              "        google.colab.kernel.accessAllowed ? 'block' : 'none';\n",
              "    })();\n",
              "  </script>\n",
              "</div>\n",
              "\n",
              "    </div>\n",
              "  </div>\n"
            ],
            "application/vnd.google.colaboratory.intrinsic+json": {
              "type": "dataframe",
              "variable_name": "df"
            }
          },
          "metadata": {},
          "execution_count": 17
        }
      ]
    },
    {
      "cell_type": "code",
      "source": [
        "print(df.columns)"
      ],
      "metadata": {
        "colab": {
          "base_uri": "https://localhost:8080/"
        },
        "id": "SbAyCxswMrE1",
        "outputId": "7d3b96b1-93a7-4057-a2ff-90a07c428d34"
      },
      "execution_count": 18,
      "outputs": [
        {
          "output_type": "stream",
          "name": "stdout",
          "text": [
            "Index(['laufkont', 'laufzeit', 'moral', 'verw', 'hoehe', 'sparkont', 'beszeit',\n",
            "       'rate', 'famges', 'buerge', 'wohnzeit', 'verm', 'alter', 'weitkred',\n",
            "       'wohn', 'bishkred', 'beruf', 'pers', 'telef', 'gastarb', 'kredit'],\n",
            "      dtype='object')\n"
          ]
        }
      ]
    },
    {
      "cell_type": "markdown",
      "source": [
        "1. Descarga los datos, los cuales nos llevan a un arreglo de 1000 registros y 21 variables. Cambia\n",
        "los títulos de las columnas al nombre en inglés (originalmente están en alemán). La información\n",
        "la puedes encontrar en cualquiera de las ligas dadas arriba.\n",
        "\n",
        "¿Con base a la información de la\n",
        "variable de salida, “credit_risk”, ¿consideras que estamos con un problema de cLases\n",
        "desbalanceadas? Justifica tu respuesta."
      ],
      "metadata": {
        "id": "F6n36MG7Od_D"
      }
    },
    {
      "cell_type": "markdown",
      "source": [
        "Respuesta:Sí, estamos ante un problema de clases desbalanceadas. Esto se debe a que hay una mayor cantidad de instancias de buen crédito comparadas con las de mal crédito, lo cual es típico en escenarios de riesgo crediticio. Este desequilibrio puede afectar la capacidad del modelo para identificar correctamente los casos de mal crédito, que suelen ser menos frecuentes pero críticos para la toma de decisiones financieras.\n",
        "\n"
      ],
      "metadata": {
        "id": "orpgqz14O-E5"
      }
    },
    {
      "cell_type": "code",
      "source": [
        "## Renombra los nombres de las columnas del alemán al inglés y desplegamos de\n",
        "# nuevo el DataFrame para ver el resultado obtenido:\n",
        "# ************* Inlcuye aquí tu código:*****************************\n",
        "\n",
        "None   # NOTA: Tanto aquí como en lo sucesivo, \"None\" puede indicar una o varias líneas de código.\n",
        "\n",
        "column_mapping = {\n",
        "    'laufkont': 'status',\n",
        "    'laufzeit': 'duration',\n",
        "    'moral': 'credit_history',\n",
        "    'verw': 'purpose',\n",
        "    'hoehe': 'amount',\n",
        "    'sparkont': 'savings',\n",
        "    'beszeit': 'employment_duration',\n",
        "    'rate': 'installment_rate',\n",
        "    'famges': 'personal_status_sex',\n",
        "    'buerge': 'other_debtors',\n",
        "    'wohnzeit': 'present_residence',\n",
        "    'verm': 'property',\n",
        "    'alter': 'age',\n",
        "    'weitkred': 'other_installment_plans',\n",
        "    'wohn': 'housing',\n",
        "    'bishkred': 'number_credits',\n",
        "    'beruf': 'job',\n",
        "    'pers': 'people_liable',\n",
        "    'telef': 'telephone',\n",
        "    'gastarb': 'foreign_worker',\n",
        "    'kredit': 'credit_risk'\n",
        "}\n",
        "\n",
        "df.rename(columns=column_mapping, inplace=True)\n",
        "# *********** Aquí termina la sección de agregar código *************\n",
        "\n",
        "# Desplegar el DataFrame para verificar el resultado\n",
        "print(df.shape)\n",
        "df.head().T"
      ],
      "metadata": {
        "colab": {
          "base_uri": "https://localhost:8080/",
          "height": 725
        },
        "id": "J4oVoL3PLtC3",
        "outputId": "82f5af37-6bf4-480f-ac2c-e5be310a73e6"
      },
      "execution_count": 19,
      "outputs": [
        {
          "output_type": "stream",
          "name": "stdout",
          "text": [
            "(1000, 21)\n"
          ]
        },
        {
          "output_type": "execute_result",
          "data": {
            "text/plain": [
              "                            0     1    2     3     4\n",
              "status                      1     1    2     1     1\n",
              "duration                   18     9   12    12    12\n",
              "credit_history              4     4    2     4     4\n",
              "purpose                     2     0    9     0     0\n",
              "amount                   1049  2799  841  2122  2171\n",
              "savings                     1     1    2     1     1\n",
              "employment_duration         2     3    4     3     3\n",
              "installment_rate            4     2    2     3     4\n",
              "personal_status_sex         2     3    2     3     3\n",
              "other_debtors               1     1    1     1     1\n",
              "present_residence           4     2    4     2     4\n",
              "property                    2     1    1     1     2\n",
              "age                        21    36   23    39    38\n",
              "other_installment_plans     3     3    3     3     1\n",
              "housing                     1     1    1     1     2\n",
              "number_credits              1     2    1     2     2\n",
              "job                         3     3    2     2     2\n",
              "people_liable               2     1    2     1     2\n",
              "telephone                   1     1    1     1     1\n",
              "foreign_worker              2     2    2     1     1\n",
              "credit_risk                 1     1    1     1     1"
            ],
            "text/html": [
              "\n",
              "  <div id=\"df-49227739-f90a-44b9-a328-539325a4a2ec\" class=\"colab-df-container\">\n",
              "    <div>\n",
              "<style scoped>\n",
              "    .dataframe tbody tr th:only-of-type {\n",
              "        vertical-align: middle;\n",
              "    }\n",
              "\n",
              "    .dataframe tbody tr th {\n",
              "        vertical-align: top;\n",
              "    }\n",
              "\n",
              "    .dataframe thead th {\n",
              "        text-align: right;\n",
              "    }\n",
              "</style>\n",
              "<table border=\"1\" class=\"dataframe\">\n",
              "  <thead>\n",
              "    <tr style=\"text-align: right;\">\n",
              "      <th></th>\n",
              "      <th>0</th>\n",
              "      <th>1</th>\n",
              "      <th>2</th>\n",
              "      <th>3</th>\n",
              "      <th>4</th>\n",
              "    </tr>\n",
              "  </thead>\n",
              "  <tbody>\n",
              "    <tr>\n",
              "      <th>status</th>\n",
              "      <td>1</td>\n",
              "      <td>1</td>\n",
              "      <td>2</td>\n",
              "      <td>1</td>\n",
              "      <td>1</td>\n",
              "    </tr>\n",
              "    <tr>\n",
              "      <th>duration</th>\n",
              "      <td>18</td>\n",
              "      <td>9</td>\n",
              "      <td>12</td>\n",
              "      <td>12</td>\n",
              "      <td>12</td>\n",
              "    </tr>\n",
              "    <tr>\n",
              "      <th>credit_history</th>\n",
              "      <td>4</td>\n",
              "      <td>4</td>\n",
              "      <td>2</td>\n",
              "      <td>4</td>\n",
              "      <td>4</td>\n",
              "    </tr>\n",
              "    <tr>\n",
              "      <th>purpose</th>\n",
              "      <td>2</td>\n",
              "      <td>0</td>\n",
              "      <td>9</td>\n",
              "      <td>0</td>\n",
              "      <td>0</td>\n",
              "    </tr>\n",
              "    <tr>\n",
              "      <th>amount</th>\n",
              "      <td>1049</td>\n",
              "      <td>2799</td>\n",
              "      <td>841</td>\n",
              "      <td>2122</td>\n",
              "      <td>2171</td>\n",
              "    </tr>\n",
              "    <tr>\n",
              "      <th>savings</th>\n",
              "      <td>1</td>\n",
              "      <td>1</td>\n",
              "      <td>2</td>\n",
              "      <td>1</td>\n",
              "      <td>1</td>\n",
              "    </tr>\n",
              "    <tr>\n",
              "      <th>employment_duration</th>\n",
              "      <td>2</td>\n",
              "      <td>3</td>\n",
              "      <td>4</td>\n",
              "      <td>3</td>\n",
              "      <td>3</td>\n",
              "    </tr>\n",
              "    <tr>\n",
              "      <th>installment_rate</th>\n",
              "      <td>4</td>\n",
              "      <td>2</td>\n",
              "      <td>2</td>\n",
              "      <td>3</td>\n",
              "      <td>4</td>\n",
              "    </tr>\n",
              "    <tr>\n",
              "      <th>personal_status_sex</th>\n",
              "      <td>2</td>\n",
              "      <td>3</td>\n",
              "      <td>2</td>\n",
              "      <td>3</td>\n",
              "      <td>3</td>\n",
              "    </tr>\n",
              "    <tr>\n",
              "      <th>other_debtors</th>\n",
              "      <td>1</td>\n",
              "      <td>1</td>\n",
              "      <td>1</td>\n",
              "      <td>1</td>\n",
              "      <td>1</td>\n",
              "    </tr>\n",
              "    <tr>\n",
              "      <th>present_residence</th>\n",
              "      <td>4</td>\n",
              "      <td>2</td>\n",
              "      <td>4</td>\n",
              "      <td>2</td>\n",
              "      <td>4</td>\n",
              "    </tr>\n",
              "    <tr>\n",
              "      <th>property</th>\n",
              "      <td>2</td>\n",
              "      <td>1</td>\n",
              "      <td>1</td>\n",
              "      <td>1</td>\n",
              "      <td>2</td>\n",
              "    </tr>\n",
              "    <tr>\n",
              "      <th>age</th>\n",
              "      <td>21</td>\n",
              "      <td>36</td>\n",
              "      <td>23</td>\n",
              "      <td>39</td>\n",
              "      <td>38</td>\n",
              "    </tr>\n",
              "    <tr>\n",
              "      <th>other_installment_plans</th>\n",
              "      <td>3</td>\n",
              "      <td>3</td>\n",
              "      <td>3</td>\n",
              "      <td>3</td>\n",
              "      <td>1</td>\n",
              "    </tr>\n",
              "    <tr>\n",
              "      <th>housing</th>\n",
              "      <td>1</td>\n",
              "      <td>1</td>\n",
              "      <td>1</td>\n",
              "      <td>1</td>\n",
              "      <td>2</td>\n",
              "    </tr>\n",
              "    <tr>\n",
              "      <th>number_credits</th>\n",
              "      <td>1</td>\n",
              "      <td>2</td>\n",
              "      <td>1</td>\n",
              "      <td>2</td>\n",
              "      <td>2</td>\n",
              "    </tr>\n",
              "    <tr>\n",
              "      <th>job</th>\n",
              "      <td>3</td>\n",
              "      <td>3</td>\n",
              "      <td>2</td>\n",
              "      <td>2</td>\n",
              "      <td>2</td>\n",
              "    </tr>\n",
              "    <tr>\n",
              "      <th>people_liable</th>\n",
              "      <td>2</td>\n",
              "      <td>1</td>\n",
              "      <td>2</td>\n",
              "      <td>1</td>\n",
              "      <td>2</td>\n",
              "    </tr>\n",
              "    <tr>\n",
              "      <th>telephone</th>\n",
              "      <td>1</td>\n",
              "      <td>1</td>\n",
              "      <td>1</td>\n",
              "      <td>1</td>\n",
              "      <td>1</td>\n",
              "    </tr>\n",
              "    <tr>\n",
              "      <th>foreign_worker</th>\n",
              "      <td>2</td>\n",
              "      <td>2</td>\n",
              "      <td>2</td>\n",
              "      <td>1</td>\n",
              "      <td>1</td>\n",
              "    </tr>\n",
              "    <tr>\n",
              "      <th>credit_risk</th>\n",
              "      <td>1</td>\n",
              "      <td>1</td>\n",
              "      <td>1</td>\n",
              "      <td>1</td>\n",
              "      <td>1</td>\n",
              "    </tr>\n",
              "  </tbody>\n",
              "</table>\n",
              "</div>\n",
              "    <div class=\"colab-df-buttons\">\n",
              "\n",
              "  <div class=\"colab-df-container\">\n",
              "    <button class=\"colab-df-convert\" onclick=\"convertToInteractive('df-49227739-f90a-44b9-a328-539325a4a2ec')\"\n",
              "            title=\"Convert this dataframe to an interactive table.\"\n",
              "            style=\"display:none;\">\n",
              "\n",
              "  <svg xmlns=\"http://www.w3.org/2000/svg\" height=\"24px\" viewBox=\"0 -960 960 960\">\n",
              "    <path d=\"M120-120v-720h720v720H120Zm60-500h600v-160H180v160Zm220 220h160v-160H400v160Zm0 220h160v-160H400v160ZM180-400h160v-160H180v160Zm440 0h160v-160H620v160ZM180-180h160v-160H180v160Zm440 0h160v-160H620v160Z\"/>\n",
              "  </svg>\n",
              "    </button>\n",
              "\n",
              "  <style>\n",
              "    .colab-df-container {\n",
              "      display:flex;\n",
              "      gap: 12px;\n",
              "    }\n",
              "\n",
              "    .colab-df-convert {\n",
              "      background-color: #E8F0FE;\n",
              "      border: none;\n",
              "      border-radius: 50%;\n",
              "      cursor: pointer;\n",
              "      display: none;\n",
              "      fill: #1967D2;\n",
              "      height: 32px;\n",
              "      padding: 0 0 0 0;\n",
              "      width: 32px;\n",
              "    }\n",
              "\n",
              "    .colab-df-convert:hover {\n",
              "      background-color: #E2EBFA;\n",
              "      box-shadow: 0px 1px 2px rgba(60, 64, 67, 0.3), 0px 1px 3px 1px rgba(60, 64, 67, 0.15);\n",
              "      fill: #174EA6;\n",
              "    }\n",
              "\n",
              "    .colab-df-buttons div {\n",
              "      margin-bottom: 4px;\n",
              "    }\n",
              "\n",
              "    [theme=dark] .colab-df-convert {\n",
              "      background-color: #3B4455;\n",
              "      fill: #D2E3FC;\n",
              "    }\n",
              "\n",
              "    [theme=dark] .colab-df-convert:hover {\n",
              "      background-color: #434B5C;\n",
              "      box-shadow: 0px 1px 3px 1px rgba(0, 0, 0, 0.15);\n",
              "      filter: drop-shadow(0px 1px 2px rgba(0, 0, 0, 0.3));\n",
              "      fill: #FFFFFF;\n",
              "    }\n",
              "  </style>\n",
              "\n",
              "    <script>\n",
              "      const buttonEl =\n",
              "        document.querySelector('#df-49227739-f90a-44b9-a328-539325a4a2ec button.colab-df-convert');\n",
              "      buttonEl.style.display =\n",
              "        google.colab.kernel.accessAllowed ? 'block' : 'none';\n",
              "\n",
              "      async function convertToInteractive(key) {\n",
              "        const element = document.querySelector('#df-49227739-f90a-44b9-a328-539325a4a2ec');\n",
              "        const dataTable =\n",
              "          await google.colab.kernel.invokeFunction('convertToInteractive',\n",
              "                                                    [key], {});\n",
              "        if (!dataTable) return;\n",
              "\n",
              "        const docLinkHtml = 'Like what you see? Visit the ' +\n",
              "          '<a target=\"_blank\" href=https://colab.research.google.com/notebooks/data_table.ipynb>data table notebook</a>'\n",
              "          + ' to learn more about interactive tables.';\n",
              "        element.innerHTML = '';\n",
              "        dataTable['output_type'] = 'display_data';\n",
              "        await google.colab.output.renderOutput(dataTable, element);\n",
              "        const docLink = document.createElement('div');\n",
              "        docLink.innerHTML = docLinkHtml;\n",
              "        element.appendChild(docLink);\n",
              "      }\n",
              "    </script>\n",
              "  </div>\n",
              "\n",
              "\n",
              "<div id=\"df-50ad393f-e4e7-4b60-adde-8f488eeb5716\">\n",
              "  <button class=\"colab-df-quickchart\" onclick=\"quickchart('df-50ad393f-e4e7-4b60-adde-8f488eeb5716')\"\n",
              "            title=\"Suggest charts\"\n",
              "            style=\"display:none;\">\n",
              "\n",
              "<svg xmlns=\"http://www.w3.org/2000/svg\" height=\"24px\"viewBox=\"0 0 24 24\"\n",
              "     width=\"24px\">\n",
              "    <g>\n",
              "        <path d=\"M19 3H5c-1.1 0-2 .9-2 2v14c0 1.1.9 2 2 2h14c1.1 0 2-.9 2-2V5c0-1.1-.9-2-2-2zM9 17H7v-7h2v7zm4 0h-2V7h2v10zm4 0h-2v-4h2v4z\"/>\n",
              "    </g>\n",
              "</svg>\n",
              "  </button>\n",
              "\n",
              "<style>\n",
              "  .colab-df-quickchart {\n",
              "      --bg-color: #E8F0FE;\n",
              "      --fill-color: #1967D2;\n",
              "      --hover-bg-color: #E2EBFA;\n",
              "      --hover-fill-color: #174EA6;\n",
              "      --disabled-fill-color: #AAA;\n",
              "      --disabled-bg-color: #DDD;\n",
              "  }\n",
              "\n",
              "  [theme=dark] .colab-df-quickchart {\n",
              "      --bg-color: #3B4455;\n",
              "      --fill-color: #D2E3FC;\n",
              "      --hover-bg-color: #434B5C;\n",
              "      --hover-fill-color: #FFFFFF;\n",
              "      --disabled-bg-color: #3B4455;\n",
              "      --disabled-fill-color: #666;\n",
              "  }\n",
              "\n",
              "  .colab-df-quickchart {\n",
              "    background-color: var(--bg-color);\n",
              "    border: none;\n",
              "    border-radius: 50%;\n",
              "    cursor: pointer;\n",
              "    display: none;\n",
              "    fill: var(--fill-color);\n",
              "    height: 32px;\n",
              "    padding: 0;\n",
              "    width: 32px;\n",
              "  }\n",
              "\n",
              "  .colab-df-quickchart:hover {\n",
              "    background-color: var(--hover-bg-color);\n",
              "    box-shadow: 0 1px 2px rgba(60, 64, 67, 0.3), 0 1px 3px 1px rgba(60, 64, 67, 0.15);\n",
              "    fill: var(--button-hover-fill-color);\n",
              "  }\n",
              "\n",
              "  .colab-df-quickchart-complete:disabled,\n",
              "  .colab-df-quickchart-complete:disabled:hover {\n",
              "    background-color: var(--disabled-bg-color);\n",
              "    fill: var(--disabled-fill-color);\n",
              "    box-shadow: none;\n",
              "  }\n",
              "\n",
              "  .colab-df-spinner {\n",
              "    border: 2px solid var(--fill-color);\n",
              "    border-color: transparent;\n",
              "    border-bottom-color: var(--fill-color);\n",
              "    animation:\n",
              "      spin 1s steps(1) infinite;\n",
              "  }\n",
              "\n",
              "  @keyframes spin {\n",
              "    0% {\n",
              "      border-color: transparent;\n",
              "      border-bottom-color: var(--fill-color);\n",
              "      border-left-color: var(--fill-color);\n",
              "    }\n",
              "    20% {\n",
              "      border-color: transparent;\n",
              "      border-left-color: var(--fill-color);\n",
              "      border-top-color: var(--fill-color);\n",
              "    }\n",
              "    30% {\n",
              "      border-color: transparent;\n",
              "      border-left-color: var(--fill-color);\n",
              "      border-top-color: var(--fill-color);\n",
              "      border-right-color: var(--fill-color);\n",
              "    }\n",
              "    40% {\n",
              "      border-color: transparent;\n",
              "      border-right-color: var(--fill-color);\n",
              "      border-top-color: var(--fill-color);\n",
              "    }\n",
              "    60% {\n",
              "      border-color: transparent;\n",
              "      border-right-color: var(--fill-color);\n",
              "    }\n",
              "    80% {\n",
              "      border-color: transparent;\n",
              "      border-right-color: var(--fill-color);\n",
              "      border-bottom-color: var(--fill-color);\n",
              "    }\n",
              "    90% {\n",
              "      border-color: transparent;\n",
              "      border-bottom-color: var(--fill-color);\n",
              "    }\n",
              "  }\n",
              "</style>\n",
              "\n",
              "  <script>\n",
              "    async function quickchart(key) {\n",
              "      const quickchartButtonEl =\n",
              "        document.querySelector('#' + key + ' button');\n",
              "      quickchartButtonEl.disabled = true;  // To prevent multiple clicks.\n",
              "      quickchartButtonEl.classList.add('colab-df-spinner');\n",
              "      try {\n",
              "        const charts = await google.colab.kernel.invokeFunction(\n",
              "            'suggestCharts', [key], {});\n",
              "      } catch (error) {\n",
              "        console.error('Error during call to suggestCharts:', error);\n",
              "      }\n",
              "      quickchartButtonEl.classList.remove('colab-df-spinner');\n",
              "      quickchartButtonEl.classList.add('colab-df-quickchart-complete');\n",
              "    }\n",
              "    (() => {\n",
              "      let quickchartButtonEl =\n",
              "        document.querySelector('#df-50ad393f-e4e7-4b60-adde-8f488eeb5716 button');\n",
              "      quickchartButtonEl.style.display =\n",
              "        google.colab.kernel.accessAllowed ? 'block' : 'none';\n",
              "    })();\n",
              "  </script>\n",
              "</div>\n",
              "\n",
              "    </div>\n",
              "  </div>\n"
            ],
            "application/vnd.google.colaboratory.intrinsic+json": {
              "type": "dataframe",
              "variable_name": "df"
            }
          },
          "metadata": {},
          "execution_count": 19
        }
      ]
    },
    {
      "cell_type": "code",
      "execution_count": 20,
      "metadata": {
        "id": "Tlg8jYbnlqNA",
        "colab": {
          "base_uri": "https://localhost:8080/"
        },
        "outputId": "dc2622ce-721c-459f-d2b2-51dbb449b9c4"
      },
      "outputs": [
        {
          "output_type": "stream",
          "name": "stdout",
          "text": [
            "0    700\n",
            "1    300\n",
            "Name: credit_risk, dtype: int64\n"
          ]
        }
      ],
      "source": [
        "# Los datos originales tienen en la variable de salida \"credit_risk\" a la clase negativa (buen cliente) con el valor de 1\n",
        "# y a la clase de interés positiva (mal cliente) con el valor de 0.\n",
        "# Como las técnicas de balanceo y en general en lo problemas de Machine Learning a la clase de interés y generalmente\n",
        "# la clase minoritaria se le etiqueta como 1. Entonces invirtamos dichos regitros.\n",
        "# Recuerda que esta base de datos es de principios de los años 90s, donde la estandarización de los datos todavía\n",
        "# no estaba estandarizada y cada quien etiquetaba los datos a su mejor parecer.\n",
        "\n",
        "df['credit_risk'] = df['credit_risk'].map({0:1, 1:0})\n",
        "print(df['credit_risk'].value_counts())"
      ]
    },
    {
      "cell_type": "markdown",
      "source": [
        "Este código primero usa el método .map() para cambiar los valores de la columna credit_risk, donde el valor original 0 se cambia a 1 y el valor original 1 a 0, reflejando así correctamente la clase de interés como 1 (mal cliente) y la otra clase como 0 (buen cliente). Luego, utiliza el método .value_counts() para contar cuántas instancias hay de cada clase y lo imprime, lo que debería resultar en 700 instancias de la clase 0 (buen cliente) y 300 instancias de la clase 1 (mal cliente), reflejando el desbalance original del conjunto de datos.\n",
        "\n",
        "Buen Cliente: 700\n",
        "\n",
        "Mal Cliente: 300\n"
      ],
      "metadata": {
        "id": "3ehCuMiPQ0Tp"
      }
    },
    {
      "cell_type": "markdown",
      "source": [
        "### ++++++++  +++++++++++\n",
        "\n",
        "None\n",
        "\n",
        "### ++++++++ +++++++++++"
      ],
      "metadata": {
        "id": "W6CERg8bthPv"
      }
    },
    {
      "cell_type": "markdown",
      "metadata": {
        "id": "qQx2lbzTkEsQ"
      },
      "source": [
        "## **Ejercicio 2**"
      ]
    },
    {
      "cell_type": "markdown",
      "source": [
        "2. Realiza una partición de los datos en los conjuntos de entrenamiento, validación y prueba, del\n",
        "70%, 15% y 15%, respectivamente."
      ],
      "metadata": {
        "id": "UzZVQdNRTA5c"
      }
    },
    {
      "cell_type": "code",
      "source": [
        "# Realiza una partición de 70-15-15 en entrenamiento, validación y prueba.\n",
        "# Los nombres de los conjuntos deberán ser como se indican en los print de abajo:\n",
        "\n",
        "# ************* Inlcuye aquí tu código:*****************************\n",
        "from sklearn.model_selection import train_test_split\n",
        "\n",
        "# Asumiendo que df es tu DataFrame y 'credit_risk' es la variable objetivo\n",
        "X = df.drop('credit_risk', axis=1)\n",
        "y = df['credit_risk']\n",
        "\n",
        "# Primera partición: Dividir en entrenamiento (70%) y temporal (30% para validación + prueba)\n",
        "X_train, X_temp, y_train, y_temp = train_test_split(X, y, test_size=0.3, random_state=42)\n",
        "\n",
        "# Segunda partición: Dividir el conjunto temporal en validación (15%) y prueba (15%)\n",
        "X_val, X_test, y_val, y_test = train_test_split(X_temp, y_temp, test_size=0.5, random_state=42)\n",
        "\n",
        "# Mostremos las dimensiones de la partición generada:\n",
        "print(X_train.shape, y_train.shape)  # Entrenamiento\n",
        "print(X_val.shape, y_val.shape)      # Validación\n",
        "print(X_test.shape, y_test.shape)    # Prueba\n"
      ],
      "metadata": {
        "colab": {
          "base_uri": "https://localhost:8080/"
        },
        "id": "tB5F2PYFSode",
        "outputId": "89786e71-0c47-41c1-e92c-18b367945607"
      },
      "execution_count": 21,
      "outputs": [
        {
          "output_type": "stream",
          "name": "stdout",
          "text": [
            "(700, 20) (700,)\n",
            "(150, 20) (150,)\n",
            "(150, 20) (150,)\n"
          ]
        }
      ]
    },
    {
      "cell_type": "markdown",
      "source": [
        "Estas dimensiones confirman que los conjuntos de datos están correctamente preparados para proceder con la fase de modelado, validación y pruebas"
      ],
      "metadata": {
        "id": "ovCPTkQCS7Ll"
      }
    },
    {
      "cell_type": "markdown",
      "metadata": {
        "id": "ocmGcSC2j_2x"
      },
      "source": [
        "## **Ejercicio 3**"
      ]
    },
    {
      "cell_type": "markdown",
      "source": [
        "3. Describe el significado de las 21 variables de acuerdo con la información que se encuentra en la\n",
        "liga de la UCI de la cual descargaste los datos. De acuerdo a dicha página clasifica las variables en\n",
        "los siguientes tres tipos: Categóricas, Ordinales (y/o discretizadas) y Numéricas."
      ],
      "metadata": {
        "id": "O2Aa0fESV5kG"
      }
    },
    {
      "cell_type": "markdown",
      "metadata": {
        "id": "aRkZvfhVeLxU"
      },
      "source": [
        "### **Describe a continuación la información de cada variable: su descripción, el tipo de variable y para el caso de las categóricas, el total de niveles que tiene.**\n",
        "\n",
        "### **Variables Categóricas:**\n",
        "\n",
        "-status: Estado de la cuenta bancaria del deudor.\n",
        "\n",
        "-credit_history: Historial de cumplimiento de créditos previos o concurrentes.\n",
        "\n",
        "-purpose: Propósito del crédito.\n",
        "\n",
        "-savings: Ahorros del deudor.\n",
        "\n",
        "-personal_status_sex: Información combinada sobre sexo y estado civil.\n",
        "\n",
        "-other_debtors: Existencia de otro deudor o garante.\n",
        "\n",
        "-other_installment_plans: Planes de cuotas de otros proveedores.\n",
        "\n",
        "-housing: Tipo de vivienda.\n",
        "\n",
        "\n",
        "\n",
        "\n",
        "\n",
        "### **Variables Ordinales (y/o discretizadas):**\n",
        "\n",
        "-employment_duration: Duración del empleo con el empleador actual.\n",
        "\n",
        "-installment_rate: Cuotas de crédito como porcentaje del ingreso disponible.\n",
        "\n",
        "-present_residence: Tiempo en la residencia actual.\n",
        "\n",
        "-property: Propiedad más valiosa del deudor.\n",
        "\n",
        "-number_credits: Número de créditos en el banco.\n",
        "\n",
        "-job: Calidad del trabajo del deudor.\n",
        "\n",
        "\n",
        "\n",
        "\n",
        "### **Variables Numéricas:**\n",
        "\n",
        "-duration: Duración del crédito en meses.\n",
        "\n",
        "-amount: Monto del crédito.\n",
        "\n",
        "-age: Edad en años.\n",
        "\n",
        "\n",
        "### **Variables Binarias:**\n",
        "\n",
        "-foreign_worker: Si el deudor es un trabajador extranjero.\n",
        "\n",
        "-telephone: Si hay línea telefónica a nombre del deudor.\n",
        "\n",
        "-credit_risk: Cumplimiento del contrato de crédito.\n",
        "\n",
        "-people_liable: Número de personas dependientes financieramente.\n",
        "\n"
      ]
    },
    {
      "cell_type": "code",
      "source": [
        "# Clasificación de variables\n",
        "categorical_vars = [\n",
        "    'status', 'credit_history', 'purpose', 'savings',\n",
        "    'personal_status_sex', 'other_debtors', 'other_installment_plans',\n",
        "    'housing'\n",
        "]\n",
        "\n",
        "ordinal_vars = [\n",
        "    'employment_duration', 'installment_rate', 'present_residence',\n",
        "    'property', 'number_credits', 'job'\n",
        "]\n",
        "\n",
        "numeric_vars = [\n",
        "    'duration', 'amount', 'age'\n",
        "]\n",
        "\n",
        "# Variables binarias como 'telephone' y 'credit_risk' no están incluidas en estas listas\n",
        "# ya que podrían manejarse de manera especial dependiendo del contexto del análisis\n"
      ],
      "metadata": {
        "id": "lGTEAPhTYOOF"
      },
      "execution_count": 22,
      "outputs": []
    },
    {
      "cell_type": "markdown",
      "metadata": {
        "id": "zb5bE4WJj8Rw"
      },
      "source": [
        "## **Ejercicio 4**"
      ]
    },
    {
      "cell_type": "markdown",
      "source": [
        "Define una lista que incluya solamente las variables de entrada que identificaste como\n",
        "categóricas en el ejercicio anterior. La llamaremos “lista_Xcat” y la usaremos para desplegar los\n",
        "niveles de cada una de estas variables."
      ],
      "metadata": {
        "id": "zJXxSmMLWjO8"
      }
    },
    {
      "cell_type": "code",
      "source": [
        "# Define una lista que incluya solamente las variables categóricas de\n",
        "# entrada, de acuerdo a la selección que hiciste en el ejercicio anterior.\n",
        "# La llamaremos “lista_Xcat” y la usaremos para desplegar los niveles de\n",
        "# cada una de estas variables:\n",
        "\n",
        "# ************* Inlcuye aquí tu código:*****************************\n",
        "# Definición de la lista con los nombres de las variables categóricas\n",
        "lista_Xcat = [\n",
        "    'status', 'credit_history', 'purpose', 'savings',\n",
        "    'personal_status_sex', 'other_debtors', 'other_installment_plans', 'housing', 'foreign_worker'\n",
        "]\n",
        "\n",
        "# *********** Aquí termina la sección de agregar código *************\n",
        "\n",
        "# Desplegar los niveles de cada variable categórica en el conjunto de entrenamiento\n",
        "for w in lista_Xcat:\n",
        "    print(X_train[w].value_counts().values)\n",
        "    print(X_train[w].value_counts() / X_train.shape[0])\n",
        "    print('\\n')\n"
      ],
      "metadata": {
        "colab": {
          "base_uri": "https://localhost:8080/"
        },
        "id": "K7ZY-SLYWH2D",
        "outputId": "580923f2-a2b2-47a2-bbba-b56348926f98"
      },
      "execution_count": 23,
      "outputs": [
        {
          "output_type": "stream",
          "name": "stdout",
          "text": [
            "[279 190 188  43]\n",
            "4    0.398571\n",
            "1    0.271429\n",
            "2    0.268571\n",
            "3    0.061429\n",
            "Name: status, dtype: float64\n",
            "\n",
            "\n",
            "[371 204  64  34  27]\n",
            "2    0.530000\n",
            "4    0.291429\n",
            "3    0.091429\n",
            "1    0.048571\n",
            "0    0.038571\n",
            "Name: credit_history, dtype: float64\n",
            "\n",
            "\n",
            "[199 159 114  82  70  32  18  10   9   7]\n",
            "3     0.284286\n",
            "0     0.227143\n",
            "2     0.162857\n",
            "1     0.117143\n",
            "9     0.100000\n",
            "6     0.045714\n",
            "5     0.025714\n",
            "10    0.014286\n",
            "4     0.012857\n",
            "8     0.010000\n",
            "Name: purpose, dtype: float64\n",
            "\n",
            "\n",
            "[428 129  73  42  28]\n",
            "1    0.611429\n",
            "5    0.184286\n",
            "2    0.104286\n",
            "3    0.060000\n",
            "4    0.040000\n",
            "Name: savings, dtype: float64\n",
            "\n",
            "\n",
            "[394 205  60  41]\n",
            "3    0.562857\n",
            "2    0.292857\n",
            "4    0.085714\n",
            "1    0.058571\n",
            "Name: personal_status_sex, dtype: float64\n",
            "\n",
            "\n",
            "[638  34  28]\n",
            "1    0.911429\n",
            "3    0.048571\n",
            "2    0.040000\n",
            "Name: other_debtors, dtype: float64\n",
            "\n",
            "\n",
            "[571  95  34]\n",
            "3    0.815714\n",
            "1    0.135714\n",
            "2    0.048571\n",
            "Name: other_installment_plans, dtype: float64\n",
            "\n",
            "\n",
            "[505 114  81]\n",
            "2    0.721429\n",
            "1    0.162857\n",
            "3    0.115714\n",
            "Name: housing, dtype: float64\n",
            "\n",
            "\n",
            "[678  22]\n",
            "2    0.968571\n",
            "1    0.031429\n",
            "Name: foreign_worker, dtype: float64\n",
            "\n",
            "\n"
          ]
        }
      ]
    },
    {
      "cell_type": "code",
      "source": [
        "categorical_vars"
      ],
      "metadata": {
        "colab": {
          "base_uri": "https://localhost:8080/"
        },
        "id": "pfllZFxsZFbt",
        "outputId": "b2526127-42b9-428c-da6c-2d985a1fdc36"
      },
      "execution_count": 24,
      "outputs": [
        {
          "output_type": "execute_result",
          "data": {
            "text/plain": [
              "['status',\n",
              " 'credit_history',\n",
              " 'purpose',\n",
              " 'savings',\n",
              " 'personal_status_sex',\n",
              " 'other_debtors',\n",
              " 'other_installment_plans',\n",
              " 'housing']"
            ]
          },
          "metadata": {},
          "execution_count": 24
        }
      ]
    },
    {
      "cell_type": "markdown",
      "source": [
        "Los resultados muestran la distribución de las variables categóricas en el conjunto de entrenamiento, destacando la variabilidad y predominancia de ciertos niveles dentro de cada variable. Por ejemplo, en status, la mayoría de los deudores no tienen cuenta corriente o tienen saldo negativo. En credit_history, la mayoría tiene un historial crediticio existente pagado adecuadamente hasta ahora. Estas distribuciones son cruciales para entender las características del conjunto de datos y cómo podrían influir en la predicción del riesgo crediticio."
      ],
      "metadata": {
        "id": "y3geZnDeWcSl"
      }
    },
    {
      "cell_type": "markdown",
      "source": [
        "## **Ejercicio 5**"
      ],
      "metadata": {
        "id": "H_gDrEoX7P4G"
      }
    },
    {
      "cell_type": "code",
      "source": [
        "# De acuerdo con la información de las variables categóricas desplegada en el\n",
        "# ejercicio anterior, identifica las variables que tienen niveles abajo del 3%\n",
        "# de información. Con cada una de estas variables identificadas utiliza la\n",
        "# función map() de Python para agrupar dichos niveles en un nuevo nivel, de\n",
        "# manera que se tenga ahora una cantidad mayor o igual al 3% de información:\n",
        "\n",
        "\n",
        "\n",
        "# Define las categorías de variables según tu clasificación\n",
        "categorical_vars = [\n",
        "    'status', 'credit_history', 'purpose', 'savings',\n",
        "    'personal_status_sex', 'other_debtors', 'other_installment_plans',\n",
        "    'housing'\n",
        "]\n",
        "\n",
        "ordinal_vars = [\n",
        "    'employment_duration', 'installment_rate', 'present_residence',\n",
        "    'property', 'number_credits', 'job'\n",
        "]\n",
        "\n",
        "# Lista de variables categóricas y ordinales para analizar\n",
        "variables_to_analyze = categorical_vars + ordinal_vars\n",
        "\n",
        "# Identificar niveles con menos del 3% de las observaciones para cada variable\n",
        "for var in variables_to_analyze:\n",
        "    print(f\"Analizando {var}:\")\n",
        "    value_counts = df[var].value_counts(normalize=True)\n",
        "    low_info_levels = value_counts[value_counts < 0.03]\n",
        "    if not low_info_levels.empty:\n",
        "        print(f\"Variables con menos del 3% de información en '{var}':\\n{low_info_levels}\\n\")\n",
        "    else:\n",
        "        print(f\"No hay niveles por debajo del 3% en '{var}'.\\n\")\n"
      ],
      "metadata": {
        "colab": {
          "base_uri": "https://localhost:8080/"
        },
        "id": "iHsRJ68yekHE",
        "outputId": "4148d8bc-bf87-43dd-abf5-5e79c7bb3605"
      },
      "execution_count": 25,
      "outputs": [
        {
          "output_type": "stream",
          "name": "stdout",
          "text": [
            "Analizando status:\n",
            "No hay niveles por debajo del 3% en 'status'.\n",
            "\n",
            "Analizando credit_history:\n",
            "No hay niveles por debajo del 3% en 'credit_history'.\n",
            "\n",
            "Analizando purpose:\n",
            "Variables con menos del 3% de información en 'purpose':\n",
            "5     0.022\n",
            "10    0.012\n",
            "4     0.012\n",
            "8     0.009\n",
            "Name: purpose, dtype: float64\n",
            "\n",
            "Analizando savings:\n",
            "No hay niveles por debajo del 3% en 'savings'.\n",
            "\n",
            "Analizando personal_status_sex:\n",
            "No hay niveles por debajo del 3% en 'personal_status_sex'.\n",
            "\n",
            "Analizando other_debtors:\n",
            "No hay niveles por debajo del 3% en 'other_debtors'.\n",
            "\n",
            "Analizando other_installment_plans:\n",
            "No hay niveles por debajo del 3% en 'other_installment_plans'.\n",
            "\n",
            "Analizando housing:\n",
            "No hay niveles por debajo del 3% en 'housing'.\n",
            "\n",
            "Analizando employment_duration:\n",
            "No hay niveles por debajo del 3% en 'employment_duration'.\n",
            "\n",
            "Analizando installment_rate:\n",
            "No hay niveles por debajo del 3% en 'installment_rate'.\n",
            "\n",
            "Analizando present_residence:\n",
            "No hay niveles por debajo del 3% en 'present_residence'.\n",
            "\n",
            "Analizando property:\n",
            "No hay niveles por debajo del 3% en 'property'.\n",
            "\n",
            "Analizando number_credits:\n",
            "Variables con menos del 3% de información en 'number_credits':\n",
            "3    0.028\n",
            "4    0.006\n",
            "Name: number_credits, dtype: float64\n",
            "\n",
            "Analizando job:\n",
            "Variables con menos del 3% de información en 'job':\n",
            "1    0.022\n",
            "Name: job, dtype: float64\n",
            "\n"
          ]
        }
      ]
    },
    {
      "cell_type": "markdown",
      "source": [
        "## **Ejercicio 6**"
      ],
      "metadata": {
        "id": "9V9-kcJwDWto"
      }
    },
    {
      "cell_type": "code",
      "source": [
        "# Agrupar niveles con menos del 3% en 'Otros'\n",
        "def agrupar_niveles_bajos(df, columnas):\n",
        "    for columna in columnas:\n",
        "        conteo = df[columna].value_counts(normalize=True)\n",
        "        niveles_bajos = conteo[conteo < 0.03].index\n",
        "        df[columna] = df[columna].apply(lambda x: 'Otros' if x in niveles_bajos else x)\n",
        "\n",
        "# Columnas identificadas con niveles por debajo del 3%\n",
        "columnas_a_modificar = ['purpose', 'number_credits', 'job']\n",
        "\n",
        "# Aplicar la función de agrupación\n",
        "agrupar_niveles_bajos(df, columnas_a_modificar)\n",
        "\n",
        "# Verificar los cambios\n",
        "for columna in columnas_a_modificar:\n",
        "    print(f\"Distribución actualizada de '{columna}':\")\n",
        "    print(df[columna].value_counts(normalize=True))\n",
        "    print(\"\\n\")\n"
      ],
      "metadata": {
        "colab": {
          "base_uri": "https://localhost:8080/"
        },
        "id": "j6vi8O91gNPE",
        "outputId": "49f16164-3eac-49ba-a9c1-4c46c835be12"
      },
      "execution_count": 26,
      "outputs": [
        {
          "output_type": "stream",
          "name": "stdout",
          "text": [
            "Distribución actualizada de 'purpose':\n",
            "3        0.280\n",
            "0        0.234\n",
            "2        0.181\n",
            "1        0.103\n",
            "9        0.097\n",
            "Otros    0.055\n",
            "6        0.050\n",
            "Name: purpose, dtype: float64\n",
            "\n",
            "\n",
            "Distribución actualizada de 'number_credits':\n",
            "1        0.633\n",
            "2        0.333\n",
            "Otros    0.034\n",
            "Name: number_credits, dtype: float64\n",
            "\n",
            "\n",
            "Distribución actualizada de 'job':\n",
            "3        0.630\n",
            "2        0.200\n",
            "4        0.148\n",
            "Otros    0.022\n",
            "Name: job, dtype: float64\n",
            "\n",
            "\n"
          ]
        }
      ]
    },
    {
      "cell_type": "code",
      "source": [
        "# Solamente para el o los factores que modificaste en el ejercicio anterior\n",
        "# despliega la cantidad porcentual de información que tienes ahora en cada\n",
        "# nivel, para comprobar que efectivamente todos quedaron arriba del 3%:\n",
        "\n",
        "\n",
        "# ************* Inlcuye aquí tu código:*****************************\n",
        "\n",
        "print(X_train['purpose'].value_counts().values)\n",
        "print(X_train['purpose'].value_counts() / X_train.shape[0])\n",
        "\n",
        "# *********** Aquí termina la sección de agregar código *************"
      ],
      "metadata": {
        "id": "4xa-89jX7THn",
        "colab": {
          "base_uri": "https://localhost:8080/"
        },
        "outputId": "6b538c5f-0429-4d7c-c6e0-e1b6cd010ccf"
      },
      "execution_count": 27,
      "outputs": [
        {
          "output_type": "stream",
          "name": "stdout",
          "text": [
            "[199 159 114  82  70  32  18  10   9   7]\n",
            "3     0.284286\n",
            "0     0.227143\n",
            "2     0.162857\n",
            "1     0.117143\n",
            "9     0.100000\n",
            "6     0.045714\n",
            "5     0.025714\n",
            "10    0.014286\n",
            "4     0.012857\n",
            "8     0.010000\n",
            "Name: purpose, dtype: float64\n"
          ]
        }
      ]
    },
    {
      "cell_type": "markdown",
      "source": [
        "## **Ejercicio 7**"
      ],
      "metadata": {
        "id": "RKGBuCj9EGdK"
      }
    },
    {
      "cell_type": "markdown",
      "source": [
        "### **Justifica el procedimiento realizado en el ejercicio 5, En particular, indica en qué puede ayudar al problema y cuáles podrían ser sus inconvenientes:**"
      ],
      "metadata": {
        "id": "d_OY7TL5Es2o"
      }
    },
    {
      "cell_type": "markdown",
      "source": [
        "Al agrupar niveles poco comunes bajo la categoría \"Otros\", simplificamos el análisis, concentrándonos en tendencias más significativas y mejorando la precisión del modelo. Esto previene el sobreajuste y facilita la interpretación. Sin embargo, podría ignorar patrones únicos de grupos pequeños, potencialmente relevantes para decisiones específicas. Este equilibrio entre generalización y detalle es crucial en la toma de decisiones basada en datos, especialmente en contextos donde la precisión y la comprensión profunda de los segmentos del cliente son fundamentales."
      ],
      "metadata": {
        "id": "5ZMqtuzTEP8n"
      }
    },
    {
      "cell_type": "markdown",
      "source": [
        "## **Ejercicio 8**"
      ],
      "metadata": {
        "id": "wAk-DPyMEcEQ"
      }
    },
    {
      "cell_type": "markdown",
      "source": [
        "Para evitar el filtrado de información realiza ahora la misma transformación del ejercicio 5\n",
        "anterior a la(s) misma(s) variable(s) en los conjuntos de validación y de prueba."
      ],
      "metadata": {
        "id": "AkRWw9x1Em_Q"
      }
    },
    {
      "cell_type": "code",
      "source": [
        "# Función para agrupar niveles bajos en \"Otros\"\n",
        "def agrupar_niveles_bajos_en_otros(serie, umbral=0.03):\n",
        "    value_counts = serie.value_counts(normalize=True)\n",
        "    low_info_levels = value_counts[value_counts < umbral]\n",
        "    if not low_info_levels.empty:\n",
        "        niveles_bajos = low_info_levels.index.tolist()\n",
        "        serie.replace(niveles_bajos, 'Otros', inplace=True)\n",
        "\n",
        "# Aplica la transformación a los conjuntos de entrenamiento, validación y prueba\n",
        "conjuntos = [X_train, X_val, X_test]\n",
        "for conjunto in conjuntos:\n",
        "    for var in variables_to_analyze:\n",
        "        agrupar_niveles_bajos_en_otros(conjunto[var])\n",
        "\n",
        "# Verifica los resultados\n",
        "for conjunto, nombre_conjunto in zip([X_train, X_val, X_test], ['Entrenamiento', 'Validación', 'Prueba']):\n",
        "    print(f\"Niveles de las variables categóricas en el conjunto de {nombre_conjunto}:\")\n",
        "    for var in variables_to_analyze:\n",
        "        print(f\"{var}:\\n{conjunto[var].value_counts(normalize=True)}\\n\")\n"
      ],
      "metadata": {
        "colab": {
          "base_uri": "https://localhost:8080/"
        },
        "id": "viiJcvZIQ7M9",
        "outputId": "4a996e0e-9c0d-42b1-9038-7710bab46e88"
      },
      "execution_count": 28,
      "outputs": [
        {
          "output_type": "stream",
          "name": "stdout",
          "text": [
            "Niveles de las variables categóricas en el conjunto de Entrenamiento:\n",
            "status:\n",
            "4    0.398571\n",
            "1    0.271429\n",
            "2    0.268571\n",
            "3    0.061429\n",
            "Name: status, dtype: float64\n",
            "\n",
            "credit_history:\n",
            "2    0.530000\n",
            "4    0.291429\n",
            "3    0.091429\n",
            "1    0.048571\n",
            "0    0.038571\n",
            "Name: credit_history, dtype: float64\n",
            "\n",
            "purpose:\n",
            "3        0.284286\n",
            "0        0.227143\n",
            "2        0.162857\n",
            "1        0.117143\n",
            "9        0.100000\n",
            "Otros    0.062857\n",
            "6        0.045714\n",
            "Name: purpose, dtype: float64\n",
            "\n",
            "savings:\n",
            "1    0.611429\n",
            "5    0.184286\n",
            "2    0.104286\n",
            "3    0.060000\n",
            "4    0.040000\n",
            "Name: savings, dtype: float64\n",
            "\n",
            "personal_status_sex:\n",
            "3    0.562857\n",
            "2    0.292857\n",
            "4    0.085714\n",
            "1    0.058571\n",
            "Name: personal_status_sex, dtype: float64\n",
            "\n",
            "other_debtors:\n",
            "1    0.911429\n",
            "3    0.048571\n",
            "2    0.040000\n",
            "Name: other_debtors, dtype: float64\n",
            "\n",
            "other_installment_plans:\n",
            "3    0.815714\n",
            "1    0.135714\n",
            "2    0.048571\n",
            "Name: other_installment_plans, dtype: float64\n",
            "\n",
            "housing:\n",
            "2    0.721429\n",
            "1    0.162857\n",
            "3    0.115714\n",
            "Name: housing, dtype: float64\n",
            "\n",
            "employment_duration:\n",
            "3    0.347143\n",
            "5    0.257143\n",
            "4    0.164286\n",
            "2    0.164286\n",
            "1    0.067143\n",
            "Name: employment_duration, dtype: float64\n",
            "\n",
            "installment_rate:\n",
            "4    0.477143\n",
            "2    0.232857\n",
            "3    0.162857\n",
            "1    0.127143\n",
            "Name: installment_rate, dtype: float64\n",
            "\n",
            "present_residence:\n",
            "4    0.414286\n",
            "2    0.314286\n",
            "3    0.148571\n",
            "1    0.122857\n",
            "Name: present_residence, dtype: float64\n",
            "\n",
            "property:\n",
            "3    0.341429\n",
            "1    0.271429\n",
            "2    0.227143\n",
            "4    0.160000\n",
            "Name: property, dtype: float64\n",
            "\n",
            "number_credits:\n",
            "1        0.625714\n",
            "2        0.340000\n",
            "3        0.030000\n",
            "Otros    0.004286\n",
            "Name: number_credits, dtype: float64\n",
            "\n",
            "job:\n",
            "3        0.641429\n",
            "2        0.174286\n",
            "4        0.160000\n",
            "Otros    0.024286\n",
            "Name: job, dtype: float64\n",
            "\n",
            "Niveles de las variables categóricas en el conjunto de Validación:\n",
            "status:\n",
            "4    0.360000\n",
            "1    0.313333\n",
            "2    0.266667\n",
            "3    0.060000\n",
            "Name: status, dtype: float64\n",
            "\n",
            "credit_history:\n",
            "2    0.513333\n",
            "4    0.300000\n",
            "3    0.086667\n",
            "0    0.053333\n",
            "1    0.046667\n",
            "Name: credit_history, dtype: float64\n",
            "\n",
            "purpose:\n",
            "2        0.260000\n",
            "3        0.233333\n",
            "0        0.233333\n",
            "9        0.086667\n",
            "1        0.073333\n",
            "6        0.060000\n",
            "Otros    0.053333\n",
            "Name: purpose, dtype: float64\n",
            "\n",
            "savings:\n",
            "1    0.666667\n",
            "5    0.140000\n",
            "2    0.086667\n",
            "4    0.060000\n",
            "3    0.046667\n",
            "Name: savings, dtype: float64\n",
            "\n",
            "personal_status_sex:\n",
            "3    0.526667\n",
            "2    0.306667\n",
            "4    0.133333\n",
            "1    0.033333\n",
            "Name: personal_status_sex, dtype: float64\n",
            "\n",
            "other_debtors:\n",
            "1    0.886667\n",
            "3    0.066667\n",
            "2    0.046667\n",
            "Name: other_debtors, dtype: float64\n",
            "\n",
            "other_installment_plans:\n",
            "3    0.833333\n",
            "1    0.120000\n",
            "2    0.046667\n",
            "Name: other_installment_plans, dtype: float64\n",
            "\n",
            "housing:\n",
            "2    0.666667\n",
            "1    0.240000\n",
            "3    0.093333\n",
            "Name: housing, dtype: float64\n",
            "\n",
            "employment_duration:\n",
            "3    0.320000\n",
            "5    0.253333\n",
            "4    0.200000\n",
            "2    0.180000\n",
            "1    0.046667\n",
            "Name: employment_duration, dtype: float64\n",
            "\n",
            "installment_rate:\n",
            "4    0.453333\n",
            "2    0.240000\n",
            "1    0.153333\n",
            "3    0.153333\n",
            "Name: installment_rate, dtype: float64\n",
            "\n",
            "present_residence:\n",
            "4    0.440000\n",
            "2    0.246667\n",
            "3    0.200000\n",
            "1    0.113333\n",
            "Name: present_residence, dtype: float64\n",
            "\n",
            "property:\n",
            "3    0.306667\n",
            "1    0.306667\n",
            "2    0.233333\n",
            "4    0.153333\n",
            "Name: property, dtype: float64\n",
            "\n",
            "number_credits:\n",
            "1        0.633333\n",
            "2        0.333333\n",
            "Otros    0.033333\n",
            "Name: number_credits, dtype: float64\n",
            "\n",
            "job:\n",
            "3        0.573333\n",
            "2        0.273333\n",
            "4        0.126667\n",
            "Otros    0.026667\n",
            "Name: job, dtype: float64\n",
            "\n",
            "Niveles de las variables categóricas en el conjunto de Prueba:\n",
            "status:\n",
            "4    0.406667\n",
            "2    0.273333\n",
            "1    0.246667\n",
            "3    0.073333\n",
            "Name: status, dtype: float64\n",
            "\n",
            "credit_history:\n",
            "2    0.546667\n",
            "4    0.293333\n",
            "3    0.073333\n",
            "1    0.053333\n",
            "0    0.033333\n",
            "Name: credit_history, dtype: float64\n",
            "\n",
            "purpose:\n",
            "3        0.306667\n",
            "0        0.266667\n",
            "2        0.186667\n",
            "9        0.093333\n",
            "1        0.066667\n",
            "6        0.060000\n",
            "Otros    0.020000\n",
            "Name: purpose, dtype: float64\n",
            "\n",
            "savings:\n",
            "1    0.500000\n",
            "5    0.220000\n",
            "2    0.113333\n",
            "3    0.093333\n",
            "4    0.073333\n",
            "Name: savings, dtype: float64\n",
            "\n",
            "personal_status_sex:\n",
            "3        0.500000\n",
            "2        0.393333\n",
            "4        0.080000\n",
            "Otros    0.026667\n",
            "Name: personal_status_sex, dtype: float64\n",
            "\n",
            "other_debtors:\n",
            "1    0.906667\n",
            "3    0.053333\n",
            "2    0.040000\n",
            "Name: other_debtors, dtype: float64\n",
            "\n",
            "other_installment_plans:\n",
            "3    0.786667\n",
            "1    0.173333\n",
            "2    0.040000\n",
            "Name: other_installment_plans, dtype: float64\n",
            "\n",
            "housing:\n",
            "2    0.726667\n",
            "1    0.193333\n",
            "3    0.080000\n",
            "Name: housing, dtype: float64\n",
            "\n",
            "employment_duration:\n",
            "3    0.320000\n",
            "5    0.233333\n",
            "2    0.200000\n",
            "4    0.193333\n",
            "1    0.053333\n",
            "Name: employment_duration, dtype: float64\n",
            "\n",
            "installment_rate:\n",
            "4    0.493333\n",
            "2    0.213333\n",
            "1    0.160000\n",
            "3    0.133333\n",
            "Name: installment_rate, dtype: float64\n",
            "\n",
            "present_residence:\n",
            "4    0.38\n",
            "2    0.34\n",
            "1    0.18\n",
            "3    0.10\n",
            "Name: present_residence, dtype: float64\n",
            "\n",
            "property:\n",
            "3    0.313333\n",
            "1    0.306667\n",
            "2    0.253333\n",
            "4    0.126667\n",
            "Name: property, dtype: float64\n",
            "\n",
            "number_credits:\n",
            "1        0.666667\n",
            "2        0.300000\n",
            "Otros    0.033333\n",
            "Name: number_credits, dtype: float64\n",
            "\n",
            "job:\n",
            "3        0.633333\n",
            "2        0.246667\n",
            "4        0.113333\n",
            "Otros    0.006667\n",
            "Name: job, dtype: float64\n",
            "\n"
          ]
        }
      ]
    },
    {
      "cell_type": "markdown",
      "source": [
        "Aproximadamente el 28.43% de los registros en el conjunto de entrenamiento tienen 'purpose' igual a 3, aproximadamente el 22.71% tienen 'purpose' igual a 0, y así sucesivamente."
      ],
      "metadata": {
        "id": "J5wMfPF0Eq1I"
      }
    },
    {
      "cell_type": "markdown",
      "source": [
        "## **Ejercicio 9**"
      ],
      "metadata": {
        "id": "MQxc3jxslJp7"
      }
    },
    {
      "cell_type": "code",
      "source": [
        "#\tDefine una lista que incluya solamente las variables de entrada que identificaste\n",
        "# como ordinales en el ejercicio 3 y otra para las numéricas. La llamaremos\n",
        "# “lista_Xord” y \"lista_Xnum\" y la usaremos para visualizar su información:\n",
        "\n",
        "# ************* Inlcuye aquí tu código:*****************************\n",
        "\n",
        "# Lista de variables ordinales\n",
        "lista_Xord = ['employment_duration', 'installment_rate', 'present_residence', 'property', 'number_credits', 'job']\n",
        "\n",
        "# Lista de variables numéricas\n",
        "lista_Xnum = ['duration', 'amount', 'age']\n",
        "\n",
        "\n",
        "\n",
        "# *********** Aquí termina la sección de agregar código *************"
      ],
      "metadata": {
        "id": "RZi8RWbMETU_"
      },
      "execution_count": 29,
      "outputs": []
    },
    {
      "cell_type": "code",
      "source": [
        "# Visualizamos la información de las variables ordinales en gráficos de barra\n",
        "# a partir de la lista que definiste arriba y solo del conjunto de\n",
        "# entrenamiento para evitar el filtrado de información:\n",
        "import seaborn as sns\n",
        "import matplotlib.pyplot as plt\n",
        "\n",
        "sns.set(rc={'figure.figsize':(14,6)})\n",
        "fig, axes = plt.subplots(2,4)\n",
        "for k, w in enumerate(lista_Xord):\n",
        "    plt.subplot(2,4,k+1)\n",
        "    sns.barplot(x=X_train[w].value_counts().index, y=X_train[w].value_counts())\n",
        "    plt.title(w)\n",
        "plt.tight_layout()\n",
        "plt.show()\n",
        "# NOTA: No tienen que ser 8 los gráficos, si definiste como ordinales una\n",
        "#       cantidad menor, pueden aparecer algunos de los nichos sin gráfico.\n",
        "#       Recuerda que algunas variables pueden considerarse de un tipo u otro\n",
        "#       de acuerdo al criterio del analista."
      ],
      "metadata": {
        "colab": {
          "base_uri": "https://localhost:8080/",
          "height": 601
        },
        "id": "1jJGaprPSx8h",
        "outputId": "7e5c1715-7a71-40e1-f493-29f6ff40bfed"
      },
      "execution_count": 30,
      "outputs": [
        {
          "output_type": "display_data",
          "data": {
            "text/plain": [
              "<Figure size 1400x600 with 8 Axes>"
            ],
            "image/png": "[encoded data removed]"
          },
          "metadata": {}
        }
      ]
    },
    {
      "cell_type": "code",
      "source": [
        "# Visualizamos la información de las variables numéricas en histogramas\n",
        "# a partir de la lista que definiste arriba, y solo del conjunto de\n",
        "# entrenamiento para evitar el filtrado de información:\n",
        "\n",
        "sns.set(rc={'figure.figsize':(12,3)})\n",
        "fig, axes = plt.subplots(1,4)\n",
        "tmp = X_train[lista_Xnum]\n",
        "for k in range(0,3):\n",
        "  plt.subplot(1,4,k+1)\n",
        "  plt.hist(tmp[tmp.columns[k]])\n",
        "  xlabels = list(tmp.value_counts().index)\n",
        "  plt.xlabel(tmp.columns[k])\n",
        "plt.show()\n",
        "\n",
        "\n",
        "# NOTA: No tienen que ser 4 los gráficos, si definiste como numéricas una\n",
        "#       cantidad menor, pueden aparecer algunos de los nichos sin gráfico.\n",
        "#       Recuerda que algunas variables pueden considerarse de un tipo u otro\n",
        "#       de acuerdo al criterio del analista."
      ],
      "metadata": {
        "id": "anivCJGNETHg",
        "colab": {
          "base_uri": "https://localhost:8080/",
          "height": 325
        },
        "outputId": "3e3a36d7-c0d0-48be-ecec-9561fc558856"
      },
      "execution_count": 31,
      "outputs": [
        {
          "output_type": "display_data",
          "data": {
            "text/plain": [
              "<Figure size 1200x300 with 4 Axes>"
            ],
            "image/png": "[encoded data removed]"
          },
          "metadata": {}
        }
      ]
    },
    {
      "cell_type": "markdown",
      "source": [
        "### **¿Qué conclusiones puedes obtener de estos gráficos?**\n",
        "\n",
        "**Para las variables numéricas, observamos las siguientes características:**\n",
        "\n",
        "1. Duration: La duración de los créditos muestra una distribución sesgada hacia la izquierda, lo que indica que la mayoría de los créditos tienen plazos más cortos.\n",
        "\n",
        "2. Amount: La cantidad del crédito también está sesgada a la izquierda, lo que sugiere que la mayoría de los créditos son de montos menores.\n",
        "\n",
        "3. Age: La edad de los solicitantes parece tener una distribución más bien bimodal, con picos en los rangos más jóvenes y una tendencia a disminuir a medida que aumenta la edad.\n",
        "\n",
        "**Para las variables ordinales:**\n",
        "\n",
        "1. Employment Duration: La duración del empleo parece tener una distribución relativamente uniforme, con una ligera tendencia hacia empleos de menor duración.\n",
        "\n",
        "2. Installment Rate: La tasa de cuotas tiene una clara preferencia por valores más altos, lo que podría indicar una tendencia a tener mayores porcentajes de pago en relación con los ingresos disponibles.\n",
        "\n",
        "3. Present Residence: El tiempo de residencia actual muestra una preferencia por períodos más largos, lo que sugiere que muchos solicitantes han vivido en su residencia actual durante un tiempo considerable.\n",
        "\n",
        "4. Property: Parece haber una distribución bastante uniforme en la propiedad más valiosa del deudor, lo que indica una diversidad en los tipos de propiedad.\n",
        "\n",
        "5. Number of Credits: La mayoría de los solicitantes parece tener pocos créditos en el banco, lo cual es común en la población general.\n",
        "\n",
        "6. Job: Hay una preferencia por ciertos tipos de trabajos, lo que podría reflejar las condiciones económicas o el mercado laboral en la región de los datos\n"
      ],
      "metadata": {
        "id": "pBhxO9XmsaBP"
      }
    },
    {
      "cell_type": "markdown",
      "source": [
        "# **Ejercicio 10**"
      ],
      "metadata": {
        "id": "63CIn6Wbsd1l"
      }
    },
    {
      "cell_type": "code",
      "source": [
        "# Como primera aproximación encuentra qué transformación ajusta mejor los\n",
        "# datos para corregir el sesgo de las variables numéricas. Deberás seleccionar\n",
        "# una entre las funciones de Numpy de logaritmo, log(), o alguna de las\n",
        "# potencias, power(), únicamente.\n",
        "# Por el momento no aplicaremos una transformación para escalar los datos.\n",
        "\n",
        "import numpy as np\n",
        "import seaborn as sns\n",
        "import matplotlib.pyplot as plt\n",
        "import pandas as pd\n",
        "\n",
        "# Primero, definimos las variables numéricas en base a tu conjunto de datos\n",
        "numeric_vars = ['duration', 'amount', 'age']\n",
        "\n",
        "# Creamos una copia de X_train para aplicar las transformaciones\n",
        "tmpTransf = X_train.copy()\n",
        "\n",
        "# Aplicamos las transformaciones: raíz cuadrada y logaritmo\n",
        "for col in numeric_vars:\n",
        "    # Aplicamos raíz cuadrada, asegurándonos de manejar solo valores positivos\n",
        "    tmpTransf[col + '_sqrt'] = tmpTransf[col].apply(lambda x: np.sqrt(x) if x > 0 else 0)\n",
        "    # Aplicamos logaritmo, sumando 1 para evitar el logaritmo de cero\n",
        "    tmpTransf[col + '_log'] = tmpTransf[col].apply(lambda x: np.log(x + 1))\n",
        "\n",
        "# Configuramos el tamaño de la figura para la visualización\n",
        "sns.set(rc={'figure.figsize':(15, 10)})\n",
        "\n",
        "# Creamos subplots para cada transformación\n",
        "fig, axes = plt.subplots(len(numeric_vars), 2)\n",
        "\n",
        "for i, col in enumerate(numeric_vars):\n",
        "    # Visualización de la distribución original\n",
        "    sns.histplot(X_train[col], kde=True, ax=axes[i, 0]).set_title(f'Original {col}')\n",
        "    # Visualización de la distribución después de aplicar raíz cuadrada\n",
        "    sns.histplot(tmpTransf[col + '_sqrt'], kde=True, ax=axes[i, 1], color='orange').set_title(f'Sqrt {col}')\n",
        "    # Si deseas incluir la visualización del logaritmo, necesitarías ajustar el número de columnas en subplots y agregar la visualización aquí\n",
        "\n",
        "plt.tight_layout()\n",
        "plt.show()\n",
        "\n",
        "# NOTA: No tienen que ser 4 los gráficos, si definiste como numéricas una\n",
        "#       cantidad menor, pueden aparecer algunos de los nichos sin gráfico.\n",
        "#       Recuerda que algunas variables pueden considerarse de un tipo u otro\n",
        "#       de acuerdo al criterio del analista."
      ],
      "metadata": {
        "colab": {
          "base_uri": "https://localhost:8080/",
          "height": 1000
        },
        "id": "hmZF3FEkUg41",
        "outputId": "50d7a5c5-114c-4057-c8bf-10c798e77618"
      },
      "execution_count": 32,
      "outputs": [
        {
          "output_type": "display_data",
          "data": {
            "text/plain": [
              "<Figure size 1500x1000 with 6 Axes>"
            ],
            "image/png": "[encoded data removed]"
          },
          "metadata": {}
        }
      ]
    },
    {
      "cell_type": "markdown",
      "source": [
        "### **¿Sí conviene aplicar alguna de estas transformaciones? Justifica tu respuesta.**\n",
        "\n",
        "Duración (duration):\n",
        "\n",
        "Original: Presenta un sesgo positivo con varios picos, lo cual puede ser indicativo de distintos grupos o tipos de créditos.\n",
        "Transformada (Sqrt): La transformación de raíz cuadrada parece suavizar el sesgo y los picos, resultando en una distribución que se aproxima más a una normal.\n",
        "Cantidad (amount):\n",
        "\n",
        "Original: Muestra un sesgo positivo pronunciado, con la mayoría de los valores concentrados en el extremo inferior de la escala.\n",
        "Transformada (Sqrt): La raíz cuadrada reduce notablemente el sesgo, acercando la distribución a una forma más simétrica y reduciendo la influencia de valores extremos altos.\n",
        "Edad (age):\n",
        "\n",
        "Original: Tiene una distribución que parece ser bimodal o al menos con múltiples picos.\n",
        "Transformada (Sqrt): La transformación suaviza ligeramente la distribución, pero aún se pueden observar múltiples picos, lo que sugiere que la raíz cuadrada no es suficiente para normalizar completamente esta variable.\n",
        "\n",
        "\n",
        "En general, la aplicación de una transformación de raíz cuadrada es efectiva para corregir el sesgo en las distribuciones de 'duration' y 'amount', haciéndolas más simétricas y potencialmente mejorando el desempeño de los algoritmos de aprendizaje automático que asumen o se benefician de la normalidad de las distribuciones de las variables de entrada.\n",
        "\n",
        "La justificación para aplicar estas transformaciones radica en mejorar la linealidad de las relaciones y la estabilidad de las varianzas, lo cual es particularmente importante para modelos lineales y métodos basados en distancias. También ayuda a mitigar el impacto de los valores atípicos. Sin embargo, es crucial recordar que mientras estas transformaciones pueden mejorar el desempeño de ciertos modelos, también pueden dificultar la interpretación directa de los coeficientes del modelo y la importancia de las características."
      ],
      "metadata": {
        "id": "z0wPwC8iuOal"
      }
    },
    {
      "cell_type": "markdown",
      "source": [
        "# **Parte II : Entrenamiento de los modelos**"
      ],
      "metadata": {
        "id": "TzDWvMEPui0f"
      }
    },
    {
      "cell_type": "markdown",
      "metadata": {
        "id": "UJokj9Diyeu0"
      },
      "source": [
        "## **Ejercicio 11**"
      ]
    },
    {
      "cell_type": "code",
      "source": [
        "# Conjuntamos todas las transformaciones que aplicaremos a nuestras variables\n",
        "# usando la clase Pipeline y el ColumnTransformer de sklearn, , donde las\n",
        "# variables ordinales las dejaremos sin transformar.\n",
        "\n",
        "\n",
        "\n",
        "# ************* Inlcuye aquí tu código:**************************************\n",
        "from sklearn.compose import ColumnTransformer\n",
        "from sklearn.pipeline import Pipeline\n",
        "from sklearn.preprocessing import FunctionTransformer, OneHotEncoder\n",
        "\n",
        "# Definir una transformación de raíz cuadrada para las variables numéricas\n",
        "def sqrt_transform(X):\n",
        "    # Asegurarse de no tener valores negativos\n",
        "    X = np.where(X < 0, 0, X)\n",
        "    return np.sqrt(X)\n",
        "\n",
        "# a) Crear un pipeline para las transformaciones numéricas\n",
        "num_pipe = Pipeline(steps=[\n",
        "    ('sqrt_transform', FunctionTransformer(sqrt_transform, validate=False))\n",
        "])\n",
        "num_pipe_nombres = ['duration', 'amount', 'age']  # Lista de variables numéricas\n",
        "\n",
        "# b) Crear un pipeline para las transformaciones categóricas con OneHotEncoder\n",
        "cat_pipe = Pipeline(steps=[\n",
        "    ('one_hot_encoder', OneHotEncoder(handle_unknown='ignore', drop='first'))\n",
        "])\n",
        "cat_pipe_nombres = [\n",
        "    'status', 'credit_history', 'purpose', 'savings',\n",
        "    'personal_status_sex', 'other_debtors', 'other_installment_plans', 'housing'\n",
        "]  # Lista de variables categóricas\n",
        "\n",
        "# Combinar todas las transformaciones utilizando ColumnTransformer\n",
        "# Las variables ordinales se dejan sin transformar y se pasan a través del parámetro 'remainder'\n",
        "columnasTransformer = ColumnTransformer(transformers=[\n",
        "    ('num_transf', num_pipe, num_pipe_nombres),\n",
        "    ('cat_transf', cat_pipe, cat_pipe_nombres)\n",
        "], remainder='passthrough')\n",
        "\n",
        "\n"
      ],
      "metadata": {
        "id": "o-x8IA3e-NTf"
      },
      "execution_count": 33,
      "outputs": []
    },
    {
      "cell_type": "code",
      "source": [
        "# Veamos cuántas variables de más se están agragando por la transformación OneHotEncoder:\n",
        "\n",
        "Xtmp = Xtrain.copy()\n",
        "tmp = columnasTransformer.fit_transform(Xtmp)\n",
        "print(\"Dimensión antes de las transformaciones:\", Xtmp.shape)\n",
        "print(\"Dimensión después de las transformaciones:\", tmp.shape)"
      ],
      "metadata": {
        "id": "Im92o7ft0V0Q",
        "colab": {
          "base_uri": "https://localhost:8080/",
          "height": 211
        },
        "outputId": "fa816471-84de-486f-dac2-7ca445cd825e"
      },
      "execution_count": 34,
      "outputs": [
        {
          "output_type": "error",
          "ename": "TypeError",
          "evalue": "'DataFrame' object is not callable",
          "traceback": [
            "\u001b[0;31m---------------------------------------------------------------------------\u001b[0m",
            "\u001b[0;31mTypeError\u001b[0m                                 Traceback (most recent call last)",
            "\u001b[0;32m<ipython-input-34-9721b2abf347>\u001b[0m in \u001b[0;36m<cell line: 3>\u001b[0;34m()\u001b[0m\n\u001b[1;32m      1\u001b[0m \u001b[0;31m# Veamos cuántas variables de más se están agragando por la transformación OneHotEncoder:\u001b[0m\u001b[0;34m\u001b[0m\u001b[0;34m\u001b[0m\u001b[0m\n\u001b[1;32m      2\u001b[0m \u001b[0;34m\u001b[0m\u001b[0m\n\u001b[0;32m----> 3\u001b[0;31m \u001b[0mXtmp\u001b[0m \u001b[0;34m=\u001b[0m \u001b[0mtmpTransf\u001b[0m\u001b[0;34m(\u001b[0m\u001b[0;34m)\u001b[0m\u001b[0;34m\u001b[0m\u001b[0;34m\u001b[0m\u001b[0m\n\u001b[0m\u001b[1;32m      4\u001b[0m \u001b[0mtmp\u001b[0m \u001b[0;34m=\u001b[0m \u001b[0mcolumnasTransformer\u001b[0m\u001b[0;34m.\u001b[0m\u001b[0mfit_transform\u001b[0m\u001b[0;34m(\u001b[0m\u001b[0mXtmp\u001b[0m\u001b[0;34m)\u001b[0m\u001b[0;34m\u001b[0m\u001b[0;34m\u001b[0m\u001b[0m\n\u001b[1;32m      5\u001b[0m \u001b[0mprint\u001b[0m\u001b[0;34m(\u001b[0m\u001b[0;34m\"Dimensión antes de las transformaciones:\"\u001b[0m\u001b[0;34m,\u001b[0m \u001b[0mXtmp\u001b[0m\u001b[0;34m.\u001b[0m\u001b[0mshape\u001b[0m\u001b[0;34m)\u001b[0m\u001b[0;34m\u001b[0m\u001b[0;34m\u001b[0m\u001b[0m\n",
            "\u001b[0;31mTypeError\u001b[0m: 'DataFrame' object is not callable"
          ]
        }
      ]
    },
    {
      "cell_type": "code",
      "source": [
        "# Como se va a utilizar Validación-Cruzada, concatenamos los conjuntos de entrenamiento\n",
        "# y validación en uno nuevo conjunto aumentado que llamaremos \"trainval\":\n",
        "\n",
        "Xtrainval = pd.concat([Xtrain, Xval], axis=0)\n",
        "ytrainval = pd.concat([ytrain, yval], axis=0)\n",
        "\n",
        "\n",
        "print('Dimensiones de los nuevos datos concatenados sin transformar de entrenamiento de las variables de entrada y salida, respectivamente:\\n',\n",
        "      Xtrainval.shape, ytrainval.shape)"
      ],
      "metadata": {
        "id": "sVK34nBhxhc2"
      },
      "execution_count": null,
      "outputs": []
    },
    {
      "cell_type": "markdown",
      "source": [
        "# **Ejercicio 12**"
      ],
      "metadata": {
        "id": "NbVmSx5y6wdG"
      }
    },
    {
      "cell_type": "markdown",
      "source": [
        "### **Con respecto al caso de un modelo subentrenado y en relación a la información de nuestro problema, responde la siguiente pregunta: ¿debajo de qué valor porcentual podemos decir que nuestro modelo estará subentrenado?**"
      ],
      "metadata": {
        "id": "vlGK19fx6zW4"
      }
    },
    {
      "cell_type": "markdown",
      "source": [
        "\n",
        "### ++++++++ Inicia la sección de agregar texto: +++++++++++\n",
        "\n",
        "None\n",
        "\n",
        "### ++++++++ Termina la sección de agregar texto. +++++++++++"
      ],
      "metadata": {
        "id": "D8wbS_KM61rY"
      }
    },
    {
      "cell_type": "markdown",
      "source": [
        "# **Ejercicio 13**"
      ],
      "metadata": {
        "id": "iOMu4Xe565Gn"
      }
    },
    {
      "cell_type": "code",
      "source": [
        "# Definimos a continuación la función que llamamos \"mis_modelos\" que incluye\n",
        "# todos los modelos que deseamos comparar en el ejercicio.\n",
        "# Por el momento todas tienen sus argumentos predeterminados, pero deberás\n",
        "# ajustarlos de manera que todos los modelos converjan durante el entrenamiento\n",
        "# y puedas comparar cuál o cuáles de ellos son los mejores modelos.Verifica\n",
        "# además de que no queden subenetrenados o sobreentrenados con respecto a la\n",
        "# métrica de la Exactitud (Accuracy).\n",
        "# Te recomiendo que en todos aquellos modelos que tengan la opción\n",
        "# del \"random_state\", lo utilices. Esto ayudará a que la variabilidad que se\n",
        "# observe sea en lo posible, debida solamente al ajuste que estemos realizando\n",
        "# en algún hiperparámetro y no por el proceso aleatorio en sí del entrenamiento.\n",
        "# Consulta en dado caso la documentación de cada modelo para la mejor\n",
        "# comprensión de los hiperparámetros que desees ajustar.\n",
        "\n",
        "def mis_modelos():\n",
        "  modelos, nombres = list(), list()\n",
        "\n",
        "\n",
        "  # ************* Inlcuye aquí tu código:**************************\n",
        "  #\n",
        "\n",
        "  # Regresión Logística:\n",
        "  modelos.append(LogisticRegression( ))\n",
        "  nombres.append('LR')\n",
        "\n",
        "\n",
        "  # k-Vecinos más Cercanos:\n",
        "  modelos.append(KNeighborsClassifier( ))\n",
        "  nombres.append('kNN')\n",
        "\n",
        "\n",
        "  # Árbol de decisiones:\n",
        "  modelos.append(DecisionTreeClassifier( ))\n",
        "  nombres.append('DTree')\n",
        "\n",
        "\n",
        "  # Bosque Aleatorio:\n",
        "  modelos.append(RandomForestClassifier( ))\n",
        "  nombres.append('RF')\n",
        "\n",
        "\n",
        "  # XGBoosting:\n",
        "  modelos.append(XGBClassifier( ))\n",
        "  nombres.append('XGBoost')\n",
        "\n",
        "\n",
        "  # Red neuronal de Perceptrón Multicapa:\n",
        "  modelos.append(MLPClassifier( ))\n",
        "  nombres.append('MLP')\n",
        "\n",
        "\n",
        "  # Máquina de Vectores de Soporte:\n",
        "  modelos.append(SVC( ))\n",
        "  nombres.append('SVM')\n",
        "\n",
        "  # *********** Aquí termina la sección de agregar código *************\n",
        "\n",
        "\n",
        "  return modelos, nombres\n",
        "\n",
        "\n",
        "\n",
        "\n",
        "\n",
        "# Entrenamos cada uno de los modelos y desplegamos la métricas de Train y Val.\n",
        "# NOTA: Observa que el método de Validación-Cruzada llama a los resultados\n",
        "#       del conjunto de validación como \"test\":\n",
        "\n",
        "modelos, nombres = mis_modelos()\n",
        "resultados = list()\n",
        "\n",
        "for i in range(len(modelos)):\n",
        "\n",
        "  # Definimos nuestro pipeline con las transformaciones y los modelos:\n",
        "  pipeline = Pipeline(steps=[('ct',columnasTransformer),('m',modelos[i])])\n",
        "\n",
        "  # Aplicaremos validación-cruzada:\n",
        "  micv = RepeatedStratifiedKFold(n_splits=5, n_repeats=3,random_state=5)\n",
        "\n",
        "  # Definimos las métricas que desamos recuperar:\n",
        "  mismetricas = {'accuracy','precision','recall','f1','roc_auc'}\n",
        "\n",
        "  # Llevamos a cabo el entrenamiento:\n",
        "  scores = cross_validate(pipeline,\n",
        "                          Xtrainval,\n",
        "                          ytrainval,\n",
        "                          scoring=mismetricas,\n",
        "                          cv=micv,\n",
        "                          return_train_score=True,\n",
        "                          )\n",
        "\n",
        "  # Guardemos el resultado de cada modelo para análisis posteriores.\n",
        "  resultados.append(scores)\n",
        "\n",
        "  # Desplegamos los valores de las métricas para verificar si no hay\n",
        "  # subentrenamiento o sobreentrenamiento:\n",
        "  print('>> %s' % nombres[i])\n",
        "  for j,k in enumerate(list(scores.keys())):\n",
        "    if j>1:\n",
        "      print('\\t %s %.3f (%.3f)' % (k, np.nanmean(scores[k]),np.nanstd(scores[k])))\n"
      ],
      "metadata": {
        "id": "I03kh3lv64zw"
      },
      "execution_count": null,
      "outputs": []
    },
    {
      "cell_type": "markdown",
      "source": [
        "## **Ejercicio 14**"
      ],
      "metadata": {
        "id": "rdU8uFJaDYui"
      }
    },
    {
      "cell_type": "markdown",
      "source": [
        "### **De acuerdo a la información del problema, se tiene una matriz de costo que pondera diferente los Falsos Positivos y los Falsos Negativos.**\n",
        "\n",
        "### **De acuerdo a la información de dicha matriz de costo, contesta las siguientes preguntas:**\n"
      ],
      "metadata": {
        "id": "YJ_ToSuODcIq"
      }
    },
    {
      "cell_type": "markdown",
      "source": [
        "\n",
        "### ++++++++ Inicia la sección de agregar texto: +++++++++++\n",
        "\n",
        "\n",
        "*   a.\t¿Qué error se considera que es el más costoso por parte del banco? ¿FP o FN? Justifica tu respuesta.\n",
        "\n",
        "NOTA: Considera el etiquetado de las clases de acuerdo a nuestro problema.\n",
        "\n",
        "*   b.\t¿Cuál o cuáles sería entonces la métrica o métricas a considerar como más importantes?\n",
        "\n",
        "\n",
        "### ++++++++ Termina la sección de agregar texto. +++++++++++"
      ],
      "metadata": {
        "id": "WBkwvjJbaTl1"
      }
    },
    {
      "cell_type": "markdown",
      "source": [
        "# **Ejercicio 15**"
      ],
      "metadata": {
        "id": "MOZwC7QID7hg"
      }
    },
    {
      "cell_type": "code",
      "source": [
        "# Obtener un diagrama de caja y bigotes (boxplot) múltiple de todos los modelos\n",
        "# y los resultados de los conjuntos de validación, con respecto a la métrica que\n",
        "# consideraste más importante en el ejercicio anterior. Para ello proporciona el\n",
        "# nombre (string) de la métrica del conjunto de validación que consideraste más\n",
        "# importante en el ejercicio anterior.\n",
        "\n",
        "# ************* Inlcuye aquí tu código:**************************\n",
        "\n",
        "str_mejor_metrica = None\n",
        "\n",
        "# *********** Aquí termina la sección de agregar código *************\n",
        "\n",
        "\n",
        "\n",
        "sns.set(rc={'figure.figsize':(8,4)})\n",
        "databox = [resultados[j][str_mejor_metrica] for j in range(len(resultados))]\n",
        "\n",
        "\n",
        "plt.boxplot(databox, labels=nombres, showmeans=True)\n",
        "plt.show()\n"
      ],
      "metadata": {
        "id": "bhIodcjTDbdP"
      },
      "execution_count": null,
      "outputs": []
    },
    {
      "cell_type": "markdown",
      "source": [
        "# **Ejercicio 16**"
      ],
      "metadata": {
        "id": "Cuwm4cerEi7z"
      }
    },
    {
      "cell_type": "code",
      "source": [
        "# A partir de los mejores hiperparámetros obtenidos en el ejercicio anterior,\n",
        "# selecciona el modelo de balanceo que consideres da el mejor desempeño.\n",
        "# Deberás seleccionar entre el SMOTE, TomekLinks y SMOTEENN de ImbalancedLearn.\n",
        "# Prueba cada uno de estos métodos de muestreo y/o submuestreo para que veas el\n",
        "# desempeño de cada uno de ellos, pero al final solamente debes dejar en tu\n",
        "# código el que consideraste que te dio el mejor desempeño con respecto a la\n",
        "# métrica que seleccionaste en el ejercicio 14.\n",
        "\n",
        "\n",
        "\n",
        "# ************* Inlcuye aquí tu código:**************************\n",
        "\n",
        "metodo_underoversampling = None\n",
        "Xtv_uosamp, ytv_uosamp = None\n",
        "\n",
        "# *********** Aquí termina la sección de agregar código *************\n",
        "\n",
        "\n",
        "\n",
        "\n",
        "modelos, nombres = mis_modelos()\n",
        "resultados = list()\n",
        "\n",
        "for i in range(len(modelos)):\n",
        "\n",
        "  # Definimos nuestro pipeline con las transformaciones y los modelos:\n",
        "  pipeline = Pipeline(steps=[('ct',columnasTransformer),('m',modelos[i])])\n",
        "\n",
        "  # Aplicaremos validación-cruzada:\n",
        "  micv = RepeatedStratifiedKFold(n_splits=5, n_repeats=3,\n",
        "                                 random_state=5\n",
        "                                 )\n",
        "\n",
        "\n",
        "  # Definimos las métricas que desamos recuperar:\n",
        "  mismetricas = {'accuracy','precision','recall','f1','roc_auc'}\n",
        "\n",
        "  # Llevamos a cabo el entrenamiento:\n",
        "  scores = cross_validate(pipeline,\n",
        "                          Xtv_uosamp,\n",
        "                          ytv_uosamp,\n",
        "                          scoring=mismetricas,\n",
        "                          cv=micv,\n",
        "                          return_train_score=True,\n",
        "                          )\n",
        "\n",
        "  # Guardemos el resultado de cada modelo para análisis posteriores.\n",
        "  resultados.append(scores)\n",
        "\n",
        "  # Desplegamos los valores de las métricas para verificar si no hay\n",
        "  # subentrenamiento o sobreentrenamiento:\n",
        "  print('>> %s' % nombres[i])\n",
        "  for j,k in enumerate(list(scores.keys())):\n",
        "    if j>1:\n",
        "      print('\\t %s %.3f (%.3f)' % (k, np.mean(scores[k]),np.std(scores[k])))\n",
        "\n"
      ],
      "metadata": {
        "id": "EmGeuumGxhZP"
      },
      "execution_count": null,
      "outputs": []
    },
    {
      "cell_type": "markdown",
      "source": [
        "# **Ejercicio 17**"
      ],
      "metadata": {
        "id": "e7WuUpP4YPbO"
      }
    },
    {
      "cell_type": "code",
      "source": [
        "# Obtener un nuevo diagrama de caja y bigotes múltiple de todos los modelos con\n",
        "# la técnica de submuestreo y/o sobremuestreo que hayas seleccionado, usando los\n",
        "#  resultados de los conjuntos de validación y con respecto a la métrica que has\n",
        "# considerado la mejor:\n",
        "\n",
        "\n",
        "\n",
        "# ************* Inlcuye aquí tu código:******************************\n",
        "\n",
        "None\n",
        "\n",
        "\n",
        "# *********** Aquí termina la sección de agregar código *************\n",
        "\n",
        "\n",
        "plt.show()"
      ],
      "metadata": {
        "id": "DTZS5B7rxhTI"
      },
      "execution_count": null,
      "outputs": []
    },
    {
      "cell_type": "markdown",
      "source": [
        "# **Parte III: Mejor modelo**"
      ],
      "metadata": {
        "id": "xq8BRGd-Y-Ot"
      }
    },
    {
      "cell_type": "markdown",
      "source": [
        "## **Ejercicio 18**"
      ],
      "metadata": {
        "id": "eR5SKJk4Y_Q4"
      }
    },
    {
      "cell_type": "markdown",
      "source": [
        "### **Selecciona y justifica cuál consideras es el mejor modelo que has obtenido hasta ahora, así como la métrica utilizada. Usando solamente este mejor modelo, busca si puedes mejorar el desempeño haciendo un mejor ajuste de los hiperparámetros y usando la métrica que consideraste la más importante para este problema. Verifica que tu modelo no esté sobreentrenado o subentrenado con dicha métrica.**"
      ],
      "metadata": {
        "id": "MnngDLxFZ1r-"
      }
    },
    {
      "cell_type": "markdown",
      "source": [
        "### **Incluye tu justificación de cuál consideras es el mejor modelo que has obtenido hasta ahora.**\n",
        "\n",
        "### ++++++++ Inicia la sección de agregar texto: +++++++++++\n",
        "\n",
        "None\n",
        "\n",
        "### ++++++++ Termina la sección de agregar texto. +++++++++++"
      ],
      "metadata": {
        "id": "URCVEECQZ4t1"
      }
    },
    {
      "cell_type": "code",
      "source": [
        "# Incluye todo el código que consideres necesario para que con el mejor\n",
        "# modelo que tienes hasta ahora, puedas mejorar aún un poco más su\n",
        "# desempeño con respecto a la métrica que estás utilizando:\n",
        "\n",
        "\n",
        "# ************* Inlcuye aquí tu código:**************************\n",
        "\n",
        "None\n",
        "\n",
        "# *********** Aquí termina la sección de agregar código *************"
      ],
      "metadata": {
        "id": "NOy59wpecKQE"
      },
      "execution_count": null,
      "outputs": []
    },
    {
      "cell_type": "markdown",
      "source": [
        "## **Ejercicio 19**"
      ],
      "metadata": {
        "id": "oxKG3mEscBMg"
      }
    },
    {
      "cell_type": "code",
      "source": [
        "# Con el mejor modelo y los mejores hiperparámetros encontrados en el ejercicio\n",
        "# anterior, utiliza ahora (por primera vez en la actividad) el conjunto de\n",
        "# prueba (test set) para:\n",
        "\n",
        "\n",
        "# a.\tObtener la matriz de confusión.\n",
        "\n",
        "\n",
        "# ************* Inlcuye aquí tu código:**************************\n",
        "\n",
        "None\n",
        "\n",
        "\n",
        "# *********** Aquí termina la sección de agregar código *************"
      ],
      "metadata": {
        "id": "tkkayImfxhPe"
      },
      "execution_count": null,
      "outputs": []
    },
    {
      "cell_type": "code",
      "source": [
        "# b.\tEl reporte de todas las métricas con el método “classification_report()” de sklearn.\n",
        "\n",
        "\n",
        "# ************* Inlcuye aquí tu código:**************************\n",
        "\n",
        "None\n",
        "\n",
        "# *********** Aquí termina la sección de agregar código *************"
      ],
      "metadata": {
        "id": "F8ezCwBYxhMW"
      },
      "execution_count": null,
      "outputs": []
    },
    {
      "cell_type": "code",
      "source": [
        "# c.\tRealiza un análisis de importancia de variables (feature importance) de\n",
        "# este mejor modelo con el conjunto de prueba (test), que incluya un gráfico de\n",
        "# barras con la importancia de los factores. Incluye tus conclusiones al\n",
        "# respecto y en particular indica si consideras razonables los factores más\n",
        "# importantes obtenidos.\n",
        "\n",
        "\n",
        "\n",
        "# ************* Inlcuye aquí tu código:**************************\n",
        "\n",
        "None\n",
        "\n",
        "# *********** Aquí termina la sección de agregar código *************"
      ],
      "metadata": {
        "id": "d31mMVXxxhJX"
      },
      "execution_count": null,
      "outputs": []
    },
    {
      "cell_type": "markdown",
      "source": [
        "### **Incluye aquí tus comentarios sobre los factores más importantes obtenidos.**\n",
        "\n",
        "### ++++++++ Inicia la sección de agregar texto: +++++++++++\n",
        "\n",
        "None\n",
        "\n",
        "### ++++++++ Termina la sección de agregar texto. +++++++++++"
      ],
      "metadata": {
        "id": "bvwwpMnAfh7-"
      }
    },
    {
      "cell_type": "markdown",
      "source": [
        "## **Ejercicio 20**"
      ],
      "metadata": {
        "id": "y9TAuq_rgOL4"
      }
    },
    {
      "cell_type": "markdown",
      "source": [
        "### **Reporta tus conclusiones finales de la actividad.**"
      ],
      "metadata": {
        "id": "Uvt41H2pgL_o"
      }
    },
    {
      "cell_type": "markdown",
      "source": [
        "### ++++++++ Inicia la sección de agregar texto: +++++++++++\n",
        "\n",
        "None\n",
        "\n",
        "### ++++++++ Termina la sección de agregar texto. +++++++++++"
      ],
      "metadata": {
        "id": "Mty3k38GgYJn"
      }
    },
    {
      "cell_type": "markdown",
      "source": [
        ">> ### **Fin de la Actividad South German Credit Card.**"
      ],
      "metadata": {
        "id": "I41qUxrhgs0A"
      }
    }
  ],
  "metadata": {
    "colab": {
      "provenance": [],
      "include_colab_link": true
    },
    "kernelspec": {
      "display_name": "Python 3 (ipykernel)",
      "language": "python",
      "name": "python3"
    },
    "language_info": {
      "codemirror_mode": {
        "name": "ipython",
        "version": 3
      },
      "file_extension": ".py",
      "mimetype": "text/x-python",
      "name": "python",
      "nbconvert_exporter": "python",
      "pygments_lexer": "ipython3",
      "version": "3.9.13"
    }
  },
  "nbformat": 4,
  "nbformat_minor": 0
}