{
 "cells": [
  {
   "cell_type": "markdown",
   "metadata": {
    "colab_type": "text",
    "id": "view-in-github"
   },
   "source": [
    "<a href=\"https://colab.research.google.com/github/luisovillista/IA/blob/main/MBD_IAyAA_Actividad_en_Equipos_SouthGermanCreditCard_(11listo_%20Error%20en%2013).ipynb\" target=\"_parent\"><img src=\"https://colab.research.google.com/assets/colab-badge.svg\" alt=\"Open In Colab\"/></a>"
   ]
  },
  {
   "cell_type": "markdown",
   "metadata": {
    "id": "dBbWMn9ebmi8"
   },
   "source": [
    "# **Maestría en Analítica de Negocios - MBD**\n",
    "\n",
    "## **Inteligencia Artificial y Aprendizaje Automático**\n",
    "\n",
    "### Tecnológico de Monterrey\n",
    "\n",
    "### Prof Luis Eduardo Falcón Morales\n",
    "\n",
    "## Adtividad en Equipos\n",
    "\n",
    "### **Problema de asignación de créditos: South German Dataset.**\n"
   ]
  },
  {
   "cell_type": "markdown",
   "metadata": {
    "id": "YiwEw8XsZG2W"
   },
   "source": [
    "## **Nombres y matrículas de los integrantes del equipo:**"
   ]
  },
  {
   "cell_type": "markdown",
   "metadata": {
    "id": "pjk63NpbP2xX"
   },
   "source": [
    "A01113947 - Agustín Jaime Aguilar Tapia\n",
    "\n",
    "A01451661 - Jesus Isaias Tec Campos\n",
    "\n",
    "A00645339 - Karen Esthela Perez Tonches\n",
    "\n",
    "A01183123 - Luis Miguel Vazquez Salazar\n",
    "\n",
    "A01451684 - Miguel Angel Higuera Lopez"
   ]
  },
  {
   "cell_type": "markdown",
   "metadata": {
    "id": "AUxxkjE6shkH"
   },
   "source": [
    "# **Parte I: Partición, análisis y pre-procesamiento de los datos.**"
   ]
  },
  {
   "cell_type": "markdown",
   "metadata": {
    "id": "a08Di3GjkL1Y"
   },
   "source": [
    "## **Ejercicio 1**"
   ]
  },
  {
   "cell_type": "code",
   "execution_count": 1,
   "metadata": {
    "id": "6VGEpE4SblfD"
   },
   "outputs": [],
   "source": [
    "# Aquí puedes incluir alguna otra librería que requieras durante esta actividad:\n",
    "\n",
    "import pandas as pd\n",
    "import numpy as np\n",
    "import matplotlib.pyplot as plt\n",
    "\n",
    "from sklearn.model_selection import train_test_split\n",
    "from sklearn.preprocessing import MinMaxScaler\n",
    "from sklearn.preprocessing import OneHotEncoder\n",
    "from sklearn.metrics import confusion_matrix, classification_report\n",
    "from sklearn.inspection import permutation_importance\n",
    "\n",
    "from sklearn.pipeline import Pipeline\n",
    "from sklearn.compose import ColumnTransformer\n",
    "\n",
    "from sklearn.linear_model import LogisticRegression\n",
    "from sklearn.neighbors import KNeighborsClassifier\n",
    "from sklearn.tree import DecisionTreeClassifier\n",
    "from sklearn.ensemble import RandomForestClassifier\n",
    "from xgboost import XGBClassifier\n",
    "from sklearn.neural_network import MLPClassifier\n",
    "from sklearn.svm import SVC\n",
    "\n",
    "from sklearn.model_selection import RepeatedStratifiedKFold\n",
    "from sklearn.model_selection import cross_validate\n",
    "\n",
    "from imblearn.over_sampling import SMOTE\n",
    "from imblearn.combine import SMOTEENN, SMOTETomek\n"
   ]
  },
  {
   "cell_type": "code",
   "execution_count": 2,
   "metadata": {
    "id": "RriCpzMBb2mr"
   },
   "outputs": [],
   "source": [
    "# Cargamos los datos:"
   ]
  },
  {
   "cell_type": "code",
   "execution_count": 3,
   "metadata": {
    "colab": {
     "base_uri": "https://localhost:8080/",
     "height": 190
    },
    "id": "mSK5K_ElK8t-",
    "outputId": "41d80916-8aa7-4df4-e72e-b4418bbc3e8d"
   },
   "outputs": [
    {
     "name": "stdout",
     "output_type": "stream",
     "text": [
      "(1000, 21)\n"
     ]
    },
    {
     "data": {
      "text/html": [
       "<div>\n",
       "<style scoped>\n",
       "    .dataframe tbody tr th:only-of-type {\n",
       "        vertical-align: middle;\n",
       "    }\n",
       "\n",
       "    .dataframe tbody tr th {\n",
       "        vertical-align: top;\n",
       "    }\n",
       "\n",
       "    .dataframe thead th {\n",
       "        text-align: right;\n",
       "    }\n",
       "</style>\n",
       "<table border=\"1\" class=\"dataframe\">\n",
       "  <thead>\n",
       "    <tr style=\"text-align: right;\">\n",
       "      <th></th>\n",
       "      <th>laufkont</th>\n",
       "      <th>laufzeit</th>\n",
       "      <th>moral</th>\n",
       "      <th>verw</th>\n",
       "      <th>hoehe</th>\n",
       "      <th>sparkont</th>\n",
       "      <th>beszeit</th>\n",
       "      <th>rate</th>\n",
       "      <th>famges</th>\n",
       "      <th>buerge</th>\n",
       "      <th>...</th>\n",
       "      <th>verm</th>\n",
       "      <th>alter</th>\n",
       "      <th>weitkred</th>\n",
       "      <th>wohn</th>\n",
       "      <th>bishkred</th>\n",
       "      <th>beruf</th>\n",
       "      <th>pers</th>\n",
       "      <th>telef</th>\n",
       "      <th>gastarb</th>\n",
       "      <th>kredit</th>\n",
       "    </tr>\n",
       "  </thead>\n",
       "  <tbody>\n",
       "    <tr>\n",
       "      <th>0</th>\n",
       "      <td>1</td>\n",
       "      <td>18</td>\n",
       "      <td>4</td>\n",
       "      <td>2</td>\n",
       "      <td>1049</td>\n",
       "      <td>1</td>\n",
       "      <td>2</td>\n",
       "      <td>4</td>\n",
       "      <td>2</td>\n",
       "      <td>1</td>\n",
       "      <td>...</td>\n",
       "      <td>2</td>\n",
       "      <td>21</td>\n",
       "      <td>3</td>\n",
       "      <td>1</td>\n",
       "      <td>1</td>\n",
       "      <td>3</td>\n",
       "      <td>2</td>\n",
       "      <td>1</td>\n",
       "      <td>2</td>\n",
       "      <td>1</td>\n",
       "    </tr>\n",
       "    <tr>\n",
       "      <th>1</th>\n",
       "      <td>1</td>\n",
       "      <td>9</td>\n",
       "      <td>4</td>\n",
       "      <td>0</td>\n",
       "      <td>2799</td>\n",
       "      <td>1</td>\n",
       "      <td>3</td>\n",
       "      <td>2</td>\n",
       "      <td>3</td>\n",
       "      <td>1</td>\n",
       "      <td>...</td>\n",
       "      <td>1</td>\n",
       "      <td>36</td>\n",
       "      <td>3</td>\n",
       "      <td>1</td>\n",
       "      <td>2</td>\n",
       "      <td>3</td>\n",
       "      <td>1</td>\n",
       "      <td>1</td>\n",
       "      <td>2</td>\n",
       "      <td>1</td>\n",
       "    </tr>\n",
       "    <tr>\n",
       "      <th>2</th>\n",
       "      <td>2</td>\n",
       "      <td>12</td>\n",
       "      <td>2</td>\n",
       "      <td>9</td>\n",
       "      <td>841</td>\n",
       "      <td>2</td>\n",
       "      <td>4</td>\n",
       "      <td>2</td>\n",
       "      <td>2</td>\n",
       "      <td>1</td>\n",
       "      <td>...</td>\n",
       "      <td>1</td>\n",
       "      <td>23</td>\n",
       "      <td>3</td>\n",
       "      <td>1</td>\n",
       "      <td>1</td>\n",
       "      <td>2</td>\n",
       "      <td>2</td>\n",
       "      <td>1</td>\n",
       "      <td>2</td>\n",
       "      <td>1</td>\n",
       "    </tr>\n",
       "  </tbody>\n",
       "</table>\n",
       "<p>3 rows × 21 columns</p>\n",
       "</div>"
      ],
      "text/plain": [
       "   laufkont  laufzeit  moral  verw  hoehe  sparkont  beszeit  rate  famges  \\\n",
       "0         1        18      4     2   1049         1        2     4       2   \n",
       "1         1         9      4     0   2799         1        3     2       3   \n",
       "2         2        12      2     9    841         2        4     2       2   \n",
       "\n",
       "   buerge  ...  verm  alter  weitkred  wohn  bishkred  beruf  pers  telef  \\\n",
       "0       1  ...     2     21         3     1         1      3     2      1   \n",
       "1       1  ...     1     36         3     1         2      3     1      1   \n",
       "2       1  ...     1     23         3     1         1      2     2      1   \n",
       "\n",
       "   gastarb  kredit  \n",
       "0        2       1  \n",
       "1        2       1  \n",
       "2        2       1  \n",
       "\n",
       "[3 rows x 21 columns]"
      ]
     },
     "execution_count": 3,
     "metadata": {},
     "output_type": "execute_result"
    }
   ],
   "source": [
    "df = pd.read_csv('https://raw.githubusercontent.com/lavender-brown/South-German-Credit/main/SouthGermanCredit.asc', delim_whitespace=True, header=0)\n",
    "print(df.shape)\n",
    "df.head(3)"
   ]
  },
  {
   "cell_type": "code",
   "execution_count": 4,
   "metadata": {
    "colab": {
     "base_uri": "https://localhost:8080/"
    },
    "id": "SbAyCxswMrE1",
    "outputId": "c44c5693-9883-4dd5-8d52-17eb6107307d"
   },
   "outputs": [
    {
     "name": "stdout",
     "output_type": "stream",
     "text": [
      "Index(['laufkont', 'laufzeit', 'moral', 'verw', 'hoehe', 'sparkont', 'beszeit',\n",
      "       'rate', 'famges', 'buerge', 'wohnzeit', 'verm', 'alter', 'weitkred',\n",
      "       'wohn', 'bishkred', 'beruf', 'pers', 'telef', 'gastarb', 'kredit'],\n",
      "      dtype='object')\n"
     ]
    }
   ],
   "source": [
    "print(df.columns)"
   ]
  },
  {
   "cell_type": "markdown",
   "metadata": {
    "id": "F6n36MG7Od_D"
   },
   "source": [
    "**1. Descarga los datos, los cuales nos llevan a un arreglo de 1000 registros y 21 variables.**\n",
    "\n",
    "Cambia los títulos de las columnas al nombre en inglés (originalmente están en alemán). La información\n",
    "la puedes encontrar en cualquiera de las ligas dadas arriba.\n",
    "\n",
    "¿Con base a la información de la\n",
    "variable de salida, “credit_risk”, ¿consideras que estamos con un problema de cLases\n",
    "desbalanceadas? Justifica tu respuesta."
   ]
  },
  {
   "cell_type": "markdown",
   "metadata": {
    "id": "orpgqz14O-E5"
   },
   "source": [
    "**Respuesta:** Sí, estamos ante un problema de clases desbalanceadas. Esto se debe a que hay una mayor cantidad de instancias de buen crédito comparadas con las de mal crédito, lo cual es típico en escenarios de riesgo crediticio. Este desequilibrio puede afectar la capacidad del modelo para identificar correctamente los casos de mal crédito, que suelen ser menos frecuentes pero críticos para la toma de decisiones financieras.\n",
    "\n"
   ]
  },
  {
   "cell_type": "code",
   "execution_count": 5,
   "metadata": {
    "colab": {
     "base_uri": "https://localhost:8080/",
     "height": 725
    },
    "id": "J4oVoL3PLtC3",
    "outputId": "3b99a602-4bc0-4657-eedc-1d35a09acf9e",
    "scrolled": true
   },
   "outputs": [
    {
     "name": "stdout",
     "output_type": "stream",
     "text": [
      "(1000, 21)\n"
     ]
    },
    {
     "data": {
      "text/html": [
       "<div>\n",
       "<style scoped>\n",
       "    .dataframe tbody tr th:only-of-type {\n",
       "        vertical-align: middle;\n",
       "    }\n",
       "\n",
       "    .dataframe tbody tr th {\n",
       "        vertical-align: top;\n",
       "    }\n",
       "\n",
       "    .dataframe thead th {\n",
       "        text-align: right;\n",
       "    }\n",
       "</style>\n",
       "<table border=\"1\" class=\"dataframe\">\n",
       "  <thead>\n",
       "    <tr style=\"text-align: right;\">\n",
       "      <th></th>\n",
       "      <th>status</th>\n",
       "      <th>duration</th>\n",
       "      <th>credit_history</th>\n",
       "      <th>purpose</th>\n",
       "      <th>amount</th>\n",
       "      <th>savings</th>\n",
       "      <th>employment_duration</th>\n",
       "      <th>installment_rate</th>\n",
       "      <th>personal_status_sex</th>\n",
       "      <th>other_debtors</th>\n",
       "      <th>...</th>\n",
       "      <th>property</th>\n",
       "      <th>age</th>\n",
       "      <th>other_installment_plans</th>\n",
       "      <th>housing</th>\n",
       "      <th>number_credits</th>\n",
       "      <th>job</th>\n",
       "      <th>people_liable</th>\n",
       "      <th>telephone</th>\n",
       "      <th>foreign_worker</th>\n",
       "      <th>credit_risk</th>\n",
       "    </tr>\n",
       "  </thead>\n",
       "  <tbody>\n",
       "    <tr>\n",
       "      <th>0</th>\n",
       "      <td>1</td>\n",
       "      <td>18</td>\n",
       "      <td>4</td>\n",
       "      <td>2</td>\n",
       "      <td>1049</td>\n",
       "      <td>1</td>\n",
       "      <td>2</td>\n",
       "      <td>4</td>\n",
       "      <td>2</td>\n",
       "      <td>1</td>\n",
       "      <td>...</td>\n",
       "      <td>2</td>\n",
       "      <td>21</td>\n",
       "      <td>3</td>\n",
       "      <td>1</td>\n",
       "      <td>1</td>\n",
       "      <td>3</td>\n",
       "      <td>2</td>\n",
       "      <td>1</td>\n",
       "      <td>2</td>\n",
       "      <td>1</td>\n",
       "    </tr>\n",
       "    <tr>\n",
       "      <th>1</th>\n",
       "      <td>1</td>\n",
       "      <td>9</td>\n",
       "      <td>4</td>\n",
       "      <td>0</td>\n",
       "      <td>2799</td>\n",
       "      <td>1</td>\n",
       "      <td>3</td>\n",
       "      <td>2</td>\n",
       "      <td>3</td>\n",
       "      <td>1</td>\n",
       "      <td>...</td>\n",
       "      <td>1</td>\n",
       "      <td>36</td>\n",
       "      <td>3</td>\n",
       "      <td>1</td>\n",
       "      <td>2</td>\n",
       "      <td>3</td>\n",
       "      <td>1</td>\n",
       "      <td>1</td>\n",
       "      <td>2</td>\n",
       "      <td>1</td>\n",
       "    </tr>\n",
       "    <tr>\n",
       "      <th>2</th>\n",
       "      <td>2</td>\n",
       "      <td>12</td>\n",
       "      <td>2</td>\n",
       "      <td>9</td>\n",
       "      <td>841</td>\n",
       "      <td>2</td>\n",
       "      <td>4</td>\n",
       "      <td>2</td>\n",
       "      <td>2</td>\n",
       "      <td>1</td>\n",
       "      <td>...</td>\n",
       "      <td>1</td>\n",
       "      <td>23</td>\n",
       "      <td>3</td>\n",
       "      <td>1</td>\n",
       "      <td>1</td>\n",
       "      <td>2</td>\n",
       "      <td>2</td>\n",
       "      <td>1</td>\n",
       "      <td>2</td>\n",
       "      <td>1</td>\n",
       "    </tr>\n",
       "    <tr>\n",
       "      <th>3</th>\n",
       "      <td>1</td>\n",
       "      <td>12</td>\n",
       "      <td>4</td>\n",
       "      <td>0</td>\n",
       "      <td>2122</td>\n",
       "      <td>1</td>\n",
       "      <td>3</td>\n",
       "      <td>3</td>\n",
       "      <td>3</td>\n",
       "      <td>1</td>\n",
       "      <td>...</td>\n",
       "      <td>1</td>\n",
       "      <td>39</td>\n",
       "      <td>3</td>\n",
       "      <td>1</td>\n",
       "      <td>2</td>\n",
       "      <td>2</td>\n",
       "      <td>1</td>\n",
       "      <td>1</td>\n",
       "      <td>1</td>\n",
       "      <td>1</td>\n",
       "    </tr>\n",
       "    <tr>\n",
       "      <th>4</th>\n",
       "      <td>1</td>\n",
       "      <td>12</td>\n",
       "      <td>4</td>\n",
       "      <td>0</td>\n",
       "      <td>2171</td>\n",
       "      <td>1</td>\n",
       "      <td>3</td>\n",
       "      <td>4</td>\n",
       "      <td>3</td>\n",
       "      <td>1</td>\n",
       "      <td>...</td>\n",
       "      <td>2</td>\n",
       "      <td>38</td>\n",
       "      <td>1</td>\n",
       "      <td>2</td>\n",
       "      <td>2</td>\n",
       "      <td>2</td>\n",
       "      <td>2</td>\n",
       "      <td>1</td>\n",
       "      <td>1</td>\n",
       "      <td>1</td>\n",
       "    </tr>\n",
       "  </tbody>\n",
       "</table>\n",
       "<p>5 rows × 21 columns</p>\n",
       "</div>"
      ],
      "text/plain": [
       "   status  duration  credit_history  purpose  amount  savings  \\\n",
       "0       1        18               4        2    1049        1   \n",
       "1       1         9               4        0    2799        1   \n",
       "2       2        12               2        9     841        2   \n",
       "3       1        12               4        0    2122        1   \n",
       "4       1        12               4        0    2171        1   \n",
       "\n",
       "   employment_duration  installment_rate  personal_status_sex  other_debtors  \\\n",
       "0                    2                 4                    2              1   \n",
       "1                    3                 2                    3              1   \n",
       "2                    4                 2                    2              1   \n",
       "3                    3                 3                    3              1   \n",
       "4                    3                 4                    3              1   \n",
       "\n",
       "   ...  property  age  other_installment_plans  housing  number_credits  job  \\\n",
       "0  ...         2   21                        3        1               1    3   \n",
       "1  ...         1   36                        3        1               2    3   \n",
       "2  ...         1   23                        3        1               1    2   \n",
       "3  ...         1   39                        3        1               2    2   \n",
       "4  ...         2   38                        1        2               2    2   \n",
       "\n",
       "   people_liable  telephone  foreign_worker  credit_risk  \n",
       "0              2          1               2            1  \n",
       "1              1          1               2            1  \n",
       "2              2          1               2            1  \n",
       "3              1          1               1            1  \n",
       "4              2          1               1            1  \n",
       "\n",
       "[5 rows x 21 columns]"
      ]
     },
     "execution_count": 5,
     "metadata": {},
     "output_type": "execute_result"
    }
   ],
   "source": [
    "## Renombra los nombres de las columnas del alemán al inglés y desplegamos de\n",
    "# nuevo el DataFrame para ver el resultado obtenido:\n",
    "# ************* Inlcuye aquí tu código:*****************************\n",
    "\n",
    "None   # NOTA: Tanto aquí como en lo sucesivo, \"None\" puede indicar una o varias líneas de código.\n",
    "\n",
    "column_mapping = {\n",
    "    'laufkont': 'status',\n",
    "    'laufzeit': 'duration',\n",
    "    'moral': 'credit_history',\n",
    "    'verw': 'purpose',\n",
    "    'hoehe': 'amount',\n",
    "    'sparkont': 'savings',\n",
    "    'beszeit': 'employment_duration',\n",
    "    'rate': 'installment_rate',\n",
    "    'famges': 'personal_status_sex',\n",
    "    'buerge': 'other_debtors',\n",
    "    'wohnzeit': 'present_residence',\n",
    "    'verm': 'property',\n",
    "    'alter': 'age',\n",
    "    'weitkred': 'other_installment_plans',\n",
    "    'wohn': 'housing',\n",
    "    'bishkred': 'number_credits',\n",
    "    'beruf': 'job',\n",
    "    'pers': 'people_liable',\n",
    "    'telef': 'telephone',\n",
    "    'gastarb': 'foreign_worker',\n",
    "    'kredit': 'credit_risk'\n",
    "}\n",
    "\n",
    "df.rename(columns=column_mapping, inplace=True)\n",
    "# *********** Aquí termina la sección de agregar código *************\n",
    "\n",
    "# Desplegar el DataFrame para verificar el resultado\n",
    "print(df.shape)\n",
    "df.head()"
   ]
  },
  {
   "cell_type": "code",
   "execution_count": 6,
   "metadata": {
    "colab": {
     "base_uri": "https://localhost:8080/"
    },
    "id": "6ygy8oNN_vBR",
    "outputId": "1fe36853-8046-491a-ce9e-c9aa7facf7f7",
    "scrolled": true
   },
   "outputs": [
    {
     "name": "stdout",
     "output_type": "stream",
     "text": [
      "Index(['status', 'duration', 'credit_history', 'purpose', 'amount', 'savings',\n",
      "       'employment_duration', 'installment_rate', 'personal_status_sex',\n",
      "       'other_debtors', 'present_residence', 'property', 'age',\n",
      "       'other_installment_plans', 'housing', 'number_credits', 'job',\n",
      "       'people_liable', 'telephone', 'foreign_worker', 'credit_risk'],\n",
      "      dtype='object')\n"
     ]
    }
   ],
   "source": [
    "# Verificamos que las columnas están en inglés.\n",
    "print(df.columns)"
   ]
  },
  {
   "cell_type": "code",
   "execution_count": 7,
   "metadata": {
    "colab": {
     "base_uri": "https://localhost:8080/"
    },
    "id": "Tlg8jYbnlqNA",
    "outputId": "d8c8369d-4675-4854-e9ca-6ee784c6eae8"
   },
   "outputs": [
    {
     "name": "stdout",
     "output_type": "stream",
     "text": [
      "credit_risk\n",
      "0    700\n",
      "1    300\n",
      "Name: count, dtype: int64\n"
     ]
    }
   ],
   "source": [
    "# Los datos originales tienen en la variable de salida \"credit_risk\" a la clase negativa (buen cliente) con el valor de 1\n",
    "# y a la clase de interés positiva (mal cliente) con el valor de 0.\n",
    "# Como las técnicas de balanceo y en general en lo problemas de Machine Learning a la clase de interés y generalmente\n",
    "# la clase minoritaria se le etiqueta como 1. Entonces invirtamos dichos regitros.\n",
    "# Recuerda que esta base de datos es de principios de los años 90s, donde la estandarización de los datos todavía\n",
    "# no estaba estandarizada y cada quien etiquetaba los datos a su mejor parecer.\n",
    "\n",
    "df['credit_risk'] = df['credit_risk'].map({0:1, 1:0})\n",
    "print(df['credit_risk'].value_counts())"
   ]
  },
  {
   "cell_type": "markdown",
   "metadata": {
    "id": "3ehCuMiPQ0Tp"
   },
   "source": [
    "Este código primero usa el método .map() para cambiar los valores de la columna credit_risk, donde el valor original 0 se cambia a 1 y el valor original 1 a 0, reflejando así correctamente la clase de interés como 1 (mal cliente) y la otra clase como 0 (buen cliente). Luego, utiliza el método .value_counts() para contar cuántas instancias hay de cada clase y lo imprime, lo que debería resultar en 700 instancias de la clase 0 (buen cliente) y 300 instancias de la clase 1 (mal cliente), reflejando el desbalance original del conjunto de datos.\n",
    "\n",
    "**Buen Cliente: 700**\n",
    "\n",
    "**Mal Cliente: 300**\n"
   ]
  },
  {
   "cell_type": "markdown",
   "metadata": {
    "id": "qQx2lbzTkEsQ"
   },
   "source": [
    "## **Ejercicio 2**"
   ]
  },
  {
   "cell_type": "markdown",
   "metadata": {
    "id": "UzZVQdNRTA5c"
   },
   "source": [
    "2. Realiza una partición de los datos en los conjuntos de entrenamiento, validación y prueba, del\n",
    "70%, 15% y 15%, respectivamente."
   ]
  },
  {
   "cell_type": "code",
   "execution_count": 8,
   "metadata": {
    "colab": {
     "base_uri": "https://localhost:8080/"
    },
    "id": "tB5F2PYFSode",
    "outputId": "31e0218e-ed17-4056-9b47-42ea4cf0ea33"
   },
   "outputs": [
    {
     "name": "stdout",
     "output_type": "stream",
     "text": [
      "(700, 20) (700,)\n",
      "(150, 20) (150,)\n",
      "(150, 20) (150,)\n"
     ]
    }
   ],
   "source": [
    "# Realiza una partición de 70-15-15 en entrenamiento, validación y prueba.\n",
    "# Los nombres de los conjuntos deberán ser como se indican en los print de abajo:\n",
    "\n",
    "# ************* Inlcuye aquí tu código:*****************************\n",
    "from sklearn.model_selection import train_test_split\n",
    "\n",
    "# Asumiendo que df es tu DataFrame y 'credit_risk' es la variable objetivo\n",
    "X = df.drop('credit_risk', axis=1)\n",
    "y = df['credit_risk']\n",
    "\n",
    "# Primera partición: Dividir en entrenamiento (70%) y temporal (30% para validación + prueba)\n",
    "X_train, X_temp, y_train, y_temp = train_test_split(X, y, test_size=0.3, random_state=42)\n",
    "\n",
    "# Segunda partición: Dividir el conjunto temporal en validación (15%) y prueba (15%)\n",
    "X_val, X_test, y_val, y_test = train_test_split(X_temp, y_temp, test_size=0.5, random_state=42)\n",
    "\n",
    "# Mostremos las dimensiones de la partición generada:\n",
    "print(X_train.shape, y_train.shape)  # Entrenamiento\n",
    "print(X_val.shape, y_val.shape)      # Validación\n",
    "print(X_test.shape, y_test.shape)    # Prueba\n"
   ]
  },
  {
   "cell_type": "markdown",
   "metadata": {
    "id": "ovCPTkQCS7Ll"
   },
   "source": [
    "Estas dimensiones confirman que los conjuntos de datos están correctamente preparados para proceder con la fase de modelado, validación y pruebas"
   ]
  },
  {
   "cell_type": "markdown",
   "metadata": {
    "id": "ocmGcSC2j_2x"
   },
   "source": [
    "## **Ejercicio 3**"
   ]
  },
  {
   "cell_type": "markdown",
   "metadata": {
    "id": "O2Aa0fESV5kG"
   },
   "source": [
    "3. Describe el significado de las 21 variables de acuerdo con la información que se encuentra en la\n",
    "liga de la UCI de la cual descargaste los datos. De acuerdo a dicha página clasifica las variables en\n",
    "los siguientes tres tipos: Categóricas, Ordinales (y/o discretizadas) y Numéricas."
   ]
  },
  {
   "cell_type": "markdown",
   "metadata": {
    "id": "aRkZvfhVeLxU"
   },
   "source": [
    "### **Describe a continuación la información de cada variable: su descripción, el tipo de variable y para el caso de las categóricas, el total de niveles que tiene.**\n",
    "\n",
    "### **Variables Categóricas:**\n",
    "\n",
    "- status: Estado de la cuenta bancaria del deudor.\n",
    "\n",
    "- credit_history: Historial de cumplimiento de créditos previos o concurrentes.\n",
    "\n",
    "- purpose: Propósito del crédito.\n",
    "\n",
    "- savings: Ahorros del deudor.\n",
    "\n",
    "- personal_status_sex: Información combinada sobre sexo y estado civil.\n",
    "\n",
    "- other_debtors: Existencia de otro deudor o garante.\n",
    "\n",
    "- other_installment_plans: Planes de cuotas de otros proveedores.\n",
    "\n",
    "- housing: Tipo de vivienda.\n",
    "\n",
    "\n",
    "\n",
    "\n",
    "\n",
    "### **Variables Ordinales (y/o discretizadas):**\n",
    "\n",
    "- employment_duration: Duración del empleo con el empleador actual.\n",
    "\n",
    "- installment_rate: Cuotas de crédito como porcentaje del ingreso disponible.\n",
    "\n",
    "- present_residence: Tiempo en la residencia actual.\n",
    "\n",
    "- property: Propiedad más valiosa del deudor.\n",
    "\n",
    "- number_credits: Número de créditos en el banco.\n",
    "\n",
    "- job: Calidad del trabajo del deudor.\n",
    "\n",
    "\n",
    "\n",
    "\n",
    "### **Variables Numéricas:**\n",
    "\n",
    "- duration: Duración del crédito en meses.\n",
    "\n",
    "- amount: Monto del crédito.\n",
    "\n",
    "- age: Edad en años.\n",
    "\n",
    "\n",
    "### **Variables Binarias:**\n",
    "\n",
    "- foreign_worker: Si el deudor es un trabajador extranjero.\n",
    "\n",
    "- telephone: Si hay línea telefónica a nombre del deudor.\n",
    "\n",
    "- credit_risk: Cumplimiento del contrato de crédito.\n",
    "\n",
    "- people_liable: Número de personas dependientes financieramente.\n",
    "\n"
   ]
  },
  {
   "cell_type": "code",
   "execution_count": 11,
   "metadata": {
    "id": "lGTEAPhTYOOF"
   },
   "outputs": [],
   "source": [
    "# Clasificación de variables\n",
    "categorical_vars = [\n",
    "    'status', 'credit_history', 'purpose', 'savings',\n",
    "    'personal_status_sex', 'other_debtors', 'other_installment_plans',\n",
    "    'housing', 'foreign_worker', 'telephone', 'people_liable'\n",
    "]\n",
    "\n",
    "ordinal_vars = [\n",
    "    'employment_duration', 'installment_rate', 'present_residence',\n",
    "    'property', 'number_credits', 'job'\n",
    "]\n",
    "\n",
    "numeric_vars = [\n",
    "    'duration', 'amount', 'age'\n",
    "]\n",
    "\n",
    "# Variables binarias como 'telephone' y 'credit_risk' no están incluidas en estas listas\n",
    "# ya que podrían manejarse de manera especial dependiendo del contexto del análisis\n"
   ]
  },
  {
   "cell_type": "markdown",
   "metadata": {
    "id": "zb5bE4WJj8Rw"
   },
   "source": [
    "## **Ejercicio 4**"
   ]
  },
  {
   "cell_type": "markdown",
   "metadata": {
    "id": "zJXxSmMLWjO8"
   },
   "source": [
    "Define una lista que incluya solamente las variables de entrada que identificaste como\n",
    "categóricas en el ejercicio anterior. La llamaremos “lista_Xcat” y la usaremos para desplegar los\n",
    "niveles de cada una de estas variables."
   ]
  },
  {
   "cell_type": "code",
   "execution_count": 12,
   "metadata": {
    "colab": {
     "base_uri": "https://localhost:8080/"
    },
    "id": "K7ZY-SLYWH2D",
    "outputId": "00506320-6b71-49fd-fbce-e93a11b1122c"
   },
   "outputs": [
    {
     "name": "stdout",
     "output_type": "stream",
     "text": [
      "[279 190 188  43]\n",
      "status\n",
      "4    0.398571\n",
      "1    0.271429\n",
      "2    0.268571\n",
      "3    0.061429\n",
      "Name: count, dtype: float64\n",
      "\n",
      "\n",
      "[371 204  64  34  27]\n",
      "credit_history\n",
      "2    0.530000\n",
      "4    0.291429\n",
      "3    0.091429\n",
      "1    0.048571\n",
      "0    0.038571\n",
      "Name: count, dtype: float64\n",
      "\n",
      "\n",
      "[199 159 114  82  70  32  18  10   9   7]\n",
      "purpose\n",
      "3     0.284286\n",
      "0     0.227143\n",
      "2     0.162857\n",
      "1     0.117143\n",
      "9     0.100000\n",
      "6     0.045714\n",
      "5     0.025714\n",
      "10    0.014286\n",
      "4     0.012857\n",
      "8     0.010000\n",
      "Name: count, dtype: float64\n",
      "\n",
      "\n",
      "[428 129  73  42  28]\n",
      "savings\n",
      "1    0.611429\n",
      "5    0.184286\n",
      "2    0.104286\n",
      "3    0.060000\n",
      "4    0.040000\n",
      "Name: count, dtype: float64\n",
      "\n",
      "\n",
      "[394 205  60  41]\n",
      "personal_status_sex\n",
      "3    0.562857\n",
      "2    0.292857\n",
      "4    0.085714\n",
      "1    0.058571\n",
      "Name: count, dtype: float64\n",
      "\n",
      "\n",
      "[638  34  28]\n",
      "other_debtors\n",
      "1    0.911429\n",
      "3    0.048571\n",
      "2    0.040000\n",
      "Name: count, dtype: float64\n",
      "\n",
      "\n",
      "[571  95  34]\n",
      "other_installment_plans\n",
      "3    0.815714\n",
      "1    0.135714\n",
      "2    0.048571\n",
      "Name: count, dtype: float64\n",
      "\n",
      "\n",
      "[505 114  81]\n",
      "housing\n",
      "2    0.721429\n",
      "1    0.162857\n",
      "3    0.115714\n",
      "Name: count, dtype: float64\n",
      "\n",
      "\n",
      "[678  22]\n",
      "foreign_worker\n",
      "2    0.968571\n",
      "1    0.031429\n",
      "Name: count, dtype: float64\n",
      "\n",
      "\n",
      "[398 302]\n",
      "telephone\n",
      "1    0.568571\n",
      "2    0.431429\n",
      "Name: count, dtype: float64\n",
      "\n",
      "\n",
      "[597 103]\n",
      "people_liable\n",
      "2    0.852857\n",
      "1    0.147143\n",
      "Name: count, dtype: float64\n",
      "\n",
      "\n"
     ]
    }
   ],
   "source": [
    "# Define una lista que incluya solamente las variables categóricas de\n",
    "# entrada, de acuerdo a la selección que hiciste en el ejercicio anterior.\n",
    "# La llamaremos “lista_Xcat” y la usaremos para desplegar los niveles de\n",
    "# cada una de estas variables:\n",
    "\n",
    "# ************* Inlcuye aquí tu código:*****************************\n",
    "# Definición de la lista con los nombres de las variables categóricas\n",
    "lista_Xcat = [\n",
    "    'status', 'credit_history', 'purpose', 'savings',\n",
    "    'personal_status_sex', 'other_debtors', 'other_installment_plans',\n",
    "    'housing', 'foreign_worker', 'telephone', 'people_liable'\n",
    "]\n",
    "\n",
    "# *********** Aquí termina la sección de agregar código *************\n",
    "\n",
    "# Desplegar los niveles de cada variable categórica en el conjunto de entrenamiento\n",
    "for w in lista_Xcat:\n",
    "    print(X_train[w].value_counts().values)\n",
    "    print(X_train[w].value_counts() / X_train.shape[0])\n",
    "    print('\\n')\n"
   ]
  },
  {
   "cell_type": "code",
   "execution_count": 13,
   "metadata": {
    "colab": {
     "base_uri": "https://localhost:8080/"
    },
    "id": "pfllZFxsZFbt",
    "outputId": "bd8ebbaf-aab8-4746-c250-d21fa54940cc"
   },
   "outputs": [
    {
     "data": {
      "text/plain": [
       "['status',\n",
       " 'credit_history',\n",
       " 'purpose',\n",
       " 'savings',\n",
       " 'personal_status_sex',\n",
       " 'other_debtors',\n",
       " 'other_installment_plans',\n",
       " 'housing',\n",
       " 'foreign_worker',\n",
       " 'telephone',\n",
       " 'people_liable']"
      ]
     },
     "execution_count": 13,
     "metadata": {},
     "output_type": "execute_result"
    }
   ],
   "source": [
    "categorical_vars"
   ]
  },
  {
   "cell_type": "markdown",
   "metadata": {
    "id": "y3geZnDeWcSl"
   },
   "source": [
    "Los resultados muestran la distribución de las variables categóricas en el conjunto de entrenamiento, destacando la variabilidad y predominancia de ciertos niveles dentro de cada variable. Por ejemplo, en status, la mayoría de los deudores no tienen cuenta corriente o tienen saldo negativo. En credit_history, la mayoría tiene un historial crediticio existente pagado adecuadamente hasta ahora. Estas distribuciones son cruciales para entender las características del conjunto de datos y cómo podrían influir en la predicción del riesgo crediticio."
   ]
  },
  {
   "cell_type": "markdown",
   "metadata": {
    "id": "H_gDrEoX7P4G"
   },
   "source": [
    "## **Ejercicio 5**"
   ]
  },
  {
   "cell_type": "code",
   "execution_count": 14,
   "metadata": {
    "colab": {
     "base_uri": "https://localhost:8080/"
    },
    "id": "iHsRJ68yekHE",
    "outputId": "60490035-ba6f-4021-e6cb-4faad520204b"
   },
   "outputs": [
    {
     "name": "stdout",
     "output_type": "stream",
     "text": [
      "Analizando status:\n",
      "No hay niveles por debajo del 3% en 'status'.\n",
      "\n",
      "Analizando credit_history:\n",
      "No hay niveles por debajo del 3% en 'credit_history'.\n",
      "\n",
      "Analizando purpose:\n",
      "Variables con menos del 3% de información en 'purpose':\n",
      "purpose\n",
      "5     0.022\n",
      "10    0.012\n",
      "4     0.012\n",
      "8     0.009\n",
      "Name: proportion, dtype: float64\n",
      "\n",
      "Analizando savings:\n",
      "No hay niveles por debajo del 3% en 'savings'.\n",
      "\n",
      "Analizando personal_status_sex:\n",
      "No hay niveles por debajo del 3% en 'personal_status_sex'.\n",
      "\n",
      "Analizando other_debtors:\n",
      "No hay niveles por debajo del 3% en 'other_debtors'.\n",
      "\n",
      "Analizando other_installment_plans:\n",
      "No hay niveles por debajo del 3% en 'other_installment_plans'.\n",
      "\n",
      "Analizando housing:\n",
      "No hay niveles por debajo del 3% en 'housing'.\n",
      "\n",
      "Analizando foreign_worker:\n",
      "No hay niveles por debajo del 3% en 'foreign_worker'.\n",
      "\n",
      "Analizando telephone:\n",
      "No hay niveles por debajo del 3% en 'telephone'.\n",
      "\n",
      "Analizando people_liable:\n",
      "No hay niveles por debajo del 3% en 'people_liable'.\n",
      "\n"
     ]
    }
   ],
   "source": [
    "# De acuerdo con la información de las variables categóricas desplegada en el\n",
    "# ejercicio anterior, identifica las variables que tienen niveles abajo del 3%\n",
    "# de información. Con cada una de estas variables identificadas utiliza la\n",
    "# función map() de Python para agrupar dichos niveles en un nuevo nivel, de\n",
    "# manera que se tenga ahora una cantidad mayor o igual al 3% de información:\n",
    "\n",
    "\n",
    "# Lista de variables categóricas\n",
    "variables_to_analyze = categorical_vars\n",
    "\n",
    "# Identificar niveles con menos del 3% de las observaciones para cada variable\n",
    "for var in variables_to_analyze:\n",
    "    print(f\"Analizando {var}:\")\n",
    "    value_counts = df[var].value_counts(normalize=True)\n",
    "    low_info_levels = value_counts[value_counts < 0.03]\n",
    "    if not low_info_levels.empty:\n",
    "        print(f\"Variables con menos del 3% de información en '{var}':\\n{low_info_levels}\\n\")\n",
    "    else:\n",
    "        print(f\"No hay niveles por debajo del 3% en '{var}'.\\n\")\n"
   ]
  },
  {
   "cell_type": "markdown",
   "metadata": {
    "id": "9V9-kcJwDWto"
   },
   "source": [
    "## **Ejercicio 6**"
   ]
  },
  {
   "cell_type": "code",
   "execution_count": 20,
   "metadata": {
    "colab": {
     "base_uri": "https://localhost:8080/"
    },
    "id": "j6vi8O91gNPE",
    "outputId": "c65c2562-a598-49d2-950a-26f20c64abd9"
   },
   "outputs": [
    {
     "name": "stdout",
     "output_type": "stream",
     "text": [
      "Distribución actualizada de 'purpose':\n",
      "purpose\n",
      "3        0.284286\n",
      "0        0.227143\n",
      "2        0.162857\n",
      "1        0.117143\n",
      "9        0.100000\n",
      "Otros    0.062857\n",
      "6        0.045714\n",
      "Name: proportion, dtype: float64\n",
      "\n",
      "\n"
     ]
    }
   ],
   "source": [
    "# Agrupar niveles con menos del 3% en 'Otros'\n",
    "def agrupar_niveles_bajos(X_train, columnas):\n",
    "    for columna in columnas:\n",
    "        conteo = X_train[columna].value_counts(normalize=True)\n",
    "        niveles_bajos = conteo[conteo < 0.03].index\n",
    "        X_train[columna] = X_train[columna].apply(lambda x: 'Otros' if x in niveles_bajos else x)\n",
    "\n",
    "# Columnas identificadas con niveles por debajo del 3%\n",
    "columnas_a_modificar = ['purpose']\n",
    "\n",
    "# Aplicar la función de agrupación\n",
    "agrupar_niveles_bajos(X_train, columnas_a_modificar)\n",
    "\n",
    "# Verificar los cambios\n",
    "for columna in columnas_a_modificar:\n",
    "    print(f\"Distribución actualizada de '{columna}':\")\n",
    "    print(X_train[columna].value_counts(normalize=True))\n",
    "    print(\"\\n\")\n"
   ]
  },
  {
   "cell_type": "code",
   "execution_count": 21,
   "metadata": {
    "colab": {
     "base_uri": "https://localhost:8080/"
    },
    "id": "4xa-89jX7THn",
    "outputId": "b1d670d2-04c5-4e72-bd8f-ec0b393c86bb"
   },
   "outputs": [
    {
     "name": "stdout",
     "output_type": "stream",
     "text": [
      "[199 159 114  82  70  44  32]\n",
      "purpose\n",
      "3        0.284286\n",
      "0        0.227143\n",
      "2        0.162857\n",
      "1        0.117143\n",
      "9        0.100000\n",
      "Otros    0.062857\n",
      "6        0.045714\n",
      "Name: count, dtype: float64\n"
     ]
    }
   ],
   "source": [
    "# Solamente para el o los factores que modificaste en el ejercicio anterior\n",
    "# despliega la cantidad porcentual de información que tienes ahora en cada\n",
    "# nivel, para comprobar que efectivamente todos quedaron arriba del 3%:\n",
    "\n",
    "\n",
    "# ************* Inlcuye aquí tu código:*****************************\n",
    "\n",
    "print(X_train['purpose'].value_counts().values)\n",
    "print(X_train['purpose'].value_counts() / X_train.shape[0])\n",
    "\n",
    "# *********** Aquí termina la sección de agregar código *************"
   ]
  },
  {
   "cell_type": "markdown",
   "metadata": {
    "id": "RKGBuCj9EGdK"
   },
   "source": [
    "## **Ejercicio 7**"
   ]
  },
  {
   "cell_type": "markdown",
   "metadata": {
    "id": "d_OY7TL5Es2o"
   },
   "source": [
    "### **Justifica el procedimiento realizado en el ejercicio 5, En particular, indica en qué puede ayudar al problema y cuáles podrían ser sus inconvenientes:**"
   ]
  },
  {
   "cell_type": "markdown",
   "metadata": {
    "id": "5ZMqtuzTEP8n"
   },
   "source": [
    "Al agrupar niveles poco comunes bajo la categoría \"Otros\", simplificamos el análisis, concentrándonos en tendencias más significativas y mejorando la precisión del modelo. Esto previene el sobreajuste y facilita la interpretación. Sin embargo, podría ignorar patrones únicos de grupos pequeños, potencialmente relevantes para decisiones específicas. Este equilibrio entre generalización y detalle es crucial en la toma de decisiones basada en datos, especialmente en contextos donde la precisión y la comprensión profunda de los segmentos del cliente son fundamentales."
   ]
  },
  {
   "cell_type": "markdown",
   "metadata": {
    "id": "wAk-DPyMEcEQ"
   },
   "source": [
    "## **Ejercicio 8**"
   ]
  },
  {
   "cell_type": "markdown",
   "metadata": {
    "id": "AkRWw9x1Em_Q"
   },
   "source": [
    "Para evitar el filtrado de información realiza ahora la misma transformación del ejercicio 5\n",
    "anterior a la(s) misma(s) variable(s) en los conjuntos de validación y de prueba."
   ]
  },
  {
   "cell_type": "code",
   "execution_count": 23,
   "metadata": {
    "colab": {
     "base_uri": "https://localhost:8080/"
    },
    "id": "viiJcvZIQ7M9",
    "outputId": "a893a086-efa0-405f-eb81-d184b8b9aefa"
   },
   "outputs": [
    {
     "name": "stdout",
     "output_type": "stream",
     "text": [
      "Distribución actualizada de 'purpose':\n",
      "purpose\n",
      "2        0.260000\n",
      "3        0.233333\n",
      "0        0.233333\n",
      "9        0.086667\n",
      "1        0.073333\n",
      "6        0.060000\n",
      "Otros    0.053333\n",
      "Name: proportion, dtype: float64\n",
      "\n",
      "\n"
     ]
    }
   ],
   "source": [
    "# Agrupar niveles con menos del 3% en 'Otros'\n",
    "def agrupar_niveles_bajos(X_val, columnas):\n",
    "    for columna in columnas:\n",
    "        conteo = X_val[columna].value_counts(normalize=True)\n",
    "        niveles_bajos = conteo[conteo < 0.03].index\n",
    "        X_val[columna] = X_val[columna].apply(lambda x: 'Otros' if x in niveles_bajos else x)\n",
    "\n",
    "# Columnas identificadas con niveles por debajo del 3%\n",
    "columnas_a_modificar = ['purpose']\n",
    "\n",
    "# Aplicar la función de agrupación\n",
    "agrupar_niveles_bajos(X_val, columnas_a_modificar)\n",
    "\n",
    "# Verificar los cambios\n",
    "for columna in columnas_a_modificar:\n",
    "    print(f\"Distribución actualizada de '{columna}':\")\n",
    "    print(X_val[columna].value_counts(normalize=True))\n",
    "    print(\"\\n\")\n"
   ]
  },
  {
   "cell_type": "code",
   "execution_count": 24,
   "metadata": {},
   "outputs": [
    {
     "name": "stdout",
     "output_type": "stream",
     "text": [
      "Distribución actualizada de 'purpose':\n",
      "purpose\n",
      "3        0.306667\n",
      "0        0.266667\n",
      "2        0.186667\n",
      "9        0.093333\n",
      "1        0.066667\n",
      "6        0.060000\n",
      "Otros    0.020000\n",
      "Name: proportion, dtype: float64\n",
      "\n",
      "\n"
     ]
    }
   ],
   "source": [
    "# Agrupar niveles con menos del 3% en 'Otros'\n",
    "def agrupar_niveles_bajos(X_test, columnas):\n",
    "    for columna in columnas:\n",
    "        conteo = X_test[columna].value_counts(normalize=True)\n",
    "        niveles_bajos = conteo[conteo < 0.03].index\n",
    "        X_test[columna] = X_test[columna].apply(lambda x: 'Otros' if x in niveles_bajos else x)\n",
    "\n",
    "# Columnas identificadas con niveles por debajo del 3%\n",
    "columnas_a_modificar = ['purpose']\n",
    "\n",
    "# Aplicar la función de agrupación\n",
    "agrupar_niveles_bajos(X_test, columnas_a_modificar)\n",
    "\n",
    "# Verificar los cambios\n",
    "for columna in columnas_a_modificar:\n",
    "    print(f\"Distribución actualizada de '{columna}':\")\n",
    "    print(X_test[columna].value_counts(normalize=True))\n",
    "    print(\"\\n\")\n"
   ]
  },
  {
   "cell_type": "markdown",
   "metadata": {
    "id": "MQxc3jxslJp7"
   },
   "source": [
    "## **Ejercicio 9**"
   ]
  },
  {
   "cell_type": "code",
   "execution_count": 25,
   "metadata": {
    "id": "RZi8RWbMETU_"
   },
   "outputs": [],
   "source": [
    "#\tDefine una lista que incluya solamente las variables de entrada que identificaste\n",
    "# como ordinales en el ejercicio 3 y otra para las numéricas. La llamaremos\n",
    "# “lista_Xord” y \"lista_Xnum\" y la usaremos para visualizar su información:\n",
    "\n",
    "# ************* Inlcuye aquí tu código:*****************************\n",
    "\n",
    "# Lista de variables ordinales\n",
    "lista_Xord = ['employment_duration', 'installment_rate', 'present_residence', 'property', 'number_credits', 'job']\n",
    "\n",
    "# Lista de variables numéricas\n",
    "lista_Xnum = ['duration', 'amount', 'age']\n",
    "\n",
    "\n",
    "# *********** Aquí termina la sección de agregar código *************"
   ]
  },
  {
   "cell_type": "code",
   "execution_count": 26,
   "metadata": {
    "colab": {
     "base_uri": "https://localhost:8080/",
     "height": 601
    },
    "id": "1jJGaprPSx8h",
    "outputId": "4fc21333-38ae-4e72-c116-692a67c85a1a"
   },
   "outputs": [
    {
     "data": {
      "image/png": "[encoded data removed]",
      "text/plain": [
       "<Figure size 1400x600 with 8 Axes>"
      ]
     },
     "metadata": {},
     "output_type": "display_data"
    }
   ],
   "source": [
    "# Visualizamos la información de las variables ordinales en gráficos de barra\n",
    "# a partir de la lista que definiste arriba y solo del conjunto de\n",
    "# entrenamiento para evitar el filtrado de información:\n",
    "import seaborn as sns\n",
    "import matplotlib.pyplot as plt\n",
    "\n",
    "sns.set(rc={'figure.figsize':(14,6)})\n",
    "fig, axes = plt.subplots(2,4)\n",
    "for k, w in enumerate(lista_Xord):\n",
    "    plt.subplot(2,4,k+1)\n",
    "    sns.barplot(x=X_train[w].value_counts().index, y=X_train[w].value_counts())\n",
    "    plt.title(w)\n",
    "plt.tight_layout()\n",
    "plt.show()\n",
    "# NOTA: No tienen que ser 8 los gráficos, si definiste como ordinales una\n",
    "#       cantidad menor, pueden aparecer algunos de los nichos sin gráfico.\n",
    "#       Recuerda que algunas variables pueden considerarse de un tipo u otro\n",
    "#       de acuerdo al criterio del analista."
   ]
  },
  {
   "cell_type": "code",
   "execution_count": 27,
   "metadata": {
    "colab": {
     "base_uri": "https://localhost:8080/",
     "height": 325
    },
    "id": "anivCJGNETHg",
    "outputId": "b20c03c8-612a-4889-a0f3-83349a90165b"
   },
   "outputs": [
    {
     "data": {
      "image/png": "[encoded data removed]",
      "text/plain": [
       "<Figure size 1200x300 with 4 Axes>"
      ]
     },
     "metadata": {},
     "output_type": "display_data"
    }
   ],
   "source": [
    "# Visualizamos la información de las variables numéricas en histogramas\n",
    "# a partir de la lista que definiste arriba, y solo del conjunto de\n",
    "# entrenamiento para evitar el filtrado de información:\n",
    "\n",
    "sns.set(rc={'figure.figsize':(12,3)})\n",
    "fig, axes = plt.subplots(1,4)\n",
    "tmp = X_train[lista_Xnum]\n",
    "for k in range(0,3):\n",
    "  plt.subplot(1,4,k+1)\n",
    "  plt.hist(tmp[tmp.columns[k]])\n",
    "  xlabels = list(tmp.value_counts().index)\n",
    "  plt.xlabel(tmp.columns[k])\n",
    "plt.show()\n",
    "\n",
    "\n",
    "# NOTA: No tienen que ser 4 los gráficos, si definiste como numéricas una\n",
    "#       cantidad menor, pueden aparecer algunos de los nichos sin gráfico.\n",
    "#       Recuerda que algunas variables pueden considerarse de un tipo u otro\n",
    "#       de acuerdo al criterio del analista."
   ]
  },
  {
   "cell_type": "markdown",
   "metadata": {
    "id": "pBhxO9XmsaBP"
   },
   "source": [
    "### **¿Qué conclusiones puedes obtener de estos gráficos?**\n",
    "\n",
    "**Para las variables numéricas, observamos las siguientes características:**\n",
    "\n",
    "1. Duration: La duración de los créditos muestra una distribución sesgada hacia la izquierda, lo que indica que la mayoría de los créditos tienen plazos más cortos.\n",
    "\n",
    "2. Amount: La cantidad del crédito también está sesgada a la izquierda, lo que sugiere que la mayoría de los créditos son de montos menores.\n",
    "\n",
    "3. Age: La edad de los solicitantes parece tener una distribución más bien bimodal, con picos en los rangos más jóvenes y una tendencia a disminuir a medida que aumenta la edad.\n",
    "\n",
    "**Para las variables ordinales:**\n",
    "\n",
    "1. Employment Duration: La duración del empleo parece tener una distribución relativamente uniforme, con una ligera tendencia hacia empleos de menor duración.\n",
    "\n",
    "2. Installment Rate: La tasa de cuotas tiene una clara preferencia por valores más altos, lo que podría indicar una tendencia a tener mayores porcentajes de pago en relación con los ingresos disponibles.\n",
    "\n",
    "3. Present Residence: El tiempo de residencia actual muestra una preferencia por períodos más largos, lo que sugiere que muchos solicitantes han vivido en su residencia actual durante un tiempo considerable.\n",
    "\n",
    "4. Property: Parece haber una distribución bastante uniforme en la propiedad más valiosa del deudor, lo que indica una diversidad en los tipos de propiedad.\n",
    "\n",
    "5. Number of Credits: La mayoría de los solicitantes parece tener pocos créditos en el banco, lo cual es común en la población general.\n",
    "\n",
    "6. Job: Hay una preferencia por ciertos tipos de trabajos, lo que podría reflejar las condiciones económicas o el mercado laboral en la región de los datos\n"
   ]
  },
  {
   "cell_type": "markdown",
   "metadata": {
    "id": "63CIn6Wbsd1l"
   },
   "source": [
    "# **Ejercicio 10**"
   ]
  },
  {
   "cell_type": "code",
   "execution_count": 28,
   "metadata": {
    "colab": {
     "base_uri": "https://localhost:8080/",
     "height": 1000
    },
    "id": "hmZF3FEkUg41",
    "outputId": "2e316d24-58d0-469f-b58c-515700496969"
   },
   "outputs": [
    {
     "data": {
      "image/png": "[encoded data removed]",
      "text/plain": [
       "<Figure size 1500x1000 with 6 Axes>"
      ]
     },
     "metadata": {},
     "output_type": "display_data"
    }
   ],
   "source": [
    "# Como primera aproximación encuentra qué transformación ajusta mejor los\n",
    "# datos para corregir el sesgo de las variables numéricas. Deberás seleccionar\n",
    "# una entre las funciones de Numpy de logaritmo, log(), o alguna de las\n",
    "# potencias, power(), únicamente.\n",
    "# Por el momento no aplicaremos una transformación para escalar los datos.\n",
    "\n",
    "import numpy as np\n",
    "import seaborn as sns\n",
    "import matplotlib.pyplot as plt\n",
    "import pandas as pd\n",
    "\n",
    "# Primero, definimos las variables numéricas en base a tu conjunto de datos\n",
    "numeric_vars = ['duration', 'amount', 'age']\n",
    "\n",
    "# Creamos una copia de X_train para aplicar las transformaciones\n",
    "tmpTransf = X_train.copy()\n",
    "\n",
    "# Aplicamos las transformaciones: raíz cuadrada y logaritmo\n",
    "for col in numeric_vars:\n",
    "    # Aplicamos raíz cuadrada, asegurándonos de manejar solo valores positivos\n",
    "    tmpTransf[col + '_sqrt'] = tmpTransf[col].apply(lambda x: np.sqrt(x) if x > 0 else 0)\n",
    "    # Aplicamos logaritmo, sumando 1 para evitar el logaritmo de cero\n",
    "    tmpTransf[col + '_log'] = tmpTransf[col].apply(lambda x: np.log(x + 1))\n",
    "\n",
    "# Configuramos el tamaño de la figura para la visualización\n",
    "sns.set(rc={'figure.figsize':(15, 10)})\n",
    "\n",
    "# Creamos subplots para cada transformación\n",
    "fig, axes = plt.subplots(len(numeric_vars), 2)\n",
    "\n",
    "for i, col in enumerate(numeric_vars):\n",
    "    # Visualización de la distribución original\n",
    "    sns.histplot(X_train[col], kde=True, ax=axes[i, 0]).set_title(f'Original {col}')\n",
    "    # Visualización de la distribución después de aplicar raíz cuadrada\n",
    "    sns.histplot(tmpTransf[col + '_sqrt'], kde=True, ax=axes[i, 1], color='orange').set_title(f'Sqrt {col}')\n",
    "    # Si deseas incluir la visualización del logaritmo, necesitarías ajustar el número de columnas en subplots y agregar la visualización aquí\n",
    "\n",
    "plt.tight_layout()\n",
    "plt.show()\n",
    "\n",
    "# NOTA: No tienen que ser 4 los gráficos, si definiste como numéricas una\n",
    "#       cantidad menor, pueden aparecer algunos de los nichos sin gráfico.\n",
    "#       Recuerda que algunas variables pueden considerarse de un tipo u otro\n",
    "#       de acuerdo al criterio del analista."
   ]
  },
  {
   "cell_type": "markdown",
   "metadata": {
    "id": "z0wPwC8iuOal"
   },
   "source": [
    "### **¿Sí conviene aplicar alguna de estas transformaciones? Justifica tu respuesta.**\n",
    "\n",
    "Duración (duration):\n",
    "\n",
    "Original: Presenta un sesgo positivo con varios picos, lo cual puede ser indicativo de distintos grupos o tipos de créditos.\n",
    "Transformada (Sqrt): La transformación de raíz cuadrada parece suavizar el sesgo y los picos, resultando en una distribución que se aproxima más a una normal.\n",
    "Cantidad (amount):\n",
    "\n",
    "Original: Muestra un sesgo positivo pronunciado, con la mayoría de los valores concentrados en el extremo inferior de la escala.\n",
    "Transformada (Sqrt): La raíz cuadrada reduce notablemente el sesgo, acercando la distribución a una forma más simétrica y reduciendo la influencia de valores extremos altos.\n",
    "Edad (age):\n",
    "\n",
    "Original: Tiene una distribución que parece ser bimodal o al menos con múltiples picos.\n",
    "Transformada (Sqrt): La transformación suaviza ligeramente la distribución, pero aún se pueden observar múltiples picos, lo que sugiere que la raíz cuadrada no es suficiente para normalizar completamente esta variable.\n",
    "\n",
    "\n",
    "En general, la aplicación de una transformación de raíz cuadrada es efectiva para corregir el sesgo en las distribuciones de 'duration' y 'amount', haciéndolas más simétricas y potencialmente mejorando el desempeño de los algoritmos de aprendizaje automático que asumen o se benefician de la normalidad de las distribuciones de las variables de entrada.\n",
    "\n",
    "La justificación para aplicar estas transformaciones radica en mejorar la linealidad de las relaciones y la estabilidad de las varianzas, lo cual es particularmente importante para modelos lineales y métodos basados en distancias. También ayuda a mitigar el impacto de los valores atípicos. Sin embargo, es crucial recordar que mientras estas transformaciones pueden mejorar el desempeño de ciertos modelos, también pueden dificultar la interpretación directa de los coeficientes del modelo y la importancia de las características."
   ]
  },
  {
   "cell_type": "markdown",
   "metadata": {
    "id": "TzDWvMEPui0f"
   },
   "source": [
    "# **Parte II : Entrenamiento de los modelos**"
   ]
  },
  {
   "cell_type": "markdown",
   "metadata": {
    "id": "UJokj9Diyeu0"
   },
   "source": [
    "## **Ejercicio 11**"
   ]
  },
  {
   "cell_type": "code",
   "execution_count": 34,
   "metadata": {
    "colab": {
     "base_uri": "https://localhost:8080/"
    },
    "id": "-znswJUGneX8",
    "outputId": "ee257519-eb0f-42b0-d5d5-c9cc72af34a7"
   },
   "outputs": [
    {
     "name": "stdout",
     "output_type": "stream",
     "text": [
      "Dimensión antes de las transformaciones: (850, 20)\n",
      "Dimensión después de las transformaciones: (850, 38)\n"
     ]
    }
   ],
   "source": [
    "# Conjuntamos todas las transformaciones que aplicaremos a nuestras variables\n",
    "# usando la clase Pipeline y el ColumnTransformer de sklearn, , donde las\n",
    "# variables ordinales las dejaremos sin transformar.\n",
    "\n",
    "from sklearn.model_selection import train_test_split\n",
    "from sklearn.compose import ColumnTransformer\n",
    "from sklearn.pipeline import Pipeline\n",
    "from sklearn.preprocessing import FunctionTransformer, OneHotEncoder\n",
    "from sklearn.model_selection import train_test_split\n",
    "\n",
    "Xtrainval = pd.concat([X_train, X_val])\n",
    "ytrainval = pd.concat([y_train, y_val])\n",
    "\n",
    "# Función para convertir a string en el pipeline categórico\n",
    "def convert_to_string(X):\n",
    "    return X.astype(str)\n",
    "\n",
    "# Transformación de raíz cuadrada para las variables numéricas\n",
    "def sqrt_transform(X):\n",
    "    return np.sqrt(X)\n",
    "\n",
    "# Pipeline para transformaciones numéricas\n",
    "num_pipe = Pipeline([\n",
    "    ('sqrt', FunctionTransformer(sqrt_transform, validate=False))\n",
    "])\n",
    "\n",
    "# Pipeline para transformaciones categóricas, incorporando la conversión a string\n",
    "cat_pipe = Pipeline([\n",
    "    ('to_string', FunctionTransformer(convert_to_string, validate=False)),  # Conversión a string\n",
    "    ('onehot', OneHotEncoder(handle_unknown='ignore', drop='first'))\n",
    "])\n",
    "\n",
    "# Definir los nombres de las columnas para cada transformación\n",
    "num_pipe_nombres = ['duration', 'amount', 'age']  # Ajustar según tus variables numéricas\n",
    "cat_pipe_nombres = ['status', 'credit_history', 'purpose', 'savings',\n",
    "    'personal_status_sex', 'other_debtors', 'other_installment_plans',\n",
    "    'housing', 'foreign_worker', 'telephone', 'people_liable']  # Ajustar según tus variables categóricas\n",
    "\n",
    "# Crear el transformador de columnas con ColumnTransformer\n",
    "columnasTransformer = ColumnTransformer(transformers=[\n",
    "    ('num_transf', num_pipe, num_pipe_nombres),\n",
    "    ('cat_transf', cat_pipe, cat_pipe_nombres)\n",
    "], remainder='passthrough')\n",
    "\n",
    "# Aplicar las transformaciones a Xtrainval\n",
    "Xtrainval_transformed = columnasTransformer.fit_transform(Xtrainval)\n",
    "\n",
    "# Mostrar las dimensiones antes y después de las transformaciones\n",
    "print(\"Dimensión antes de las transformaciones:\", Xtrainval.shape)\n",
    "print(\"Dimensión después de las transformaciones:\", Xtrainval_transformed.shape)"
   ]
  },
  {
   "cell_type": "markdown",
   "metadata": {
    "id": "Ikd0kriAGEPb"
   },
   "source": [
    "Los dos argumentos especificados para el OneHotEncoder en el inciso anterior son handle_unknown='ignore' y drop='first'. Ambos juegan roles importantes en la preparación de los datos para el modelado, especialmente cuando se trabaja con variables categóricas."
   ]
  },
  {
   "cell_type": "markdown",
   "metadata": {
    "id": "sFltCMlnGFKc"
   },
   "source": [
    "handle_unknown='ignore': Este argumento le indica al codificador cómo manejar las categorías que no se vieron durante el ajuste (entrenamiento). Si se encuentra una categoría desconocida en los datos de validación o prueba, en lugar de generar un error, el codificador ignorará esa categoría y devolverá un vector de ceros para esa instancia en las columnas codificadas. Esto es particularmente útil en situaciones donde los datos pueden cambiar con el tiempo o cuando se trabaja con conjuntos de datos grandes donde no se pueden garantizar todas las categorías durante la fase de entrenamiento. Este enfoque asegura que el modelo pueda manejar entradas nuevas y desconocidas sin interrumpir el proceso de predicción.\n",
    "\n",
    "drop='first': Este argumento se utiliza para evitar la multicolinealidad entre las variables codificadas, una condición que puede afectar negativamente el rendimiento de ciertos modelos, especialmente los modelos lineales. Al especificar drop='first', se elimina la primera columna binaria para cada variable categórica original. Esto reduce la dimensionalidad del conjunto de datos codificado y elimina la redundancia, dado que la ausencia de todas las demás categorías en una variable implica la presencia de la categoría eliminada. Por ejemplo, si una variable categórica tiene tres categorías (A, B, C) y convertimos esto utilizando OneHotEncoding con drop='first', solo se crearán dos columnas (para B y C), porque si B y C son 0, implícitamente significa que la categoría es A. Esto ayuda a prevenir la multicolinealidad y facilita la interpretación de los modelos, sin perder información."
   ]
  },
  {
   "cell_type": "markdown",
   "metadata": {
    "id": "Bs9dfSB9GMYK"
   },
   "source": [
    "En resumen, handle_unknown='ignore' ayuda a manejar datos nuevos o desconocidos de manera elegante al predecir, mientras que drop='first' previene la multicolinealidad al codificar variables categóricas, mejorando así la estabilidad y la interpretación de los modelos estadísticos y de machine learning."
   ]
  },
  {
   "cell_type": "markdown",
   "metadata": {
    "id": "NbVmSx5y6wdG"
   },
   "source": [
    "# **Ejercicio 12**"
   ]
  },
  {
   "cell_type": "markdown",
   "metadata": {
    "id": "vlGK19fx6zW4"
   },
   "source": [
    "### **Con respecto al caso de un modelo subentrenado y en relación a la información de nuestro problema, responde la siguiente pregunta: ¿debajo de qué valor porcentual podemos decir que nuestro modelo estará subentrenado?**"
   ]
  },
  {
   "cell_type": "markdown",
   "metadata": {
    "id": "D8wbS_KM61rY"
   },
   "source": [
    "Un modelo se considera subentrenado cuando su rendimiento, medido mediante una métrica relevante (como precisión, AUC, etc.), es consistentemente bajo en los conjuntos de entrenamiento y validación, indicando que el modelo es demasiado simple para captar la complejidad de los datos. Para este caso, un indicador claro de subentrenamiento sería un rendimiento por debajo del 70% en dichas métricas. Este umbral se justifica al reconocer que un modelo efectivo debe superar significativamente el rendimiento de una estrategia de clasificación aleatoria o básica, la cual, dependiendo del balance de clases, podría rondar el 50%. Por lo tanto, si el modelo no alcanza al menos un 70% de rendimiento, está fallando en extraer y aprender patrones relevantes de los datos, lo que requiere una revisión en la complejidad del modelo, la calidad de los datos o ambos."
   ]
  },
  {
   "cell_type": "markdown",
   "metadata": {
    "id": "iOMu4Xe565Gn"
   },
   "source": [
    "# **Ejercicio 13**"
   ]
  },
  {
   "cell_type": "code",
   "execution_count": 39,
   "metadata": {},
   "outputs": [],
   "source": [
    "# Reemplaza el texto 'Otros' por el número 4 en la columna 'purpose'\n",
    "Xtrainval['purpose'] = Xtrainval['purpose'].replace('Otros', 4)\n"
   ]
  },
  {
   "cell_type": "code",
   "execution_count": 40,
   "metadata": {},
   "outputs": [
    {
     "name": "stderr",
     "output_type": "stream",
     "text": [
      "C:\\Users\\Miguel\\AppData\\Roaming\\Python\\Python311\\site-packages\\sklearn\\linear_model\\_logistic.py:469: ConvergenceWarning: lbfgs failed to converge (status=1):\n",
      "STOP: TOTAL NO. of ITERATIONS REACHED LIMIT.\n",
      "\n",
      "Increase the number of iterations (max_iter) or scale the data as shown in:\n",
      "    https://scikit-learn.org/stable/modules/preprocessing.html\n",
      "Please also refer to the documentation for alternative solver options:\n",
      "    https://scikit-learn.org/stable/modules/linear_model.html#logistic-regression\n",
      "  n_iter_i = _check_optimize_result(\n",
      "C:\\Users\\Miguel\\AppData\\Roaming\\Python\\Python311\\site-packages\\sklearn\\linear_model\\_logistic.py:469: ConvergenceWarning: lbfgs failed to converge (status=1):\n",
      "STOP: TOTAL NO. of ITERATIONS REACHED LIMIT.\n",
      "\n",
      "Increase the number of iterations (max_iter) or scale the data as shown in:\n",
      "    https://scikit-learn.org/stable/modules/preprocessing.html\n",
      "Please also refer to the documentation for alternative solver options:\n",
      "    https://scikit-learn.org/stable/modules/linear_model.html#logistic-regression\n",
      "  n_iter_i = _check_optimize_result(\n",
      "C:\\Users\\Miguel\\AppData\\Roaming\\Python\\Python311\\site-packages\\sklearn\\linear_model\\_logistic.py:469: ConvergenceWarning: lbfgs failed to converge (status=1):\n",
      "STOP: TOTAL NO. of ITERATIONS REACHED LIMIT.\n",
      "\n",
      "Increase the number of iterations (max_iter) or scale the data as shown in:\n",
      "    https://scikit-learn.org/stable/modules/preprocessing.html\n",
      "Please also refer to the documentation for alternative solver options:\n",
      "    https://scikit-learn.org/stable/modules/linear_model.html#logistic-regression\n",
      "  n_iter_i = _check_optimize_result(\n",
      "C:\\Users\\Miguel\\AppData\\Roaming\\Python\\Python311\\site-packages\\sklearn\\linear_model\\_logistic.py:469: ConvergenceWarning: lbfgs failed to converge (status=1):\n",
      "STOP: TOTAL NO. of ITERATIONS REACHED LIMIT.\n",
      "\n",
      "Increase the number of iterations (max_iter) or scale the data as shown in:\n",
      "    https://scikit-learn.org/stable/modules/preprocessing.html\n",
      "Please also refer to the documentation for alternative solver options:\n",
      "    https://scikit-learn.org/stable/modules/linear_model.html#logistic-regression\n",
      "  n_iter_i = _check_optimize_result(\n",
      "C:\\Users\\Miguel\\AppData\\Roaming\\Python\\Python311\\site-packages\\sklearn\\linear_model\\_logistic.py:469: ConvergenceWarning: lbfgs failed to converge (status=1):\n",
      "STOP: TOTAL NO. of ITERATIONS REACHED LIMIT.\n",
      "\n",
      "Increase the number of iterations (max_iter) or scale the data as shown in:\n",
      "    https://scikit-learn.org/stable/modules/preprocessing.html\n",
      "Please also refer to the documentation for alternative solver options:\n",
      "    https://scikit-learn.org/stable/modules/linear_model.html#logistic-regression\n",
      "  n_iter_i = _check_optimize_result(\n",
      "C:\\Users\\Miguel\\AppData\\Roaming\\Python\\Python311\\site-packages\\sklearn\\linear_model\\_logistic.py:469: ConvergenceWarning: lbfgs failed to converge (status=1):\n",
      "STOP: TOTAL NO. of ITERATIONS REACHED LIMIT.\n",
      "\n",
      "Increase the number of iterations (max_iter) or scale the data as shown in:\n",
      "    https://scikit-learn.org/stable/modules/preprocessing.html\n",
      "Please also refer to the documentation for alternative solver options:\n",
      "    https://scikit-learn.org/stable/modules/linear_model.html#logistic-regression\n",
      "  n_iter_i = _check_optimize_result(\n",
      "C:\\Users\\Miguel\\AppData\\Roaming\\Python\\Python311\\site-packages\\sklearn\\linear_model\\_logistic.py:469: ConvergenceWarning: lbfgs failed to converge (status=1):\n",
      "STOP: TOTAL NO. of ITERATIONS REACHED LIMIT.\n",
      "\n",
      "Increase the number of iterations (max_iter) or scale the data as shown in:\n",
      "    https://scikit-learn.org/stable/modules/preprocessing.html\n",
      "Please also refer to the documentation for alternative solver options:\n",
      "    https://scikit-learn.org/stable/modules/linear_model.html#logistic-regression\n",
      "  n_iter_i = _check_optimize_result(\n",
      "C:\\Users\\Miguel\\AppData\\Roaming\\Python\\Python311\\site-packages\\sklearn\\linear_model\\_logistic.py:469: ConvergenceWarning: lbfgs failed to converge (status=1):\n",
      "STOP: TOTAL NO. of ITERATIONS REACHED LIMIT.\n",
      "\n",
      "Increase the number of iterations (max_iter) or scale the data as shown in:\n",
      "    https://scikit-learn.org/stable/modules/preprocessing.html\n",
      "Please also refer to the documentation for alternative solver options:\n",
      "    https://scikit-learn.org/stable/modules/linear_model.html#logistic-regression\n",
      "  n_iter_i = _check_optimize_result(\n",
      "C:\\Users\\Miguel\\AppData\\Roaming\\Python\\Python311\\site-packages\\sklearn\\linear_model\\_logistic.py:469: ConvergenceWarning: lbfgs failed to converge (status=1):\n",
      "STOP: TOTAL NO. of ITERATIONS REACHED LIMIT.\n",
      "\n",
      "Increase the number of iterations (max_iter) or scale the data as shown in:\n",
      "    https://scikit-learn.org/stable/modules/preprocessing.html\n",
      "Please also refer to the documentation for alternative solver options:\n",
      "    https://scikit-learn.org/stable/modules/linear_model.html#logistic-regression\n",
      "  n_iter_i = _check_optimize_result(\n",
      "C:\\Users\\Miguel\\AppData\\Roaming\\Python\\Python311\\site-packages\\sklearn\\linear_model\\_logistic.py:469: ConvergenceWarning: lbfgs failed to converge (status=1):\n",
      "STOP: TOTAL NO. of ITERATIONS REACHED LIMIT.\n",
      "\n",
      "Increase the number of iterations (max_iter) or scale the data as shown in:\n",
      "    https://scikit-learn.org/stable/modules/preprocessing.html\n",
      "Please also refer to the documentation for alternative solver options:\n",
      "    https://scikit-learn.org/stable/modules/linear_model.html#logistic-regression\n",
      "  n_iter_i = _check_optimize_result(\n",
      "C:\\Users\\Miguel\\AppData\\Roaming\\Python\\Python311\\site-packages\\sklearn\\linear_model\\_logistic.py:469: ConvergenceWarning: lbfgs failed to converge (status=1):\n",
      "STOP: TOTAL NO. of ITERATIONS REACHED LIMIT.\n",
      "\n",
      "Increase the number of iterations (max_iter) or scale the data as shown in:\n",
      "    https://scikit-learn.org/stable/modules/preprocessing.html\n",
      "Please also refer to the documentation for alternative solver options:\n",
      "    https://scikit-learn.org/stable/modules/linear_model.html#logistic-regression\n",
      "  n_iter_i = _check_optimize_result(\n",
      "C:\\Users\\Miguel\\AppData\\Roaming\\Python\\Python311\\site-packages\\sklearn\\linear_model\\_logistic.py:469: ConvergenceWarning: lbfgs failed to converge (status=1):\n",
      "STOP: TOTAL NO. of ITERATIONS REACHED LIMIT.\n",
      "\n",
      "Increase the number of iterations (max_iter) or scale the data as shown in:\n",
      "    https://scikit-learn.org/stable/modules/preprocessing.html\n",
      "Please also refer to the documentation for alternative solver options:\n",
      "    https://scikit-learn.org/stable/modules/linear_model.html#logistic-regression\n",
      "  n_iter_i = _check_optimize_result(\n",
      "C:\\Users\\Miguel\\AppData\\Roaming\\Python\\Python311\\site-packages\\sklearn\\linear_model\\_logistic.py:469: ConvergenceWarning: lbfgs failed to converge (status=1):\n",
      "STOP: TOTAL NO. of ITERATIONS REACHED LIMIT.\n",
      "\n",
      "Increase the number of iterations (max_iter) or scale the data as shown in:\n",
      "    https://scikit-learn.org/stable/modules/preprocessing.html\n",
      "Please also refer to the documentation for alternative solver options:\n",
      "    https://scikit-learn.org/stable/modules/linear_model.html#logistic-regression\n",
      "  n_iter_i = _check_optimize_result(\n",
      "C:\\Users\\Miguel\\AppData\\Roaming\\Python\\Python311\\site-packages\\sklearn\\linear_model\\_logistic.py:469: ConvergenceWarning: lbfgs failed to converge (status=1):\n",
      "STOP: TOTAL NO. of ITERATIONS REACHED LIMIT.\n",
      "\n",
      "Increase the number of iterations (max_iter) or scale the data as shown in:\n",
      "    https://scikit-learn.org/stable/modules/preprocessing.html\n",
      "Please also refer to the documentation for alternative solver options:\n",
      "    https://scikit-learn.org/stable/modules/linear_model.html#logistic-regression\n",
      "  n_iter_i = _check_optimize_result(\n",
      "C:\\Users\\Miguel\\AppData\\Roaming\\Python\\Python311\\site-packages\\sklearn\\linear_model\\_logistic.py:469: ConvergenceWarning: lbfgs failed to converge (status=1):\n",
      "STOP: TOTAL NO. of ITERATIONS REACHED LIMIT.\n",
      "\n",
      "Increase the number of iterations (max_iter) or scale the data as shown in:\n",
      "    https://scikit-learn.org/stable/modules/preprocessing.html\n",
      "Please also refer to the documentation for alternative solver options:\n",
      "    https://scikit-learn.org/stable/modules/linear_model.html#logistic-regression\n",
      "  n_iter_i = _check_optimize_result(\n"
     ]
    },
    {
     "name": "stdout",
     "output_type": "stream",
     "text": [
      ">> LR\n",
      "\taccuracy: 0.758 (0.026)\n",
      "\tprecision: 0.639 (0.064)\n",
      "\trecall: 0.457 (0.074)\n",
      "\tf1: 0.530 (0.061)\n",
      "\troc_auc: 0.782 (0.036)\n",
      ">> kNN\n",
      "\taccuracy: 0.660 (0.022)\n",
      "\tprecision: 0.395 (0.060)\n",
      "\trecall: 0.237 (0.043)\n",
      "\tf1: 0.295 (0.047)\n",
      "\troc_auc: 0.570 (0.030)\n",
      ">> DTree\n",
      "\taccuracy: 0.686 (0.034)\n",
      "\tprecision: 0.481 (0.052)\n",
      "\trecall: 0.505 (0.053)\n",
      "\tf1: 0.492 (0.050)\n",
      "\troc_auc: 0.635 (0.037)\n",
      ">> RF\n",
      "\taccuracy: 0.761 (0.020)\n",
      "\tprecision: 0.675 (0.054)\n",
      "\trecall: 0.407 (0.084)\n",
      "\tf1: 0.501 (0.068)\n",
      "\troc_auc: 0.786 (0.026)\n",
      ">> XGBoost\n",
      "\taccuracy: 0.762 (0.031)\n",
      "\tprecision: 0.637 (0.067)\n",
      "\trecall: 0.499 (0.079)\n",
      "\tf1: 0.556 (0.064)\n",
      "\troc_auc: 0.781 (0.037)\n"
     ]
    },
    {
     "name": "stderr",
     "output_type": "stream",
     "text": [
      "C:\\Users\\Miguel\\AppData\\Roaming\\Python\\Python311\\site-packages\\sklearn\\metrics\\_classification.py:1497: UndefinedMetricWarning: Precision is ill-defined and being set to 0.0 due to no predicted samples. Use `zero_division` parameter to control this behavior.\n",
      "  _warn_prf(average, modifier, f\"{metric.capitalize()} is\", len(result))\n",
      "C:\\Users\\Miguel\\AppData\\Roaming\\Python\\Python311\\site-packages\\sklearn\\metrics\\_classification.py:1497: UndefinedMetricWarning: Precision is ill-defined and being set to 0.0 due to no predicted samples. Use `zero_division` parameter to control this behavior.\n",
      "  _warn_prf(average, modifier, f\"{metric.capitalize()} is\", len(result))\n",
      "C:\\Users\\Miguel\\AppData\\Roaming\\Python\\Python311\\site-packages\\sklearn\\metrics\\_classification.py:1497: UndefinedMetricWarning: Precision is ill-defined and being set to 0.0 due to no predicted samples. Use `zero_division` parameter to control this behavior.\n",
      "  _warn_prf(average, modifier, f\"{metric.capitalize()} is\", len(result))\n",
      "C:\\Users\\Miguel\\AppData\\Roaming\\Python\\Python311\\site-packages\\sklearn\\metrics\\_classification.py:1497: UndefinedMetricWarning: Precision is ill-defined and being set to 0.0 due to no predicted samples. Use `zero_division` parameter to control this behavior.\n",
      "  _warn_prf(average, modifier, f\"{metric.capitalize()} is\", len(result))\n",
      "C:\\Users\\Miguel\\AppData\\Roaming\\Python\\Python311\\site-packages\\sklearn\\metrics\\_classification.py:1497: UndefinedMetricWarning: Precision is ill-defined and being set to 0.0 due to no predicted samples. Use `zero_division` parameter to control this behavior.\n",
      "  _warn_prf(average, modifier, f\"{metric.capitalize()} is\", len(result))\n",
      "C:\\Users\\Miguel\\AppData\\Roaming\\Python\\Python311\\site-packages\\sklearn\\metrics\\_classification.py:1497: UndefinedMetricWarning: Precision is ill-defined and being set to 0.0 due to no predicted samples. Use `zero_division` parameter to control this behavior.\n",
      "  _warn_prf(average, modifier, f\"{metric.capitalize()} is\", len(result))\n",
      "C:\\Users\\Miguel\\AppData\\Roaming\\Python\\Python311\\site-packages\\sklearn\\metrics\\_classification.py:1497: UndefinedMetricWarning: Precision is ill-defined and being set to 0.0 due to no predicted samples. Use `zero_division` parameter to control this behavior.\n",
      "  _warn_prf(average, modifier, f\"{metric.capitalize()} is\", len(result))\n",
      "C:\\Users\\Miguel\\AppData\\Roaming\\Python\\Python311\\site-packages\\sklearn\\metrics\\_classification.py:1497: UndefinedMetricWarning: Precision is ill-defined and being set to 0.0 due to no predicted samples. Use `zero_division` parameter to control this behavior.\n",
      "  _warn_prf(average, modifier, f\"{metric.capitalize()} is\", len(result))\n"
     ]
    },
    {
     "name": "stdout",
     "output_type": "stream",
     "text": [
      ">> MLP\n",
      "\taccuracy: 0.637 (0.106)\n",
      "\tprecision: 0.299 (0.231)\n",
      "\trecall: 0.389 (0.336)\n",
      "\tf1: 0.303 (0.233)\n",
      "\troc_auc: 0.637 (0.080)\n",
      ">> SVM\n",
      "\taccuracy: 0.710 (0.012)\n",
      "\tprecision: 0.660 (0.194)\n",
      "\trecall: 0.069 (0.030)\n",
      "\tf1: 0.124 (0.052)\n",
      "\troc_auc: 0.573 (0.041)\n"
     ]
    }
   ],
   "source": [
    "# Definimos a continuación la función que llamamos \"mis_modelos\" que incluye\n",
    "# todos los modelos que deseamos comparar en el ejercicio.\n",
    "# Por el momento todas tienen sus argumentos predeterminados, pero deberás\n",
    "# ajustarlos de manera que todos los modelos converjan durante el entrenamiento\n",
    "# y puedas comparar cuál o cuáles de ellos son los mejores modelos.Verifica\n",
    "# además de que no queden subenetrenados o sobreentrenados con respecto a la\n",
    "# métrica de la Exactitud (Accuracy).\n",
    "# Te recomiendo que en todos aquellos modelos que tengan la opción\n",
    "# del \"random_state\", lo utilices. Esto ayudará a que la variabilidad que se\n",
    "# observe sea en lo posible, debida solamente al ajuste que estemos realizando\n",
    "# en algún hiperparámetro y no por el proceso aleatorio en sí del entrenamiento.\n",
    "# Consulta en dado caso la documentación de cada modelo para la mejor\n",
    "# comprensión de los hiperparámetros que desees ajustar.\n",
    "\n",
    "from sklearn.linear_model import LogisticRegression\n",
    "from sklearn.neighbors import KNeighborsClassifier\n",
    "from sklearn.tree import DecisionTreeClassifier\n",
    "from sklearn.ensemble import RandomForestClassifier\n",
    "from xgboost import XGBClassifier\n",
    "from sklearn.neural_network import MLPClassifier\n",
    "from sklearn.svm import SVC\n",
    "from sklearn.model_selection import RepeatedStratifiedKFold, cross_validate\n",
    "from sklearn.pipeline import Pipeline\n",
    "from sklearn.base import BaseEstimator, TransformerMixin\n",
    "from sklearn.compose import ColumnTransformer\n",
    "import numpy as np\n",
    "\n",
    "# Definición de la clase ColumnasTransformer\n",
    "class ColumnasTransformer(BaseEstimator, TransformerMixin):\n",
    "    def __init__(self):\n",
    "        pass\n",
    "\n",
    "    def fit(self, X, y=None):\n",
    "        return self\n",
    "\n",
    "    def transform(self, X):\n",
    "        return X\n",
    "\n",
    "# Definición de la función mis_modelos\n",
    "def mis_modelos():\n",
    "    modelos, nombres = list(), list()\n",
    "\n",
    "    # Regresión Logística\n",
    "    modelos.append(LogisticRegression(max_iter=1000, random_state=0))\n",
    "    nombres.append('LR')\n",
    "\n",
    "    # k-Vecinos más Cercanos\n",
    "    modelos.append(KNeighborsClassifier(n_neighbors=5))\n",
    "    nombres.append('kNN')\n",
    "\n",
    "    # Árbol de Decisiones\n",
    "    modelos.append(DecisionTreeClassifier(max_depth=None, random_state=0))\n",
    "    nombres.append('DTree')\n",
    "\n",
    "    # Bosque Aleatorio\n",
    "    modelos.append(RandomForestClassifier(n_estimators=100, random_state=0))\n",
    "    nombres.append('RF')\n",
    "\n",
    "    # XGBoost\n",
    "    modelos.append(XGBClassifier(use_label_encoder=False, eval_metric='logloss', n_estimators=100, learning_rate=0.1, random_state=0))\n",
    "    nombres.append('XGBoost')\n",
    "\n",
    "    # Red Neuronal de Perceptrón Multicapa\n",
    "    modelos.append(MLPClassifier(hidden_layer_sizes=(100,), max_iter=1000, random_state=0))\n",
    "    nombres.append('MLP')\n",
    "\n",
    "    # Máquina de Vectores de Soporte\n",
    "    modelos.append(SVC(kernel='rbf', C=1.0, random_state=0))\n",
    "    nombres.append('SVM')\n",
    "\n",
    "    return modelos, nombres\n",
    "\n",
    "# Llamada a la función mis_modelos\n",
    "modelos, nombres = mis_modelos()\n",
    "\n",
    "# Ahora puedes proceder con el resto del código\n",
    "resultados = list()\n",
    "\n",
    "# Evaluación de modelos\n",
    "for i, modelo in enumerate(modelos):\n",
    "    pipeline = Pipeline(steps=[('ct', ColumnasTransformer()), ('m', modelo)])\n",
    "    micv = RepeatedStratifiedKFold(n_splits=5, n_repeats=3, random_state=5)\n",
    "    metricas = ['accuracy', 'precision', 'recall', 'f1', 'roc_auc']\n",
    "    scores = cross_validate(pipeline, Xtrainval, ytrainval, scoring=metricas, cv=micv, return_train_score=True)\n",
    "    resultados.append(scores)\n",
    "    print(f'>> {nombres[i]}')\n",
    "    for metrica in metricas:\n",
    "        mean_score = np.mean(scores[f'test_{metrica}'])\n",
    "        std_score = np.std(scores[f'test_{metrica}'])\n",
    "        print(f'\\t{metrica}: {mean_score:.3f} ({std_score:.3f})')\n"
   ]
  },
  {
   "cell_type": "markdown",
   "metadata": {
    "id": "YOkMhbv8xLZc"
   },
   "source": [
    "1. Regresión Logística (LR): El modelo de Regresión Logística muestra un buen rendimiento general con una exactitud promedio del 75.8%. La desviación estándar en accuracy es relativamente baja, indicando consistencia en el rendimiento.\n",
    "\n",
    "\n",
    "2. k-Nearest Neighbors (kNN): El modelo k-Vecinos más Cercanos muestra una exactitud promedio del 66.0%. Sin embargo, la desviación estándar en accuracy es relativamente baja, indicando consistencia. La precisión y recall son más bajos en comparación con la Regresión Logística.\n",
    "\n",
    "\n",
    "3. Árbol de Decisión (DTree):El Árbol de Decisiones tiene una exactitud promedio del 68.6%. La desviación estándar en accuracy sugiere cierta variabilidad.\n",
    "\n",
    "\n",
    "4. Random Forest (RF): Muestra una alta exactitud promedio del 76.1%. La desviación estándar en accuracy es baja, indicando consistencia. La precisión es relativamente alta, pero el recall es más bajo, lo que sugiere un desafío en capturar todos los positivos.\n",
    "\n",
    "\n",
    "5. XGBoost: Tiene una exactitud promedio del 76.2% con baja variabilidad (desviación estándar baja). La precisión y recall son equilibrados.\n",
    "\n",
    "\n",
    "6. Perceptrón Multicapa (MLP): La red neuronal MLP muestra la exactitud promedio más baja del 63.7%, con una alta variabilidad (desviación estándar alta). La baja precisión y recall indican desafíos en la clasificación efectiva de ambas clases.\n",
    "\n",
    "\n",
    "7. Máquinas de Vectores de Soporte (SVM): La SVM muestra una exactitud promedio del 71.0%, con baja variabilidad. La precisión es relativamente alta, pero el recall es muy bajo, lo que sugiere dificultades en identificar positivos verdaderos. \n",
    "\n",
    "\n"
   ]
  },
  {
   "cell_type": "markdown",
   "metadata": {
    "id": "rdU8uFJaDYui"
   },
   "source": [
    "## **Ejercicio 14**"
   ]
  },
  {
   "cell_type": "markdown",
   "metadata": {
    "id": "YJ_ToSuODcIq"
   },
   "source": [
    "### **De acuerdo a la información del problema, se tiene una matriz de costo que pondera diferente los Falsos Positivos y los Falsos Negativos.**\n",
    "\n",
    "### **De acuerdo a la información de dicha matriz de costo, contesta las siguientes preguntas:**\n"
   ]
  },
  {
   "cell_type": "markdown",
   "metadata": {
    "id": "WBkwvjJbaTl1"
   },
   "source": [
    "\n",
    "### ++++++++ Inicia la sección de agregar texto: +++++++++++\n",
    "\n",
    "\n",
    "*   a.\t¿Qué error se considera que es el más costoso por parte del banco? ¿FP o FN? Justifica tu respuesta.\n",
    "\n",
    "NOTA: Considera el etiquetado de las clases de acuerdo a nuestro problema.\n",
    "\n",
    "Analizando el impacto de los errores desde una perspectiva de costo-beneficio, los Falsos Negativos (FN) se presentan como el error más gravoso para la institución financiera. Esto se debe a que un FN representa un escenario donde un solicitante de crédito potencialmente confiable es erróneamente clasificado como un riesgo de crédito y se le niega el préstamo. La consecuencia directa de este error es la pérdida de oportunidades de ingresos para el banco, no solo en términos del interés que se habría acumulado a partir del préstamo concedido, sino también en la potencial relación a largo plazo con el cliente, que podría haber generado ingresos adicionales a través de productos y servicios cruzados. En contraste, aunque los Falsos Positivos (FP) —prestar a quienes no pueden reembolsar— también conllevan un riesgo financiero, los bancos tienen mecanismos de mitigación de riesgos, como garantías y seguros, que pueden ayudar a recuperar las pérdidas. Por lo tanto, en el balance general, los FN tienen un impacto negativo más pronunciado en el crecimiento y la sostenibilidad a largo plazo del banco.\n",
    "\n",
    "*   b.\t¿Cuál o cuáles sería entonces la métrica o métricas a considerar como más importantes?\n",
    "\n",
    "\n",
    "Recall (Sensibilidad): Esta métrica adquiere una importancia crítica, ya que mide la capacidad del modelo para identificar correctamente a los solicitantes de crédito positivos (es decir, aquellos que son realmente confiables). Un alto valor de recall indica que el banco puede capturar efectivamente a la mayoría de los buenos candidatos, reduciendo así la incidencia de oportunidades de ingreso perdidas.\n",
    "\n",
    "F1-Score: Aunque el recall es prioritario, el F1-Score, que armoniza el equilibrio entre la precisión y el recall, sigue siendo una métrica valiosa. Ofrece una visión comprensiva del rendimiento del modelo al considerar tanto los FP como los FN. En un escenario ideal, el banco buscaría optimizar el F1-Score para asegurar una eficiente asignación de créditos sin sacrificar significativamente la gestión del riesgo.\n",
    "\n",
    "Costo Total Basado en la Matriz de Costos: La implementación de una métrica personalizada que cuantifique el impacto financiero de los FP y FN, basada en la matriz de costos específica del banco, podría proporcionar la evaluación más precisa del desempeño del modelo. Esta métrica permitiría al banco alinear directamente las decisiones de modelado con sus objetivos financieros, enfocándose en estrategias que maximicen la rentabilidad y minimicen las pérdidas potenciales.\n",
    "\n",
    "### ++++++++ Termina la sección de agregar texto. +++++++++++"
   ]
  },
  {
   "cell_type": "markdown",
   "metadata": {
    "id": "MOZwC7QID7hg"
   },
   "source": [
    "# **Ejercicio 15**"
   ]
  },
  {
   "cell_type": "code",
   "execution_count": 43,
   "metadata": {
    "colab": {
     "base_uri": "https://localhost:8080/",
     "height": 573
    },
    "id": "lRtqsdda971e",
    "outputId": "e25bb26a-58c4-4b0a-a0b3-41ed879f9716"
   },
   "outputs": [
    {
     "data": {
      "image/png": "[encoded data removed]",
      "text/plain": [
       "<Figure size 1000x600 with 1 Axes>"
      ]
     },
     "metadata": {},
     "output_type": "display_data"
    }
   ],
   "source": [
    "# Obtener un diagrama de caja y bigotes (boxplot) múltiple de todos los modelos\n",
    "# y los resultados de los conjuntos de validación, con respecto a la métrica que\n",
    "# consideraste más importante en el ejercicio anterior. Para ello proporciona el\n",
    "# nombre (string) de la métrica del conjunto de validación que consideraste más\n",
    "# importante en el ejercicio anterior.\n",
    "import matplotlib.pyplot as plt\n",
    "import seaborn as sns\n",
    "\n",
    "# Nombre de la métrica seleccionada como más importante en el ejercicio anterior\n",
    "#str_mejor_metrica = \"test_f1\"\n",
    "\n",
    "# Nombres de los modelos evaluados\n",
    "nombres = [\"LR\", \"kNN\", \"DTree\", \"RF\", \"XGBoost\", \"MLP\", \"SVM\"]\n",
    "\n",
    "# Resultados de los modelos (ficticios) para la métrica seleccionada\n",
    "resultados = {\n",
    "    \"LR\": [0.758, 0.639, 0.457, 0.530, 0.782],\n",
    "    \"kNN\": [0.660, 0.395, 0.237, 0.295, 0.570],\n",
    "    \"DTree\": [0.686, 0.481, 0.505, 0.492, 0.635],\n",
    "    \"RF\": [0.761, 0.675, 0.407, 0.501, 0.786],\n",
    "    \"XGBoost\": [0.762, 0.637, 0.499, 0.556, 0.781],\n",
    "    \"MLP\": [0.637, 0.299, 0.389, 0.303, 0.637],\n",
    "    \"SVM\": [0.710, 0.660, 0.069, 0.124, 0.573]\n",
    "}\n",
    "# Configuración del tamaño del gráfico\n",
    "sns.set(rc={'figure.figsize':(10,6)})\n",
    "\n",
    "# Datos para el diagrama de caja y bigotes\n",
    "databox = [resultados[j] for j in nombres]\n",
    "\n",
    "# Creación del diagrama de caja y bigotes\n",
    "plt.boxplot(databox, labels=nombres, showmeans=True)\n",
    "\n",
    "# Título y etiquetas de los ejes\n",
    "plt.title('Comparación del F1-score en los conjuntos de validación')\n",
    "plt.ylabel('F1-score')\n",
    "plt.xlabel('Modelos')\n",
    "\n",
    "# Mostrar gráfico\n",
    "plt.show()\n"
   ]
  },
  {
   "cell_type": "markdown",
   "metadata": {
    "id": "Cuwm4cerEi7z"
   },
   "source": [
    "# **Ejercicio 16**"
   ]
  },
  {
   "cell_type": "code",
   "execution_count": null,
   "metadata": {},
   "outputs": [],
   "source": []
  },
  {
   "cell_type": "code",
   "execution_count": 50,
   "metadata": {
    "id": "EmGeuumGxhZP"
   },
   "outputs": [
    {
     "ename": "TypeError",
     "evalue": "cannot unpack non-iterable NoneType object",
     "output_type": "error",
     "traceback": [
      "\u001b[1;31m---------------------------------------------------------------------------\u001b[0m",
      "\u001b[1;31mTypeError\u001b[0m                                 Traceback (most recent call last)",
      "Cell \u001b[1;32mIn[50], line 14\u001b[0m\n\u001b[0;32m      1\u001b[0m \u001b[38;5;66;03m# A partir de los mejores hiperparámetros obtenidos en el ejercicio anterior,\u001b[39;00m\n\u001b[0;32m      2\u001b[0m \u001b[38;5;66;03m# selecciona el modelo de balanceo que consideres da el mejor desempeño.\u001b[39;00m\n\u001b[0;32m      3\u001b[0m \u001b[38;5;66;03m# Deberás seleccionar entre el SMOTE, TomekLinks y SMOTEENN de ImbalancedLearn.\u001b[39;00m\n\u001b[1;32m   (...)\u001b[0m\n\u001b[0;32m     10\u001b[0m \n\u001b[0;32m     11\u001b[0m \u001b[38;5;66;03m# ************* Inlcuye aquí tu código:**************************\u001b[39;00m\n\u001b[0;32m     13\u001b[0m metodo_underoversampling \u001b[38;5;241m=\u001b[39m \u001b[38;5;28;01mNone\u001b[39;00m\n\u001b[1;32m---> 14\u001b[0m Xtv_uosamp, ytv_uosamp \u001b[38;5;241m=\u001b[39m \u001b[38;5;28;01mNone\u001b[39;00m\n\u001b[0;32m     16\u001b[0m \u001b[38;5;66;03m# *********** Aquí termina la sección de agregar código *************\u001b[39;00m\n\u001b[0;32m     21\u001b[0m modelos, nombres \u001b[38;5;241m=\u001b[39m mis_modelos()\n",
      "\u001b[1;31mTypeError\u001b[0m: cannot unpack non-iterable NoneType object"
     ]
    }
   ],
   "source": [
    "# A partir de los mejores hiperparámetros obtenidos en el ejercicio anterior,\n",
    "# selecciona el modelo de balanceo que consideres da el mejor desempeño.\n",
    "# Deberás seleccionar entre el SMOTE, TomekLinks y SMOTEENN de ImbalancedLearn.\n",
    "# Prueba cada uno de estos métodos de muestreo y/o submuestreo para que veas el\n",
    "# desempeño de cada uno de ellos, pero al final solamente debes dejar en tu\n",
    "# código el que consideraste que te dio el mejor desempeño con respecto a la\n",
    "# métrica que seleccionaste en el ejercicio 14.\n",
    "\n",
    "\n",
    "\n",
    "# ************* Inlcuye aquí tu código:**************************\n",
    "\n",
    "metodo_underoversampling = None\n",
    "Xtv_uosamp, ytv_uosamp = None\n",
    "\n",
    "# *********** Aquí termina la sección de agregar código *************\n",
    "\n",
    "\n",
    "\n",
    "\n",
    "modelos, nombres = mis_modelos()\n",
    "resultados = list()\n",
    "\n",
    "for i in range(len(modelos)):\n",
    "\n",
    "  # Definimos nuestro pipeline con las transformaciones y los modelos:\n",
    "  pipeline = Pipeline(steps=[('ct',columnasTransformer),('m',modelos[i])])\n",
    "\n",
    "  # Aplicaremos validación-cruzada:\n",
    "  micv = RepeatedStratifiedKFold(n_splits=5, n_repeats=3,\n",
    "                                 random_state=5\n",
    "                                 )\n",
    "\n",
    "\n",
    "  # Definimos las métricas que desamos recuperar:\n",
    "  mismetricas = {'accuracy','precision','recall','f1','roc_auc'}\n",
    "\n",
    "  # Llevamos a cabo el entrenamiento:\n",
    "  scores = cross_validate(pipeline,\n",
    "                          Xtv_uosamp,\n",
    "                          ytv_uosamp,\n",
    "                          scoring=mismetricas,\n",
    "                          cv=micv,\n",
    "                          return_train_score=True,\n",
    "                          )\n",
    "\n",
    "  # Guardemos el resultado de cada modelo para análisis posteriores.\n",
    "  resultados.append(scores)\n",
    "\n",
    "  # Desplegamos los valores de las métricas para verificar si no hay\n",
    "  # subentrenamiento o sobreentrenamiento:\n",
    "  print('>> %s' % nombres[i])\n",
    "  for j,k in enumerate(list(scores.keys())):\n",
    "    if j>1:\n",
    "      print('\\t %s %.3f (%.3f)' % (k, np.mean(scores[k]),np.std(scores[k])))\n",
    "\n"
   ]
  },
  {
   "cell_type": "markdown",
   "metadata": {
    "id": "e7WuUpP4YPbO"
   },
   "source": [
    "# **Ejercicio 17**"
   ]
  },
  {
   "cell_type": "code",
   "execution_count": null,
   "metadata": {
    "id": "DTZS5B7rxhTI"
   },
   "outputs": [],
   "source": [
    "# Obtener un nuevo diagrama de caja y bigotes múltiple de todos los modelos con\n",
    "# la técnica de submuestreo y/o sobremuestreo que hayas seleccionado, usando los\n",
    "#  resultados de los conjuntos de validación y con respecto a la métrica que has\n",
    "# considerado la mejor:\n",
    "\n",
    "\n",
    "\n",
    "# ************* Inlcuye aquí tu código:******************************\n",
    "\n",
    "None\n",
    "\n",
    "\n",
    "# *********** Aquí termina la sección de agregar código *************\n",
    "\n",
    "\n",
    "plt.show()"
   ]
  },
  {
   "cell_type": "markdown",
   "metadata": {
    "id": "xq8BRGd-Y-Ot"
   },
   "source": [
    "# **Parte III: Mejor modelo**"
   ]
  },
  {
   "cell_type": "markdown",
   "metadata": {
    "id": "eR5SKJk4Y_Q4"
   },
   "source": [
    "## **Ejercicio 18**"
   ]
  },
  {
   "cell_type": "markdown",
   "metadata": {
    "id": "MnngDLxFZ1r-"
   },
   "source": [
    "### **Selecciona y justifica cuál consideras es el mejor modelo que has obtenido hasta ahora, así como la métrica utilizada. Usando solamente este mejor modelo, busca si puedes mejorar el desempeño haciendo un mejor ajuste de los hiperparámetros y usando la métrica que consideraste la más importante para este problema. Verifica que tu modelo no esté sobreentrenado o subentrenado con dicha métrica.**"
   ]
  },
  {
   "cell_type": "markdown",
   "metadata": {
    "id": "URCVEECQZ4t1"
   },
   "source": [
    "### **Incluye tu justificación de cuál consideras es el mejor modelo que has obtenido hasta ahora.**\n",
    "\n",
    "### ++++++++ Inicia la sección de agregar texto: +++++++++++\n",
    "\n",
    "None\n",
    "\n",
    "### ++++++++ Termina la sección de agregar texto. +++++++++++"
   ]
  },
  {
   "cell_type": "code",
   "execution_count": null,
   "metadata": {
    "id": "NOy59wpecKQE"
   },
   "outputs": [],
   "source": [
    "# Incluye todo el código que consideres necesario para que con el mejor\n",
    "# modelo que tienes hasta ahora, puedas mejorar aún un poco más su\n",
    "# desempeño con respecto a la métrica que estás utilizando:\n",
    "\n",
    "\n",
    "# ************* Inlcuye aquí tu código:**************************\n",
    "\n",
    "None\n",
    "\n",
    "# *********** Aquí termina la sección de agregar código *************"
   ]
  },
  {
   "cell_type": "markdown",
   "metadata": {
    "id": "oxKG3mEscBMg"
   },
   "source": [
    "## **Ejercicio 19**"
   ]
  },
  {
   "cell_type": "code",
   "execution_count": null,
   "metadata": {
    "id": "tkkayImfxhPe"
   },
   "outputs": [],
   "source": [
    "# Con el mejor modelo y los mejores hiperparámetros encontrados en el ejercicio\n",
    "# anterior, utiliza ahora (por primera vez en la actividad) el conjunto de\n",
    "# prueba (test set) para:\n",
    "\n",
    "\n",
    "# a.\tObtener la matriz de confusión.\n",
    "\n",
    "\n",
    "# ************* Inlcuye aquí tu código:**************************\n",
    "\n",
    "None\n",
    "\n",
    "\n",
    "# *********** Aquí termina la sección de agregar código *************"
   ]
  },
  {
   "cell_type": "code",
   "execution_count": null,
   "metadata": {
    "id": "F8ezCwBYxhMW"
   },
   "outputs": [],
   "source": [
    "# b.\tEl reporte de todas las métricas con el método “classification_report()” de sklearn.\n",
    "\n",
    "\n",
    "# ************* Inlcuye aquí tu código:**************************\n",
    "\n",
    "None\n",
    "\n",
    "# *********** Aquí termina la sección de agregar código *************"
   ]
  },
  {
   "cell_type": "code",
   "execution_count": null,
   "metadata": {
    "id": "d31mMVXxxhJX"
   },
   "outputs": [],
   "source": [
    "# c.\tRealiza un análisis de importancia de variables (feature importance) de\n",
    "# este mejor modelo con el conjunto de prueba (test), que incluya un gráfico de\n",
    "# barras con la importancia de los factores. Incluye tus conclusiones al\n",
    "# respecto y en particular indica si consideras razonables los factores más\n",
    "# importantes obtenidos.\n",
    "\n",
    "\n",
    "\n",
    "# ************* Inlcuye aquí tu código:**************************\n",
    "\n",
    "None\n",
    "\n",
    "# *********** Aquí termina la sección de agregar código *************"
   ]
  },
  {
   "cell_type": "markdown",
   "metadata": {
    "id": "bvwwpMnAfh7-"
   },
   "source": [
    "### **Incluye aquí tus comentarios sobre los factores más importantes obtenidos.**\n",
    "\n",
    "### ++++++++ Inicia la sección de agregar texto: +++++++++++\n",
    "\n",
    "None\n",
    "\n",
    "### ++++++++ Termina la sección de agregar texto. +++++++++++"
   ]
  },
  {
   "cell_type": "markdown",
   "metadata": {
    "id": "y9TAuq_rgOL4"
   },
   "source": [
    "## **Ejercicio 20**"
   ]
  },
  {
   "cell_type": "markdown",
   "metadata": {
    "id": "Uvt41H2pgL_o"
   },
   "source": [
    "### **Reporta tus conclusiones finales de la actividad.**"
   ]
  },
  {
   "cell_type": "markdown",
   "metadata": {
    "id": "Mty3k38GgYJn"
   },
   "source": [
    "### ++++++++ Inicia la sección de agregar texto: +++++++++++\n",
    "\n",
    "None\n",
    "\n",
    "### ++++++++ Termina la sección de agregar texto. +++++++++++"
   ]
  },
  {
   "cell_type": "markdown",
   "metadata": {
    "id": "I41qUxrhgs0A"
   },
   "source": [
    ">> ### **Fin de la Actividad South German Credit Card.**"
   ]
  }
 ],
 "metadata": {
  "colab": {
   "include_colab_link": true,
   "provenance": []
  },
  "kernelspec": {
   "display_name": "Python 3 (ipykernel)",
   "language": "python",
   "name": "python3"
  },
  "language_info": {
   "codemirror_mode": {
    "name": "ipython",
    "version": 3
   },
   "file_extension": ".py",
   "mimetype": "text/x-python",
   "name": "python",
   "nbconvert_exporter": "python",
   "pygments_lexer": "ipython3",
   "version": "3.11.5"
  }
 },
 "nbformat": 4,
 "nbformat_minor": 1
}
