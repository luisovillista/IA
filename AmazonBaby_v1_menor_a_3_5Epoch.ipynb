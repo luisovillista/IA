{
  "cells": [
    {
      "cell_type": "markdown",
      "metadata": {
        "id": "uQKKpw6CNZK3"
      },
      "source": [
        "# **Inteligencia Artificial y Aprendizaje Automático**\n",
        "## **Redes Neuronales Artificiales**\n",
        "## **Tarea 3**\n",
        "#### **Dr Luis Eduardo Falcón Morales**\n",
        "#### **Tecnológico de Monterrey**"
      ]
    },
    {
      "cell_type": "markdown",
      "metadata": {
        "id": "6eCzc9TbHPF-"
      },
      "source": [
        "#**Análisis de Sentimiento - Amazon_Baby**\n",
        "\n"
      ]
    },
    {
      "cell_type": "code",
      "execution_count": 57,
      "metadata": {
        "id": "wCL2p6MA8NuT"
      },
      "outputs": [],
      "source": [
        "import pandas as pd\n",
        "import numpy as np\n",
        "import matplotlib.pyplot as plt\n",
        "\n",
        "import nltk\n",
        "from nltk.corpus import stopwords\n",
        "\n",
        "import re\n",
        "import string\n",
        "\n",
        "from collections import Counter\n",
        "\n",
        "from sklearn.model_selection import train_test_split\n",
        "from sklearn.linear_model import LogisticRegression\n",
        "from sklearn.feature_extraction.text import TfidfVectorizer\n",
        "from sklearn.metrics import confusion_matrix\n",
        "\n",
        "\n",
        "from keras.preprocessing.text import Tokenizer\n",
        "from tensorflow.keras import regularizers\n",
        "\n",
        "from keras.models import Sequential\n",
        "from keras.layers import Dense, Dropout, Flatten, Embedding, LSTM, Bidirectional, RNN, GRU, SimpleRNN\n",
        "\n",
        "# import keras\n",
        "from tensorflow.keras.preprocessing.text import one_hot, Tokenizer\n",
        "from tensorflow.keras.preprocessing.sequence import pad_sequences\n",
        "\n"
      ]
    },
    {
      "cell_type": "code",
      "execution_count": 58,
      "metadata": {
        "id": "2V1Sx5oV_8KZ",
        "colab": {
          "base_uri": "https://localhost:8080/"
        },
        "outputId": "f61b044c-1ab0-4162-f9a2-87860c0d17ce"
      },
      "outputs": [
        {
          "output_type": "stream",
          "name": "stderr",
          "text": [
            "[nltk_data] Downloading package punkt to /root/nltk_data...\n",
            "[nltk_data]   Package punkt is already up-to-date!\n",
            "[nltk_data] Downloading package stopwords to /root/nltk_data...\n",
            "[nltk_data]   Package stopwords is already up-to-date!\n"
          ]
        },
        {
          "output_type": "execute_result",
          "data": {
            "text/plain": [
              "True"
            ]
          },
          "metadata": {},
          "execution_count": 58
        }
      ],
      "source": [
        "nltk.download('punkt')\n",
        "nltk.download('stopwords')"
      ]
    },
    {
      "cell_type": "markdown",
      "metadata": {
        "id": "i_jdbZm6ACcM"
      },
      "source": [
        "###**Definamos primero nuestro conjunto de Stopwords que no incluya las negaciones:**\n",
        "\n",
        "### Puedes usar el conjunto Stopwords por default que incluye las negaciones y al final el modelo sale como con 1% menor de accuracy."
      ]
    },
    {
      "cell_type": "code",
      "execution_count": 59,
      "metadata": {
        "id": "onl1GCFUAKTH"
      },
      "outputs": [],
      "source": [
        "negwords = [ 'no', 'nor', 'not', 'ain', 'aren', \"aren't\", 'don', \"don't\", 'couldn', \"couldn't\", 'didn', \"didn't\", 'doesn', \"doesn't\", 'hadn', \"hadn't\", 'hasn', \"hasn't\", 'haven', \"haven't\", 'isn', \"isn't\", 'mightn', \"mightn't\", 'mustn', \"mustn't\", 'needn', \"needn't\", 'shan', \"shan't\", 'shouldn', \"shouldn't\", 'wasn', \"wasn't\", 'weren', \"weren't\", 'won', \"won't\", 'wouldn', \"wouldn't\"]"
      ]
    },
    {
      "cell_type": "code",
      "execution_count": 60,
      "metadata": {
        "id": "_uj1aTYPANe1",
        "colab": {
          "base_uri": "https://localhost:8080/"
        },
        "outputId": "ddb7e6a1-1aa0-449d-ad7c-6d9288e7430a"
      },
      "outputs": [
        {
          "output_type": "stream",
          "name": "stdout",
          "text": [
            "['i', 'me', 'my', 'myself', 'we', 'our', 'ours', 'ourselves', 'you', \"you're\", \"you've\", \"you'll\", \"you'd\", 'your', 'yours', 'yourself', 'yourselves', 'he', 'him', 'his', 'himself', 'she', \"she's\", 'her', 'hers', 'herself', 'it', \"it's\", 'its', 'itself', 'they', 'them', 'their', 'theirs', 'themselves', 'what', 'which', 'who', 'whom', 'this', 'that', \"that'll\", 'these', 'those', 'am', 'is', 'are', 'was', 'were', 'be', 'been', 'being', 'have', 'has', 'had', 'having', 'do', 'does', 'did', 'doing', 'a', 'an', 'the', 'and', 'but', 'if', 'or', 'because', 'as', 'until', 'while', 'of', 'at', 'by', 'for', 'with', 'about', 'against', 'between', 'into', 'through', 'during', 'before', 'after', 'above', 'below', 'to', 'from', 'up', 'down', 'in', 'out', 'on', 'off', 'over', 'under', 'again', 'further', 'then', 'once', 'here', 'there', 'when', 'where', 'why', 'how', 'all', 'any', 'both', 'each', 'few', 'more', 'most', 'other', 'some', 'such', 'only', 'own', 'same', 'so', 'than', 'too', 'very', 's', 't', 'can', 'will', 'just', 'should', \"should've\", 'now', 'd', 'll', 'm', 'o', 're', 've', 'y', 'ma']\n"
          ]
        }
      ],
      "source": [
        "mystopwords = [ w for w in stopwords.words('english') if w not in negwords]\n",
        "print(mystopwords)"
      ]
    },
    {
      "cell_type": "code",
      "execution_count": 61,
      "metadata": {
        "id": "AGrjPhwkNuGu",
        "colab": {
          "base_uri": "https://localhost:8080/"
        },
        "outputId": "72b08a56-0af3-4d3a-afc9-8faaf05890d0"
      },
      "outputs": [
        {
          "output_type": "stream",
          "name": "stdout",
          "text": [
            "['i', 'me', 'my', 'myself', 'we', 'our', 'ours', 'ourselves', 'you', \"you're\", \"you've\", \"you'll\", \"you'd\", 'your', 'yours', 'yourself', 'yourselves', 'he', 'him', 'his', 'himself', 'she', \"she's\", 'her', 'hers', 'herself', 'it', \"it's\", 'its', 'itself', 'they', 'them', 'their', 'theirs', 'themselves', 'what', 'which', 'who', 'whom', 'this', 'that', \"that'll\", 'these', 'those', 'am', 'is', 'are', 'was', 'were', 'be', 'been', 'being', 'have', 'has', 'had', 'having', 'do', 'does', 'did', 'doing', 'a', 'an', 'the', 'and', 'but', 'if', 'or', 'because', 'as', 'until', 'while', 'of', 'at', 'by', 'for', 'with', 'about', 'against', 'between', 'into', 'through', 'during', 'before', 'after', 'above', 'below', 'to', 'from', 'up', 'down', 'in', 'out', 'on', 'off', 'over', 'under', 'again', 'further', 'then', 'once', 'here', 'there', 'when', 'where', 'why', 'how', 'all', 'any', 'both', 'each', 'few', 'more', 'most', 'other', 'some', 'such', 'only', 'own', 'same', 'so', 'than', 'too', 'very', 's', 't', 'can', 'will', 'just', 'should', \"should've\", 'now', 'd', 'll', 'm', 'o', 're', 've', 'y', 'ma', 'themthat', 'perfectlywould']\n"
          ]
        }
      ],
      "source": [
        "mystopwords.extend([\"themthat\", \"perfectlywould\"])\n",
        "print(mystopwords)"
      ]
    },
    {
      "cell_type": "markdown",
      "metadata": {
        "id": "w3EvJg8YAkEe"
      },
      "source": [
        "###**Cargamos la base de datos de Amazon_baby**"
      ]
    },
    {
      "cell_type": "code",
      "execution_count": 62,
      "metadata": {
        "id": "1bXOeDGf9GIG",
        "colab": {
          "base_uri": "https://localhost:8080/",
          "height": 206
        },
        "outputId": "7ce56d92-ec0d-4d72-dfa1-12497792d456"
      },
      "outputs": [
        {
          "output_type": "execute_result",
          "data": {
            "text/plain": [
              "                                              review  rating\n",
              "0  I think it is more Expensive than drugstore th...       0\n",
              "1  When I saw this on Amazon, I put it into my wi...       1\n",
              "2  We really like these valances.  They have such...       1\n",
              "3  No light emits from the night light. They pain...       0\n",
              "4  I was really hoping for this to be a conventie...       0"
            ],
            "text/html": [
              "\n",
              "  <div id=\"df-e9298962-b5a4-49f1-aec6-12798fbb3ca0\" class=\"colab-df-container\">\n",
              "    <div>\n",
              "<style scoped>\n",
              "    .dataframe tbody tr th:only-of-type {\n",
              "        vertical-align: middle;\n",
              "    }\n",
              "\n",
              "    .dataframe tbody tr th {\n",
              "        vertical-align: top;\n",
              "    }\n",
              "\n",
              "    .dataframe thead th {\n",
              "        text-align: right;\n",
              "    }\n",
              "</style>\n",
              "<table border=\"1\" class=\"dataframe\">\n",
              "  <thead>\n",
              "    <tr style=\"text-align: right;\">\n",
              "      <th></th>\n",
              "      <th>review</th>\n",
              "      <th>rating</th>\n",
              "    </tr>\n",
              "  </thead>\n",
              "  <tbody>\n",
              "    <tr>\n",
              "      <th>0</th>\n",
              "      <td>I think it is more Expensive than drugstore th...</td>\n",
              "      <td>0</td>\n",
              "    </tr>\n",
              "    <tr>\n",
              "      <th>1</th>\n",
              "      <td>When I saw this on Amazon, I put it into my wi...</td>\n",
              "      <td>1</td>\n",
              "    </tr>\n",
              "    <tr>\n",
              "      <th>2</th>\n",
              "      <td>We really like these valances.  They have such...</td>\n",
              "      <td>1</td>\n",
              "    </tr>\n",
              "    <tr>\n",
              "      <th>3</th>\n",
              "      <td>No light emits from the night light. They pain...</td>\n",
              "      <td>0</td>\n",
              "    </tr>\n",
              "    <tr>\n",
              "      <th>4</th>\n",
              "      <td>I was really hoping for this to be a conventie...</td>\n",
              "      <td>0</td>\n",
              "    </tr>\n",
              "  </tbody>\n",
              "</table>\n",
              "</div>\n",
              "    <div class=\"colab-df-buttons\">\n",
              "\n",
              "  <div class=\"colab-df-container\">\n",
              "    <button class=\"colab-df-convert\" onclick=\"convertToInteractive('df-e9298962-b5a4-49f1-aec6-12798fbb3ca0')\"\n",
              "            title=\"Convert this dataframe to an interactive table.\"\n",
              "            style=\"display:none;\">\n",
              "\n",
              "  <svg xmlns=\"http://www.w3.org/2000/svg\" height=\"24px\" viewBox=\"0 -960 960 960\">\n",
              "    <path d=\"M120-120v-720h720v720H120Zm60-500h600v-160H180v160Zm220 220h160v-160H400v160Zm0 220h160v-160H400v160ZM180-400h160v-160H180v160Zm440 0h160v-160H620v160ZM180-180h160v-160H180v160Zm440 0h160v-160H620v160Z\"/>\n",
              "  </svg>\n",
              "    </button>\n",
              "\n",
              "  <style>\n",
              "    .colab-df-container {\n",
              "      display:flex;\n",
              "      gap: 12px;\n",
              "    }\n",
              "\n",
              "    .colab-df-convert {\n",
              "      background-color: #E8F0FE;\n",
              "      border: none;\n",
              "      border-radius: 50%;\n",
              "      cursor: pointer;\n",
              "      display: none;\n",
              "      fill: #1967D2;\n",
              "      height: 32px;\n",
              "      padding: 0 0 0 0;\n",
              "      width: 32px;\n",
              "    }\n",
              "\n",
              "    .colab-df-convert:hover {\n",
              "      background-color: #E2EBFA;\n",
              "      box-shadow: 0px 1px 2px rgba(60, 64, 67, 0.3), 0px 1px 3px 1px rgba(60, 64, 67, 0.15);\n",
              "      fill: #174EA6;\n",
              "    }\n",
              "\n",
              "    .colab-df-buttons div {\n",
              "      margin-bottom: 4px;\n",
              "    }\n",
              "\n",
              "    [theme=dark] .colab-df-convert {\n",
              "      background-color: #3B4455;\n",
              "      fill: #D2E3FC;\n",
              "    }\n",
              "\n",
              "    [theme=dark] .colab-df-convert:hover {\n",
              "      background-color: #434B5C;\n",
              "      box-shadow: 0px 1px 3px 1px rgba(0, 0, 0, 0.15);\n",
              "      filter: drop-shadow(0px 1px 2px rgba(0, 0, 0, 0.3));\n",
              "      fill: #FFFFFF;\n",
              "    }\n",
              "  </style>\n",
              "\n",
              "    <script>\n",
              "      const buttonEl =\n",
              "        document.querySelector('#df-e9298962-b5a4-49f1-aec6-12798fbb3ca0 button.colab-df-convert');\n",
              "      buttonEl.style.display =\n",
              "        google.colab.kernel.accessAllowed ? 'block' : 'none';\n",
              "\n",
              "      async function convertToInteractive(key) {\n",
              "        const element = document.querySelector('#df-e9298962-b5a4-49f1-aec6-12798fbb3ca0');\n",
              "        const dataTable =\n",
              "          await google.colab.kernel.invokeFunction('convertToInteractive',\n",
              "                                                    [key], {});\n",
              "        if (!dataTable) return;\n",
              "\n",
              "        const docLinkHtml = 'Like what you see? Visit the ' +\n",
              "          '<a target=\"_blank\" href=https://colab.research.google.com/notebooks/data_table.ipynb>data table notebook</a>'\n",
              "          + ' to learn more about interactive tables.';\n",
              "        element.innerHTML = '';\n",
              "        dataTable['output_type'] = 'display_data';\n",
              "        await google.colab.output.renderOutput(dataTable, element);\n",
              "        const docLink = document.createElement('div');\n",
              "        docLink.innerHTML = docLinkHtml;\n",
              "        element.appendChild(docLink);\n",
              "      }\n",
              "    </script>\n",
              "  </div>\n",
              "\n",
              "\n",
              "<div id=\"df-30bd49ba-521a-47e5-8c5f-cab02f32472f\">\n",
              "  <button class=\"colab-df-quickchart\" onclick=\"quickchart('df-30bd49ba-521a-47e5-8c5f-cab02f32472f')\"\n",
              "            title=\"Suggest charts\"\n",
              "            style=\"display:none;\">\n",
              "\n",
              "<svg xmlns=\"http://www.w3.org/2000/svg\" height=\"24px\"viewBox=\"0 0 24 24\"\n",
              "     width=\"24px\">\n",
              "    <g>\n",
              "        <path d=\"M19 3H5c-1.1 0-2 .9-2 2v14c0 1.1.9 2 2 2h14c1.1 0 2-.9 2-2V5c0-1.1-.9-2-2-2zM9 17H7v-7h2v7zm4 0h-2V7h2v10zm4 0h-2v-4h2v4z\"/>\n",
              "    </g>\n",
              "</svg>\n",
              "  </button>\n",
              "\n",
              "<style>\n",
              "  .colab-df-quickchart {\n",
              "      --bg-color: #E8F0FE;\n",
              "      --fill-color: #1967D2;\n",
              "      --hover-bg-color: #E2EBFA;\n",
              "      --hover-fill-color: #174EA6;\n",
              "      --disabled-fill-color: #AAA;\n",
              "      --disabled-bg-color: #DDD;\n",
              "  }\n",
              "\n",
              "  [theme=dark] .colab-df-quickchart {\n",
              "      --bg-color: #3B4455;\n",
              "      --fill-color: #D2E3FC;\n",
              "      --hover-bg-color: #434B5C;\n",
              "      --hover-fill-color: #FFFFFF;\n",
              "      --disabled-bg-color: #3B4455;\n",
              "      --disabled-fill-color: #666;\n",
              "  }\n",
              "\n",
              "  .colab-df-quickchart {\n",
              "    background-color: var(--bg-color);\n",
              "    border: none;\n",
              "    border-radius: 50%;\n",
              "    cursor: pointer;\n",
              "    display: none;\n",
              "    fill: var(--fill-color);\n",
              "    height: 32px;\n",
              "    padding: 0;\n",
              "    width: 32px;\n",
              "  }\n",
              "\n",
              "  .colab-df-quickchart:hover {\n",
              "    background-color: var(--hover-bg-color);\n",
              "    box-shadow: 0 1px 2px rgba(60, 64, 67, 0.3), 0 1px 3px 1px rgba(60, 64, 67, 0.15);\n",
              "    fill: var(--button-hover-fill-color);\n",
              "  }\n",
              "\n",
              "  .colab-df-quickchart-complete:disabled,\n",
              "  .colab-df-quickchart-complete:disabled:hover {\n",
              "    background-color: var(--disabled-bg-color);\n",
              "    fill: var(--disabled-fill-color);\n",
              "    box-shadow: none;\n",
              "  }\n",
              "\n",
              "  .colab-df-spinner {\n",
              "    border: 2px solid var(--fill-color);\n",
              "    border-color: transparent;\n",
              "    border-bottom-color: var(--fill-color);\n",
              "    animation:\n",
              "      spin 1s steps(1) infinite;\n",
              "  }\n",
              "\n",
              "  @keyframes spin {\n",
              "    0% {\n",
              "      border-color: transparent;\n",
              "      border-bottom-color: var(--fill-color);\n",
              "      border-left-color: var(--fill-color);\n",
              "    }\n",
              "    20% {\n",
              "      border-color: transparent;\n",
              "      border-left-color: var(--fill-color);\n",
              "      border-top-color: var(--fill-color);\n",
              "    }\n",
              "    30% {\n",
              "      border-color: transparent;\n",
              "      border-left-color: var(--fill-color);\n",
              "      border-top-color: var(--fill-color);\n",
              "      border-right-color: var(--fill-color);\n",
              "    }\n",
              "    40% {\n",
              "      border-color: transparent;\n",
              "      border-right-color: var(--fill-color);\n",
              "      border-top-color: var(--fill-color);\n",
              "    }\n",
              "    60% {\n",
              "      border-color: transparent;\n",
              "      border-right-color: var(--fill-color);\n",
              "    }\n",
              "    80% {\n",
              "      border-color: transparent;\n",
              "      border-right-color: var(--fill-color);\n",
              "      border-bottom-color: var(--fill-color);\n",
              "    }\n",
              "    90% {\n",
              "      border-color: transparent;\n",
              "      border-bottom-color: var(--fill-color);\n",
              "    }\n",
              "  }\n",
              "</style>\n",
              "\n",
              "  <script>\n",
              "    async function quickchart(key) {\n",
              "      const quickchartButtonEl =\n",
              "        document.querySelector('#' + key + ' button');\n",
              "      quickchartButtonEl.disabled = true;  // To prevent multiple clicks.\n",
              "      quickchartButtonEl.classList.add('colab-df-spinner');\n",
              "      try {\n",
              "        const charts = await google.colab.kernel.invokeFunction(\n",
              "            'suggestCharts', [key], {});\n",
              "      } catch (error) {\n",
              "        console.error('Error during call to suggestCharts:', error);\n",
              "      }\n",
              "      quickchartButtonEl.classList.remove('colab-df-spinner');\n",
              "      quickchartButtonEl.classList.add('colab-df-quickchart-complete');\n",
              "    }\n",
              "    (() => {\n",
              "      let quickchartButtonEl =\n",
              "        document.querySelector('#df-30bd49ba-521a-47e5-8c5f-cab02f32472f button');\n",
              "      quickchartButtonEl.style.display =\n",
              "        google.colab.kernel.accessAllowed ? 'block' : 'none';\n",
              "    })();\n",
              "  </script>\n",
              "</div>\n",
              "\n",
              "    </div>\n",
              "  </div>\n"
            ],
            "application/vnd.google.colaboratory.intrinsic+json": {
              "type": "dataframe",
              "variable_name": "df1",
              "summary": "{\n  \"name\": \"df1\",\n  \"rows\": 5000,\n  \"fields\": [\n    {\n      \"column\": \"review\",\n      \"properties\": {\n        \"dtype\": \"string\",\n        \"num_unique_values\": 5000,\n        \"samples\": [\n          \"This toy is so amazing - my friends had raved about it and so I decided to get one.  Our 3 month old doesn't have much interest in toys yet but she loves this.  It can entertain her a long time!  It's now my go-to baby shower add on gift.\",\n          \"this was a great price for what i got, if you go into other stores you will see robs similar to this and it will be close to 30.00$. my sister in law loves this for her little boy!\",\n          \"I think the description is very accurate, It's great, looks like high quality, and durable. i love that it teaches you on one side the name of the animal with a picture and on the other side how to spell it in korean.\"\n        ],\n        \"semantic_type\": \"\",\n        \"description\": \"\"\n      }\n    },\n    {\n      \"column\": \"rating\",\n      \"properties\": {\n        \"dtype\": \"number\",\n        \"std\": 0,\n        \"min\": 0,\n        \"max\": 1,\n        \"num_unique_values\": 2,\n        \"samples\": [\n          1,\n          0\n        ],\n        \"semantic_type\": \"\",\n        \"description\": \"\"\n      }\n    }\n  ]\n}"
            }
          },
          "metadata": {},
          "execution_count": 62
        }
      ],
      "source": [
        "df1 = pd.read_csv(\"/content/amazonbaby5000.csv\")\n",
        "df1.head()"
      ]
    },
    {
      "cell_type": "code",
      "execution_count": 63,
      "metadata": {
        "id": "yD_SHy2W9Kpl",
        "colab": {
          "base_uri": "https://localhost:8080/"
        },
        "outputId": "37e6cb19-8ff3-4459-8567-7c25bb23e34c"
      },
      "outputs": [
        {
          "output_type": "stream",
          "name": "stdout",
          "text": [
            "<class 'pandas.core.frame.DataFrame'>\n",
            "RangeIndex: 5000 entries, 0 to 4999\n",
            "Data columns (total 2 columns):\n",
            " #   Column  Non-Null Count  Dtype \n",
            "---  ------  --------------  ----- \n",
            " 0   review  5000 non-null   object\n",
            " 1   rating  5000 non-null   int64 \n",
            "dtypes: int64(1), object(1)\n",
            "memory usage: 78.2+ KB\n"
          ]
        }
      ],
      "source": [
        "df1.dropna(inplace=True)   # borra los renglones NaN con todo e índice, es decir, ahora se salta dicho índice.\n",
        "df1.reset_index(drop=True,inplace=True)   # para que se reinicialicen los índices y no queden salteados.\n",
        "df1.info()"
      ]
    },
    {
      "cell_type": "code",
      "execution_count": 64,
      "metadata": {
        "id": "4_yy0A__9OoO"
      },
      "outputs": [],
      "source": [
        "my_df = df1[['review','rating']]"
      ]
    },
    {
      "cell_type": "code",
      "execution_count": 65,
      "metadata": {
        "id": "jv3FpJK89gB9",
        "colab": {
          "base_uri": "https://localhost:8080/",
          "height": 206
        },
        "outputId": "2882ecf0-cfc2-48dc-c3b5-00a8c79b9f4e"
      },
      "outputs": [
        {
          "output_type": "execute_result",
          "data": {
            "text/plain": [
              "                                              review  rating\n",
              "0  I think it is more Expensive than drugstore th...       0\n",
              "1  When I saw this on Amazon, I put it into my wi...       1\n",
              "2  We really like these valances.  They have such...       1\n",
              "3  No light emits from the night light. They pain...       0\n",
              "4  I was really hoping for this to be a conventie...       0"
            ],
            "text/html": [
              "\n",
              "  <div id=\"df-53abaefb-03e9-4c2b-a8b8-7ad7b164096d\" class=\"colab-df-container\">\n",
              "    <div>\n",
              "<style scoped>\n",
              "    .dataframe tbody tr th:only-of-type {\n",
              "        vertical-align: middle;\n",
              "    }\n",
              "\n",
              "    .dataframe tbody tr th {\n",
              "        vertical-align: top;\n",
              "    }\n",
              "\n",
              "    .dataframe thead th {\n",
              "        text-align: right;\n",
              "    }\n",
              "</style>\n",
              "<table border=\"1\" class=\"dataframe\">\n",
              "  <thead>\n",
              "    <tr style=\"text-align: right;\">\n",
              "      <th></th>\n",
              "      <th>review</th>\n",
              "      <th>rating</th>\n",
              "    </tr>\n",
              "  </thead>\n",
              "  <tbody>\n",
              "    <tr>\n",
              "      <th>0</th>\n",
              "      <td>I think it is more Expensive than drugstore th...</td>\n",
              "      <td>0</td>\n",
              "    </tr>\n",
              "    <tr>\n",
              "      <th>1</th>\n",
              "      <td>When I saw this on Amazon, I put it into my wi...</td>\n",
              "      <td>1</td>\n",
              "    </tr>\n",
              "    <tr>\n",
              "      <th>2</th>\n",
              "      <td>We really like these valances.  They have such...</td>\n",
              "      <td>1</td>\n",
              "    </tr>\n",
              "    <tr>\n",
              "      <th>3</th>\n",
              "      <td>No light emits from the night light. They pain...</td>\n",
              "      <td>0</td>\n",
              "    </tr>\n",
              "    <tr>\n",
              "      <th>4</th>\n",
              "      <td>I was really hoping for this to be a conventie...</td>\n",
              "      <td>0</td>\n",
              "    </tr>\n",
              "  </tbody>\n",
              "</table>\n",
              "</div>\n",
              "    <div class=\"colab-df-buttons\">\n",
              "\n",
              "  <div class=\"colab-df-container\">\n",
              "    <button class=\"colab-df-convert\" onclick=\"convertToInteractive('df-53abaefb-03e9-4c2b-a8b8-7ad7b164096d')\"\n",
              "            title=\"Convert this dataframe to an interactive table.\"\n",
              "            style=\"display:none;\">\n",
              "\n",
              "  <svg xmlns=\"http://www.w3.org/2000/svg\" height=\"24px\" viewBox=\"0 -960 960 960\">\n",
              "    <path d=\"M120-120v-720h720v720H120Zm60-500h600v-160H180v160Zm220 220h160v-160H400v160Zm0 220h160v-160H400v160ZM180-400h160v-160H180v160Zm440 0h160v-160H620v160ZM180-180h160v-160H180v160Zm440 0h160v-160H620v160Z\"/>\n",
              "  </svg>\n",
              "    </button>\n",
              "\n",
              "  <style>\n",
              "    .colab-df-container {\n",
              "      display:flex;\n",
              "      gap: 12px;\n",
              "    }\n",
              "\n",
              "    .colab-df-convert {\n",
              "      background-color: #E8F0FE;\n",
              "      border: none;\n",
              "      border-radius: 50%;\n",
              "      cursor: pointer;\n",
              "      display: none;\n",
              "      fill: #1967D2;\n",
              "      height: 32px;\n",
              "      padding: 0 0 0 0;\n",
              "      width: 32px;\n",
              "    }\n",
              "\n",
              "    .colab-df-convert:hover {\n",
              "      background-color: #E2EBFA;\n",
              "      box-shadow: 0px 1px 2px rgba(60, 64, 67, 0.3), 0px 1px 3px 1px rgba(60, 64, 67, 0.15);\n",
              "      fill: #174EA6;\n",
              "    }\n",
              "\n",
              "    .colab-df-buttons div {\n",
              "      margin-bottom: 4px;\n",
              "    }\n",
              "\n",
              "    [theme=dark] .colab-df-convert {\n",
              "      background-color: #3B4455;\n",
              "      fill: #D2E3FC;\n",
              "    }\n",
              "\n",
              "    [theme=dark] .colab-df-convert:hover {\n",
              "      background-color: #434B5C;\n",
              "      box-shadow: 0px 1px 3px 1px rgba(0, 0, 0, 0.15);\n",
              "      filter: drop-shadow(0px 1px 2px rgba(0, 0, 0, 0.3));\n",
              "      fill: #FFFFFF;\n",
              "    }\n",
              "  </style>\n",
              "\n",
              "    <script>\n",
              "      const buttonEl =\n",
              "        document.querySelector('#df-53abaefb-03e9-4c2b-a8b8-7ad7b164096d button.colab-df-convert');\n",
              "      buttonEl.style.display =\n",
              "        google.colab.kernel.accessAllowed ? 'block' : 'none';\n",
              "\n",
              "      async function convertToInteractive(key) {\n",
              "        const element = document.querySelector('#df-53abaefb-03e9-4c2b-a8b8-7ad7b164096d');\n",
              "        const dataTable =\n",
              "          await google.colab.kernel.invokeFunction('convertToInteractive',\n",
              "                                                    [key], {});\n",
              "        if (!dataTable) return;\n",
              "\n",
              "        const docLinkHtml = 'Like what you see? Visit the ' +\n",
              "          '<a target=\"_blank\" href=https://colab.research.google.com/notebooks/data_table.ipynb>data table notebook</a>'\n",
              "          + ' to learn more about interactive tables.';\n",
              "        element.innerHTML = '';\n",
              "        dataTable['output_type'] = 'display_data';\n",
              "        await google.colab.output.renderOutput(dataTable, element);\n",
              "        const docLink = document.createElement('div');\n",
              "        docLink.innerHTML = docLinkHtml;\n",
              "        element.appendChild(docLink);\n",
              "      }\n",
              "    </script>\n",
              "  </div>\n",
              "\n",
              "\n",
              "<div id=\"df-b7c6d42c-86a0-42b2-ba36-58a7b981d099\">\n",
              "  <button class=\"colab-df-quickchart\" onclick=\"quickchart('df-b7c6d42c-86a0-42b2-ba36-58a7b981d099')\"\n",
              "            title=\"Suggest charts\"\n",
              "            style=\"display:none;\">\n",
              "\n",
              "<svg xmlns=\"http://www.w3.org/2000/svg\" height=\"24px\"viewBox=\"0 0 24 24\"\n",
              "     width=\"24px\">\n",
              "    <g>\n",
              "        <path d=\"M19 3H5c-1.1 0-2 .9-2 2v14c0 1.1.9 2 2 2h14c1.1 0 2-.9 2-2V5c0-1.1-.9-2-2-2zM9 17H7v-7h2v7zm4 0h-2V7h2v10zm4 0h-2v-4h2v4z\"/>\n",
              "    </g>\n",
              "</svg>\n",
              "  </button>\n",
              "\n",
              "<style>\n",
              "  .colab-df-quickchart {\n",
              "      --bg-color: #E8F0FE;\n",
              "      --fill-color: #1967D2;\n",
              "      --hover-bg-color: #E2EBFA;\n",
              "      --hover-fill-color: #174EA6;\n",
              "      --disabled-fill-color: #AAA;\n",
              "      --disabled-bg-color: #DDD;\n",
              "  }\n",
              "\n",
              "  [theme=dark] .colab-df-quickchart {\n",
              "      --bg-color: #3B4455;\n",
              "      --fill-color: #D2E3FC;\n",
              "      --hover-bg-color: #434B5C;\n",
              "      --hover-fill-color: #FFFFFF;\n",
              "      --disabled-bg-color: #3B4455;\n",
              "      --disabled-fill-color: #666;\n",
              "  }\n",
              "\n",
              "  .colab-df-quickchart {\n",
              "    background-color: var(--bg-color);\n",
              "    border: none;\n",
              "    border-radius: 50%;\n",
              "    cursor: pointer;\n",
              "    display: none;\n",
              "    fill: var(--fill-color);\n",
              "    height: 32px;\n",
              "    padding: 0;\n",
              "    width: 32px;\n",
              "  }\n",
              "\n",
              "  .colab-df-quickchart:hover {\n",
              "    background-color: var(--hover-bg-color);\n",
              "    box-shadow: 0 1px 2px rgba(60, 64, 67, 0.3), 0 1px 3px 1px rgba(60, 64, 67, 0.15);\n",
              "    fill: var(--button-hover-fill-color);\n",
              "  }\n",
              "\n",
              "  .colab-df-quickchart-complete:disabled,\n",
              "  .colab-df-quickchart-complete:disabled:hover {\n",
              "    background-color: var(--disabled-bg-color);\n",
              "    fill: var(--disabled-fill-color);\n",
              "    box-shadow: none;\n",
              "  }\n",
              "\n",
              "  .colab-df-spinner {\n",
              "    border: 2px solid var(--fill-color);\n",
              "    border-color: transparent;\n",
              "    border-bottom-color: var(--fill-color);\n",
              "    animation:\n",
              "      spin 1s steps(1) infinite;\n",
              "  }\n",
              "\n",
              "  @keyframes spin {\n",
              "    0% {\n",
              "      border-color: transparent;\n",
              "      border-bottom-color: var(--fill-color);\n",
              "      border-left-color: var(--fill-color);\n",
              "    }\n",
              "    20% {\n",
              "      border-color: transparent;\n",
              "      border-left-color: var(--fill-color);\n",
              "      border-top-color: var(--fill-color);\n",
              "    }\n",
              "    30% {\n",
              "      border-color: transparent;\n",
              "      border-left-color: var(--fill-color);\n",
              "      border-top-color: var(--fill-color);\n",
              "      border-right-color: var(--fill-color);\n",
              "    }\n",
              "    40% {\n",
              "      border-color: transparent;\n",
              "      border-right-color: var(--fill-color);\n",
              "      border-top-color: var(--fill-color);\n",
              "    }\n",
              "    60% {\n",
              "      border-color: transparent;\n",
              "      border-right-color: var(--fill-color);\n",
              "    }\n",
              "    80% {\n",
              "      border-color: transparent;\n",
              "      border-right-color: var(--fill-color);\n",
              "      border-bottom-color: var(--fill-color);\n",
              "    }\n",
              "    90% {\n",
              "      border-color: transparent;\n",
              "      border-bottom-color: var(--fill-color);\n",
              "    }\n",
              "  }\n",
              "</style>\n",
              "\n",
              "  <script>\n",
              "    async function quickchart(key) {\n",
              "      const quickchartButtonEl =\n",
              "        document.querySelector('#' + key + ' button');\n",
              "      quickchartButtonEl.disabled = true;  // To prevent multiple clicks.\n",
              "      quickchartButtonEl.classList.add('colab-df-spinner');\n",
              "      try {\n",
              "        const charts = await google.colab.kernel.invokeFunction(\n",
              "            'suggestCharts', [key], {});\n",
              "      } catch (error) {\n",
              "        console.error('Error during call to suggestCharts:', error);\n",
              "      }\n",
              "      quickchartButtonEl.classList.remove('colab-df-spinner');\n",
              "      quickchartButtonEl.classList.add('colab-df-quickchart-complete');\n",
              "    }\n",
              "    (() => {\n",
              "      let quickchartButtonEl =\n",
              "        document.querySelector('#df-b7c6d42c-86a0-42b2-ba36-58a7b981d099 button');\n",
              "      quickchartButtonEl.style.display =\n",
              "        google.colab.kernel.accessAllowed ? 'block' : 'none';\n",
              "    })();\n",
              "  </script>\n",
              "</div>\n",
              "\n",
              "    </div>\n",
              "  </div>\n"
            ],
            "application/vnd.google.colaboratory.intrinsic+json": {
              "type": "dataframe",
              "variable_name": "my_df",
              "summary": "{\n  \"name\": \"my_df\",\n  \"rows\": 5000,\n  \"fields\": [\n    {\n      \"column\": \"review\",\n      \"properties\": {\n        \"dtype\": \"string\",\n        \"num_unique_values\": 5000,\n        \"samples\": [\n          \"This toy is so amazing - my friends had raved about it and so I decided to get one.  Our 3 month old doesn't have much interest in toys yet but she loves this.  It can entertain her a long time!  It's now my go-to baby shower add on gift.\",\n          \"this was a great price for what i got, if you go into other stores you will see robs similar to this and it will be close to 30.00$. my sister in law loves this for her little boy!\",\n          \"I think the description is very accurate, It's great, looks like high quality, and durable. i love that it teaches you on one side the name of the animal with a picture and on the other side how to spell it in korean.\"\n        ],\n        \"semantic_type\": \"\",\n        \"description\": \"\"\n      }\n    },\n    {\n      \"column\": \"rating\",\n      \"properties\": {\n        \"dtype\": \"number\",\n        \"std\": 0,\n        \"min\": 0,\n        \"max\": 1,\n        \"num_unique_values\": 2,\n        \"samples\": [\n          1,\n          0\n        ],\n        \"semantic_type\": \"\",\n        \"description\": \"\"\n      }\n    }\n  ]\n}"
            }
          },
          "metadata": {},
          "execution_count": 65
        }
      ],
      "source": [
        "my_df.head()"
      ]
    },
    {
      "cell_type": "code",
      "execution_count": 66,
      "metadata": {
        "id": "lcJX3iG29jxs",
        "colab": {
          "base_uri": "https://localhost:8080/"
        },
        "outputId": "751ef5dd-ab78-49a3-c16c-d58678be144b"
      },
      "outputs": [
        {
          "output_type": "execute_result",
          "data": {
            "text/plain": [
              "(5000,)"
            ]
          },
          "metadata": {},
          "execution_count": 66
        }
      ],
      "source": [
        "X = my_df.review\n",
        "Y = my_df.rating\n",
        "\n",
        "X.shape"
      ]
    },
    {
      "cell_type": "code",
      "execution_count": 67,
      "metadata": {
        "id": "AJCW0hqMCmcw",
        "colab": {
          "base_uri": "https://localhost:8080/"
        },
        "outputId": "37b44e21-df9a-4172-9d88-594f22ee4a9b"
      },
      "outputs": [
        {
          "output_type": "execute_result",
          "data": {
            "text/plain": [
              "0.768"
            ]
          },
          "metadata": {},
          "execution_count": 67
        }
      ],
      "source": [
        "sum(Y) / len(Y)   # Están algo desbalanceadas las clases..."
      ]
    },
    {
      "cell_type": "code",
      "execution_count": 68,
      "metadata": {
        "id": "-6h61azA-KgV"
      },
      "outputs": [],
      "source": [
        "# Hacemos una limpieza mínima:\n",
        "def clean_doc(doc):\n",
        "  # split into tokens by white space\n",
        "  tokens = doc.split()\n",
        "  # prepare regex for char filtering\n",
        "  re_punc = re.compile('[%s]' % re.escape(string.punctuation))\n",
        "  # remove punctuation from each word\n",
        "  tokens = [re_punc.sub('', w) for w in tokens]\n",
        "  # remove remaining tokens that are not alphabetic\n",
        "  tokens = [word.lower() for word in tokens if word.isalpha()]\n",
        "  # filter out stop words\n",
        "  tokens = [w for w in tokens if not w in mystopwords]\n",
        "  # filter out short tokens\n",
        "  tokens = [word for word in tokens if len(word) > 1]\n",
        "  return tokens"
      ]
    },
    {
      "cell_type": "code",
      "execution_count": 69,
      "metadata": {
        "id": "emzufPuTBA2Y"
      },
      "outputs": [],
      "source": [
        "Xclean = [clean_doc(s) for s in X]"
      ]
    },
    {
      "cell_type": "code",
      "execution_count": 70,
      "metadata": {
        "id": "H15vKYdBBkd1",
        "colab": {
          "base_uri": "https://localhost:8080/"
        },
        "outputId": "df7af823-010b-46b6-c06f-36d842c1391a"
      },
      "outputs": [
        {
          "output_type": "stream",
          "name": "stdout",
          "text": [
            "['think', 'expensive', 'drugstore', 'cost', 'good', 'chose', 'want']\n",
            "['saw', 'amazon', 'put', 'wish', 'list', 'would', 'able', 'find', 'knew', 'would', 'next', 'baby', 'gift', 'would', 'purchase', 'opportunity', 'recently', 'came', 'soon', 'read', 'shower', 'invitstion', 'placed', 'order', 'looks', 'comfortable', 'love', 'second', 'cover', 'allows', 'grow', 'child', 'many', 'items', 'designed', 'baby', 'used', 'short', 'time', 'able', 'used', 'much', 'longer', 'given', 'mothertobe', 'thrilled', 'receive', 'year', 'old', 'try', 'already', 'making', 'plans', 'new', 'baby', 'share', 'watch', 'tv', 'strsp', 'bottom', 'makes', 'moving', 'room', 'room', 'easy', 'cover', 'zips', 'change', 'one', 'wash', 'well', 'thought', 'item']\n",
            "['really', 'like', 'valances', 'cute', 'characters', 'highly', 'recommend', 'downfall', 'iron', 'come', 'dryer', 'worth']\n"
          ]
        }
      ],
      "source": [
        "for k in range(3):\n",
        "  print(Xclean[k])"
      ]
    },
    {
      "cell_type": "markdown",
      "metadata": {
        "id": "xoD1rSYcDlFH"
      },
      "source": [
        "###**Train-Validation-Test**"
      ]
    },
    {
      "cell_type": "code",
      "execution_count": 71,
      "metadata": {
        "id": "5xsYb82cDqPN",
        "colab": {
          "base_uri": "https://localhost:8080/"
        },
        "outputId": "0b1c9b49-a19e-4142-c343-ed890bad359c"
      },
      "outputs": [
        {
          "output_type": "stream",
          "name": "stdout",
          "text": [
            "4000\n",
            "4000\n",
            "500\n",
            "500\n",
            "500\n",
            "500\n"
          ]
        }
      ],
      "source": [
        "semilla = 17\n",
        "\n",
        "x_train, x_validation_and_test, y_train, y_validation_and_test = train_test_split(Xclean, Y, train_size=.80,  random_state=semilla)\n",
        "x_validation, x_test, y_validation, y_test = train_test_split(x_validation_and_test, y_validation_and_test, test_size=.50, random_state=semilla)\n",
        "\n",
        "print(len(x_train))\n",
        "print(len(y_train))\n",
        "print(len(x_validation))\n",
        "print(len(y_validation))\n",
        "print(len(x_test))\n",
        "print(len(y_test))"
      ]
    },
    {
      "cell_type": "code",
      "execution_count": 72,
      "metadata": {
        "id": "A45M35CnKa9w",
        "colab": {
          "base_uri": "https://localhost:8080/"
        },
        "outputId": "73fbdd6e-9465-4353-88de-9ca62bc1cded"
      },
      "outputs": [
        {
          "output_type": "stream",
          "name": "stdout",
          "text": [
            "['stroller', 'year', 'half', 'previously', 'chicco', 'cortina', 'stroller', 'loved', 'also', 'great', 'talls', 'im', 'feet', 'heavy', 'became', 'impractical', 'love', 'heavenly', 'stroller', 'umbrellatype', 'stroller', 'tall', 'enough', 'folds', 'easily', 'light', 'live', 'new', 'york', 'city', 'use', 'stroller', 'daughter', 'constantly', 'since', 'dont', 'car', 'daughter', 'tall', 'seems', 'perfectly', 'comfortable', 'itbut', 'weeks', 'ago', 'returning', 'home', 'park', 'one', 'handles', 'snapped', 'joint', 'unfixable', 'bummed', 'wasnt', 'buy', 'new', 'stroller', 'pretty', 'unusable', 'one', 'handle', 'one', 'feeling', 'really', 'wobbly', 'emailed', 'company', 'found', 'sent', 'two', 'replacement', 'handles', 'rolling', 'againi', 'think', 'handles', 'wore', 'use', 'stroller', 'multiple', 'times', 'day', 'long', 'short', 'distances', 'stairs', 'maneuvering', 'around', 'city', 'trains', 'shopping', 'etc', 'stroller', 'gets', 'heavy', 'wear', 'tear', 'everything', 'else', 'held', 'wheels', 'brakes', 'little', 'pouch', 'no', 'problems', 'must', 'say', 'im', 'impressed', 'customer', 'service', 'wasnt', 'immediate', 'great', 'highly', 'recommend', 'stroller']\n",
            "['not', 'even', 'sure', 'safe', 'kids', 'sleep', 'like', 'putting', 'snow', 'suite', 'putting', 'bed', 'horrible', 'time', 'son', 'getting', 'sleep', 'one', 'blurry', 'eyed', 'morning', 'decided', 'order', 'high', 'hopes', 'would', 'help', 'didnt', 'first', 'able', 'pull', 'legs', 'onto', 'body', 'gets', 'stuck', 'like', 'egg', 'position', 'wakes', 'secondly', 'put', 'onesie', 'keep', 'room', 'cool', 'still', 'covered', 'sweat', 'wakes', 'way', 'thick', 'really', 'hoping', 'would', 'help', 'us', 'sleep', 'didnt']\n",
            "['tried', 'ring', 'thats', 'loose', 'dont', 'money', 'right', 'get', 'sized', 'snuggies', 'temporary', 'not', 'pinch', 'skin', 'finger', 'fell', 'lost', 'wouldnt', 'recommend']\n"
          ]
        }
      ],
      "source": [
        "for k in range(3):\n",
        "  print(x_train[k])"
      ]
    },
    {
      "cell_type": "markdown",
      "metadata": {
        "id": "TJ4zQIwhIClF"
      },
      "source": [
        "###**Construimos ahora nuestro vocabulario usando solamente los datos de entrenamiento:**"
      ]
    },
    {
      "cell_type": "code",
      "execution_count": 73,
      "metadata": {
        "id": "KvXZKduYIKZ1"
      },
      "outputs": [],
      "source": [
        "mivocabulario = Counter()    # de la forma {(key:value)} --> {(word,freq)}\n",
        "\n",
        "for k in range(len(x_train)):\n",
        "  mivocabulario.update(x_train[k])"
      ]
    },
    {
      "cell_type": "code",
      "execution_count": 74,
      "metadata": {
        "id": "G5pb0-FEPIf0",
        "colab": {
          "base_uri": "https://localhost:8080/"
        },
        "outputId": "b5d6417f-451f-46c3-e5b9-0b9bb7fb222d"
      },
      "outputs": [
        {
          "output_type": "stream",
          "name": "stdout",
          "text": [
            "13594\n",
            "[('not', 2160), ('one', 1667), ('baby', 1650), ('great', 1275), ('would', 1207), ('use', 1176), ('like', 1121), ('little', 944), ('seat', 941), ('easy', 924)]\n"
          ]
        }
      ],
      "source": [
        "print(len(mivocabulario))\n",
        "print(mivocabulario.most_common(10))"
      ]
    },
    {
      "cell_type": "code",
      "execution_count": 75,
      "metadata": {
        "id": "nK-JoAH0PbAm",
        "colab": {
          "base_uri": "https://localhost:8080/",
          "height": 430
        },
        "outputId": "5eadc3de-e3b6-4630-d709-229ce4a40764"
      },
      "outputs": [
        {
          "output_type": "display_data",
          "data": {
            "text/plain": [
              "<Figure size 640x480 with 1 Axes>"
            ],
            "image/png": "[encoded data removed]"
          },
          "metadata": {}
        }
      ],
      "source": [
        "# Veamos la gráfica de palabras nuestro diccionario en orden de mayor frecuencia:\n",
        "\n",
        "plt.plot(list(np.arange(len(mivocabulario))), list(mivocabulario.values()), color='blue')\n",
        "plt.show()"
      ]
    },
    {
      "cell_type": "markdown",
      "metadata": {
        "id": "5zh6yVo3QJAL"
      },
      "source": [
        "###**Descartemos palabras cuya frecuencia en el conjunto de entrenamiento es muy pequeña:**"
      ]
    },
    {
      "cell_type": "code",
      "execution_count": 76,
      "metadata": {
        "id": "o0JTo5IEQTJD",
        "colab": {
          "base_uri": "https://localhost:8080/"
        },
        "outputId": "2b5a3fbd-642d-4d8b-fbdb-e8b2b7f5edc5"
      },
      "outputs": [
        {
          "output_type": "stream",
          "name": "stdout",
          "text": [
            "962\n",
            "0.9292334853611888\n"
          ]
        }
      ],
      "source": [
        "min_freq = 30\n",
        "tmp = [{k:c} for k,c in mivocabulario.items() if c >= min_freq]\n",
        "\n",
        "mivocabulario2 = {}\n",
        "for i in range(len(tmp)):\n",
        "  mivocabulario2.update(tmp[i])\n",
        "\n",
        "print(len(mivocabulario2))  # reducimos el tamaño del vocabulario....\n",
        "print(1-len(mivocabulario2)/len(mivocabulario))   # porcentaje de reducción..."
      ]
    },
    {
      "cell_type": "code",
      "execution_count": 77,
      "metadata": {
        "id": "pXcU7Js7Qx0N",
        "colab": {
          "base_uri": "https://localhost:8080/",
          "height": 430
        },
        "outputId": "2d098b10-6b10-4e7a-f9ba-79b32c48b999"
      },
      "outputs": [
        {
          "output_type": "display_data",
          "data": {
            "text/plain": [
              "<Figure size 640x480 with 1 Axes>"
            ],
            "image/png": "[encoded data removed]"
          },
          "metadata": {}
        }
      ],
      "source": [
        "plt.plot(list(np.arange(len(mivocabulario2))), list(mivocabulario2.values()), color='blue')\n",
        "plt.show()"
      ]
    },
    {
      "cell_type": "code",
      "execution_count": 78,
      "metadata": {
        "id": "lfPqb8HFjoJp"
      },
      "outputs": [],
      "source": [
        "total_words = len(mivocabulario2)"
      ]
    },
    {
      "cell_type": "markdown",
      "metadata": {
        "id": "CDA2xvl_StVP"
      },
      "source": [
        "###**Filtremos los conjuntos Train, Validation y Test con respecto al nuestro vocabulario de palabras:**"
      ]
    },
    {
      "cell_type": "code",
      "execution_count": 79,
      "metadata": {
        "id": "d1np99AiTQQT"
      },
      "outputs": [],
      "source": [
        "train_x = []\n",
        "\n",
        "for ss in x_train:\n",
        "  train_x.append([w for w in ss if w in mivocabulario2])"
      ]
    },
    {
      "cell_type": "code",
      "execution_count": 80,
      "metadata": {
        "id": "NTfkWb_DUAsE",
        "colab": {
          "base_uri": "https://localhost:8080/"
        },
        "outputId": "aec3384f-4b92-42ae-b2d9-09a1e8d304f8"
      },
      "outputs": [
        {
          "output_type": "stream",
          "name": "stdout",
          "text": [
            "['stroller', 'year', 'half', 'previously', 'chicco', 'cortina', 'stroller', 'loved', 'also', 'great', 'talls', 'im', 'feet', 'heavy', 'became', 'impractical', 'love', 'heavenly', 'stroller', 'umbrellatype', 'stroller', 'tall', 'enough', 'folds', 'easily', 'light', 'live', 'new', 'york', 'city', 'use', 'stroller', 'daughter', 'constantly', 'since', 'dont', 'car', 'daughter', 'tall', 'seems', 'perfectly', 'comfortable', 'itbut', 'weeks', 'ago', 'returning', 'home', 'park', 'one', 'handles', 'snapped', 'joint', 'unfixable', 'bummed', 'wasnt', 'buy', 'new', 'stroller', 'pretty', 'unusable', 'one', 'handle', 'one', 'feeling', 'really', 'wobbly', 'emailed', 'company', 'found', 'sent', 'two', 'replacement', 'handles', 'rolling', 'againi', 'think', 'handles', 'wore', 'use', 'stroller', 'multiple', 'times', 'day', 'long', 'short', 'distances', 'stairs', 'maneuvering', 'around', 'city', 'trains', 'shopping', 'etc', 'stroller', 'gets', 'heavy', 'wear', 'tear', 'everything', 'else', 'held', 'wheels', 'brakes', 'little', 'pouch', 'no', 'problems', 'must', 'say', 'im', 'impressed', 'customer', 'service', 'wasnt', 'immediate', 'great', 'highly', 'recommend', 'stroller']\n",
            "['stroller', 'year', 'half', 'chicco', 'stroller', 'loved', 'also', 'great', 'im', 'feet', 'heavy', 'became', 'love', 'stroller', 'stroller', 'tall', 'enough', 'folds', 'easily', 'light', 'live', 'new', 'use', 'stroller', 'daughter', 'constantly', 'since', 'dont', 'car', 'daughter', 'tall', 'seems', 'perfectly', 'comfortable', 'weeks', 'ago', 'returning', 'home', 'one', 'handles', 'wasnt', 'buy', 'new', 'stroller', 'pretty', 'one', 'handle', 'one', 'really', 'company', 'found', 'sent', 'two', 'replacement', 'handles', 'think', 'handles', 'use', 'stroller', 'multiple', 'times', 'day', 'long', 'short', 'around', 'shopping', 'etc', 'stroller', 'gets', 'heavy', 'wear', 'everything', 'else', 'held', 'wheels', 'little', 'no', 'problems', 'must', 'say', 'im', 'impressed', 'customer', 'service', 'wasnt', 'great', 'highly', 'recommend', 'stroller']\n",
            "['not', 'even', 'sure', 'safe', 'kids', 'sleep', 'like', 'putting', 'snow', 'suite', 'putting', 'bed', 'horrible', 'time', 'son', 'getting', 'sleep', 'one', 'blurry', 'eyed', 'morning', 'decided', 'order', 'high', 'hopes', 'would', 'help', 'didnt', 'first', 'able', 'pull', 'legs', 'onto', 'body', 'gets', 'stuck', 'like', 'egg', 'position', 'wakes', 'secondly', 'put', 'onesie', 'keep', 'room', 'cool', 'still', 'covered', 'sweat', 'wakes', 'way', 'thick', 'really', 'hoping', 'would', 'help', 'us', 'sleep', 'didnt']\n",
            "['not', 'even', 'sure', 'safe', 'kids', 'sleep', 'like', 'putting', 'putting', 'bed', 'time', 'son', 'getting', 'sleep', 'one', 'decided', 'order', 'high', 'would', 'help', 'didnt', 'first', 'able', 'pull', 'legs', 'onto', 'body', 'gets', 'stuck', 'like', 'position', 'put', 'keep', 'room', 'cool', 'still', 'way', 'thick', 'really', 'hoping', 'would', 'help', 'us', 'sleep', 'didnt']\n",
            "['tried', 'ring', 'thats', 'loose', 'dont', 'money', 'right', 'get', 'sized', 'snuggies', 'temporary', 'not', 'pinch', 'skin', 'finger', 'fell', 'lost', 'wouldnt', 'recommend']\n",
            "['tried', 'ring', 'thats', 'loose', 'dont', 'money', 'right', 'get', 'sized', 'not', 'skin', 'fell', 'lost', 'wouldnt', 'recommend']\n"
          ]
        }
      ],
      "source": [
        "for k in range(3):\n",
        "  print(x_train[k])\n",
        "  print(train_x[k])"
      ]
    },
    {
      "cell_type": "code",
      "execution_count": 81,
      "metadata": {
        "id": "T_TruTEqW1p1"
      },
      "outputs": [],
      "source": [
        "validation_x = []\n",
        "\n",
        "for ss in x_validation:\n",
        "  validation_x.append([w for w in ss if w in mivocabulario2])"
      ]
    },
    {
      "cell_type": "code",
      "execution_count": 82,
      "metadata": {
        "id": "mBuOp4r-XpqV",
        "colab": {
          "base_uri": "https://localhost:8080/"
        },
        "outputId": "678520ca-dbe8-4c8b-a83a-46ae292146fb"
      },
      "outputs": [
        {
          "output_type": "stream",
          "name": "stdout",
          "text": [
            "['adorable', 'way', 'big', 'layette', 'others', 'said', 'returned', 'cannot', 'tell', 'age', 'actually', 'fit']\n",
            "['adorable', 'way', 'big', 'others', 'said', 'returned', 'cannot', 'tell', 'age', 'actually', 'fit']\n",
            "['absolutely', 'love', 'crib', 'set', 'spent', 'forever', 'researching', 'reviewing', 'peoples', 'opinions', 'different', 'kind', 'crib', 'sets', 'bit', 'hesitant', 'first', 'soon', 'got', 'mail', 'opened', 'fell', 'love', 'great', 'price', 'piece', 'set', 'completely', 'well', 'worth', 'moneyupdate', 'ended', 'not', 'using', 'long', 'looks', 'ended', 'wash', 'blanket', 'looks', 'real', 'used', 'pregnant', 'wont', 'wasting', 'money', 'crib', 'bedding', 'set', 'babies', 'dont', 'need', 'pillows', 'comforters', 'thing', 'uses', 'sheet', 'cute', 'first', 'get', 'magic', 'slowly', 'fades', 'away']\n",
            "['absolutely', 'love', 'crib', 'set', 'spent', 'different', 'kind', 'crib', 'sets', 'bit', 'first', 'soon', 'got', 'opened', 'fell', 'love', 'great', 'price', 'piece', 'set', 'completely', 'well', 'worth', 'ended', 'not', 'using', 'long', 'looks', 'ended', 'wash', 'blanket', 'looks', 'real', 'used', 'pregnant', 'wont', 'money', 'crib', 'bedding', 'set', 'babies', 'dont', 'need', 'thing', 'uses', 'sheet', 'cute', 'first', 'get', 'away']\n",
            "['nipple', 'seems', 'appropriate', 'ages', 'suggested', 'mos', 'son', 'no', 'trouble', 'latching', 'onto', 'previously', 'used', 'avent', 'bottles', 'wasnt', 'nursing', 'learned', 'bpa', 'switched', 'anti', 'colic', 'valve', 'interesting', 'must', 'working', 'little', 'one', 'doesnt', 'problem', 'gas', 'using', 'bottle']\n",
            "['nipple', 'seems', 'son', 'no', 'trouble', 'onto', 'used', 'avent', 'bottles', 'wasnt', 'nursing', 'bpa', 'must', 'working', 'little', 'one', 'doesnt', 'problem', 'gas', 'using', 'bottle']\n"
          ]
        }
      ],
      "source": [
        "for k in range(3):\n",
        "  print(x_validation[k])\n",
        "  print(validation_x[k])"
      ]
    },
    {
      "cell_type": "code",
      "execution_count": 83,
      "metadata": {
        "id": "x6PgJAzkXBcN"
      },
      "outputs": [],
      "source": [
        "test_x = []\n",
        "\n",
        "for ss in x_test:\n",
        "  test_x.append([w for w in ss if w in mivocabulario2])"
      ]
    },
    {
      "cell_type": "code",
      "execution_count": 84,
      "metadata": {
        "id": "peeZUPUyXHnV",
        "colab": {
          "base_uri": "https://localhost:8080/"
        },
        "outputId": "0aa08c6f-4026-42fc-81e8-3ad6c5d9838b"
      },
      "outputs": [
        {
          "output_type": "stream",
          "name": "stdout",
          "text": [
            "['bought', 'son', 'last', 'december', 'great', 'car', 'seat', 'easy', 'use', 'install', 'love', 'point', 'harness', 'although', 'son', 'soon', 'outgrow', 'need', 'seat', 'comfy', 'never', 'complains', 'much', 'better', 'padded', 'comfortable', 'graco', 'booster', 'seats', 'opinion', 'think', 'probably', 'best', 'booster', 'seat', 'market', 'safety', 'wise', 'side', 'impact', 'protection', 'seems', 'excellent', 'large', 'sides', 'support', 'sons', 'head', 'well', 'naps', 'car', 'wish', 'would', 'fold', 'easier', 'transport', 'trunk', 'not', 'use', 'need', 'take', 'plane']\n",
            "['bought', 'son', 'last', 'great', 'car', 'seat', 'easy', 'use', 'install', 'love', 'point', 'harness', 'although', 'son', 'soon', 'need', 'seat', 'comfy', 'never', 'much', 'better', 'padded', 'comfortable', 'graco', 'booster', 'seats', 'think', 'probably', 'best', 'booster', 'seat', 'safety', 'side', 'seems', 'excellent', 'large', 'sides', 'support', 'sons', 'head', 'well', 'car', 'wish', 'would', 'fold', 'easier', 'not', 'use', 'need', 'take']\n",
            "['colorful', 'looks', 'great', 'makes', 'noise', 'four', 'different', 'buttons', 'push', 'doesnt', 'keep', 'old', 'grandsons', 'interest', 'ten', 'seconds', 'hes', 'not', 'interested', 'paid', 'lot', 'less', 'wouldnt', 'pay']\n",
            "['looks', 'great', 'makes', 'noise', 'four', 'different', 'push', 'doesnt', 'keep', 'old', 'seconds', 'hes', 'not', 'paid', 'lot', 'less', 'wouldnt', 'pay']\n",
            "['looking', 'forward', 'inexpensive', 'allinone', 'cloth', 'diaper', 'get', 'pay', 'velcro', 'doesnt', 'stay', 'closed', 'wash', 'ended', 'trying', 'use', 'binder', 'clips', 'keep', 'closed', 'didnt', 'work', 'either', 'wash', 'one', 'diapers', 'velcro', 'stuck', 'anothers', 'ripped', 'right', 'diaper', 'disappointing', 'cant', 'even', 'feel', 'good', 'trying', 'resell', 'giving', 'away', 'waste', 'money']\n",
            "['looking', 'forward', 'cloth', 'diaper', 'get', 'pay', 'velcro', 'doesnt', 'stay', 'closed', 'wash', 'ended', 'trying', 'use', 'keep', 'closed', 'didnt', 'work', 'either', 'wash', 'one', 'diapers', 'velcro', 'stuck', 'right', 'diaper', 'cant', 'even', 'feel', 'good', 'trying', 'giving', 'away', 'waste', 'money']\n"
          ]
        }
      ],
      "source": [
        "for k in range(3):\n",
        "  print(x_test[k])\n",
        "  print(test_x[k])"
      ]
    },
    {
      "cell_type": "code",
      "execution_count": 85,
      "metadata": {
        "id": "tjLezI69yUkH",
        "colab": {
          "base_uri": "https://localhost:8080/"
        },
        "outputId": "fbac3b87-71c2-4473-a7d8-53fd7b155091"
      },
      "outputs": [
        {
          "output_type": "execute_result",
          "data": {
            "text/plain": [
              "500"
            ]
          },
          "metadata": {},
          "execution_count": 85
        }
      ],
      "source": [
        "len(test_x)"
      ]
    },
    {
      "cell_type": "markdown",
      "metadata": {
        "id": "Yt8kvSyfj4HJ"
      },
      "source": [
        "###**matrices Tf-idf**\n",
        "\n",
        "### Para obtener las matrices sparse debe estar de nuevo cada comentario/documento en un solo string:\n",
        "\n"
      ]
    },
    {
      "cell_type": "code",
      "execution_count": 86,
      "metadata": {
        "id": "vOHyZNQGa510"
      },
      "outputs": [],
      "source": [
        "train_x_docs = []\n",
        "\n",
        "for k in range(len(train_x)):\n",
        "  train_x_docs.append(' '.join(train_x[k]))"
      ]
    },
    {
      "cell_type": "code",
      "execution_count": 87,
      "metadata": {
        "id": "Bi1BR_LobfGH",
        "colab": {
          "base_uri": "https://localhost:8080/"
        },
        "outputId": "f774f8cd-eac5-4845-f7af-e8d35e9996b2"
      },
      "outputs": [
        {
          "output_type": "stream",
          "name": "stdout",
          "text": [
            "stroller year half chicco stroller loved also great im feet heavy became love stroller stroller tall enough folds easily light live new use stroller daughter constantly since dont car daughter tall seems perfectly comfortable weeks ago returning home one handles wasnt buy new stroller pretty one handle one really company found sent two replacement handles think handles use stroller multiple times day long short around shopping etc stroller gets heavy wear everything else held wheels little no problems must say im impressed customer service wasnt great highly recommend stroller\n",
            "not even sure safe kids sleep like putting putting bed time son getting sleep one decided order high would help didnt first able pull legs onto body gets stuck like position put keep room cool still way thick really hoping would help us sleep didnt\n",
            "tried ring thats loose dont money right get sized not skin fell lost wouldnt recommend\n"
          ]
        }
      ],
      "source": [
        "for k in range(3):\n",
        "  print(train_x_docs[k])"
      ]
    },
    {
      "cell_type": "code",
      "execution_count": 88,
      "metadata": {
        "id": "glIcIsFkb_YN"
      },
      "outputs": [],
      "source": [
        "validation_x_docs = []\n",
        "\n",
        "for k in range(len(validation_x)):\n",
        "  validation_x_docs.append(' '.join(validation_x[k]))"
      ]
    },
    {
      "cell_type": "code",
      "execution_count": 89,
      "metadata": {
        "id": "Hfy03pVab_6b"
      },
      "outputs": [],
      "source": [
        "test_x_docs = []\n",
        "\n",
        "for k in range(len(test_x)):\n",
        "  test_x_docs.append(' '.join(test_x[k]))"
      ]
    },
    {
      "cell_type": "code",
      "execution_count": 90,
      "metadata": {
        "id": "2_mR1K5ZyhVi",
        "colab": {
          "base_uri": "https://localhost:8080/"
        },
        "outputId": "0b422df3-e95b-4715-98b6-317e6343ab82"
      },
      "outputs": [
        {
          "output_type": "execute_result",
          "data": {
            "text/plain": [
              "500"
            ]
          },
          "metadata": {},
          "execution_count": 90
        }
      ],
      "source": [
        "len(test_x_docs)"
      ]
    },
    {
      "cell_type": "markdown",
      "metadata": {
        "id": "ywWrj3XrpuoG"
      },
      "source": [
        "###**TOKENIZER**\n",
        "\n",
        "Con Tf-Idf se hace la conversión de letras a números con la fórmula de de tf-idf y los agrupa de manera descendente por frecuencias.\n"
      ]
    },
    {
      "cell_type": "code",
      "execution_count": 91,
      "metadata": {
        "id": "BcRvk3Y5pqFD"
      },
      "outputs": [],
      "source": [
        "# Creamos el tokenizer\n",
        "tokenizer = Tokenizer(num_words = total_words)\n",
        "\n",
        "tokenizer.fit_on_texts(train_x_docs)\n",
        "\n",
        "train_sequences = tokenizer.texts_to_sequences(train_x_docs)\n",
        "\n",
        "validation_sequences = tokenizer.texts_to_sequences(validation_x_docs)\n",
        "\n",
        "test_sequences = tokenizer.texts_to_sequences(test_x_docs)"
      ]
    },
    {
      "cell_type": "code",
      "execution_count": 92,
      "metadata": {
        "id": "KTGC-ix8kFKe",
        "colab": {
          "base_uri": "https://localhost:8080/"
        },
        "outputId": "614947bb-d056-4106-f4f2-a5aa49d8b466"
      },
      "outputs": [
        {
          "output_type": "execute_result",
          "data": {
            "text/plain": [
              "962"
            ]
          },
          "metadata": {},
          "execution_count": 92
        }
      ],
      "source": [
        "tokenizer.num_words  # tamaño del vocabulario"
      ]
    },
    {
      "cell_type": "code",
      "execution_count": 93,
      "metadata": {
        "id": "fgmnOiupkwL6"
      },
      "outputs": [],
      "source": [
        "#tokenizer.index_word   # tokens indexados por frecuencia, de manera descendente."
      ]
    },
    {
      "cell_type": "code",
      "execution_count": 94,
      "metadata": {
        "id": "SdAUblX6lW4m",
        "colab": {
          "base_uri": "https://localhost:8080/",
          "height": 35
        },
        "outputId": "26362773-642f-47c5-bccf-7ba6a1cb3acf"
      },
      "outputs": [
        {
          "output_type": "execute_result",
          "data": {
            "text/plain": [
              "'baby'"
            ],
            "application/vnd.google.colaboratory.intrinsic+json": {
              "type": "string"
            }
          },
          "metadata": {},
          "execution_count": 94
        }
      ],
      "source": [
        "tokenizer.index_word[3]  # puedes obtener cualquier token en particular"
      ]
    },
    {
      "cell_type": "code",
      "execution_count": 95,
      "metadata": {
        "id": "ZkXxOKLBlm4a",
        "colab": {
          "base_uri": "https://localhost:8080/"
        },
        "outputId": "4c2dadc8-80a1-4cb7-c401-9d1c7ea84da6"
      },
      "outputs": [
        {
          "output_type": "execute_result",
          "data": {
            "text/plain": [
              "3"
            ]
          },
          "metadata": {},
          "execution_count": 95
        }
      ],
      "source": [
        "tokenizer.word_index['baby']   # y obtener el índice del token de esta manera."
      ]
    },
    {
      "cell_type": "code",
      "execution_count": 96,
      "metadata": {
        "id": "UYYC6aJdqtqR",
        "colab": {
          "base_uri": "https://localhost:8080/"
        },
        "outputId": "68878609-0108-401a-f125-934223f64087"
      },
      "outputs": [
        {
          "output_type": "stream",
          "name": "stdout",
          "text": [
            "The document and its encoding:\n",
            " stroller year half chicco stroller loved also great im feet heavy became love stroller stroller tall enough folds easily light live new use stroller daughter constantly since dont car daughter tall seems perfectly comfortable weeks ago returning home one handles wasnt buy new stroller pretty one handle one really company found sent two replacement handles think handles use stroller multiple times day long short around shopping etc stroller gets heavy wear everything else held wheels little no problems must say im impressed customer service wasnt great highly recommend stroller \n",
            " [30, 79, 368, 841, 30, 138, 15, 4, 39, 445, 300, 769, 11, 30, 30, 504, 44, 594, 75, 149, 561, 74, 6, 30, 28, 746, 51, 24, 35, 28, 504, 104, 206, 126, 170, 339, 809, 237, 2, 524, 210, 52, 74, 30, 95, 2, 327, 2, 16, 328, 127, 646, 47, 452, 524, 69, 524, 6, 30, 703, 174, 109, 88, 358, 45, 414, 346, 30, 176, 300, 397, 193, 430, 403, 472, 8, 20, 286, 272, 164, 39, 936, 446, 439, 210, 4, 158, 36, 30]\n"
          ]
        }
      ],
      "source": [
        "print(\"The document and its encoding:\\n\",train_x_docs[0], '\\n', train_sequences[0])"
      ]
    },
    {
      "cell_type": "code",
      "execution_count": 97,
      "metadata": {
        "id": "SoKoodE_sAxo",
        "colab": {
          "base_uri": "https://localhost:8080/"
        },
        "outputId": "9dbe3c9b-ba54-42a6-d4a4-078ab215af27"
      },
      "outputs": [
        {
          "output_type": "execute_result",
          "data": {
            "text/plain": [
              "4000"
            ]
          },
          "metadata": {},
          "execution_count": 97
        }
      ],
      "source": [
        "len(train_sequences)  # siguen siendo el mismo nuumero de renglones inicial de los de entrenamiento."
      ]
    },
    {
      "cell_type": "code",
      "execution_count": 98,
      "metadata": {
        "id": "62UE_viJqtln"
      },
      "outputs": [],
      "source": [
        "# Add padding, \"post\" or \"pre\":\n",
        "# maxlen es la longitud máxima permitida de un enunciado. Puedes calcular el documento de mayor longitud y tomar ese,\n",
        "# o bien, tomar un aproximado... en este caso tomamos 40, más allá de esto, se trunca.\n",
        "\n",
        "padded_train = pad_sequences(train_sequences, maxlen = 40, padding = 'post', truncating = 'post')\n",
        "\n",
        "padded_validation = pad_sequences(validation_sequences, maxlen = 40, padding = 'post', truncating = 'post')\n",
        "\n",
        "padded_test = pad_sequences(test_sequences, maxlen = 40,  padding = 'post', truncating = 'post')"
      ]
    },
    {
      "cell_type": "code",
      "execution_count": 99,
      "metadata": {
        "id": "Ca8AXSfrsyF1",
        "colab": {
          "base_uri": "https://localhost:8080/"
        },
        "outputId": "34528a3c-72c4-4199-bf6f-162d588534cb"
      },
      "outputs": [
        {
          "output_type": "stream",
          "name": "stdout",
          "text": [
            "La codificación del documento 1 es:\n",
            " [ 30  79 368 841  30 138  15   4  39 445 300 769  11  30  30 504  44 594\n",
            "  75 149 561  74   6  30  28 746  51  24  35  28 504 104 206 126 170 339\n",
            " 809 237   2 524]\n",
            "La codificación del documento 2 es:\n",
            " [  1  27 103 195 119 122   7 347 347 144  18  22 116 122   2 257 294 157\n",
            "   5 258  49  31  96 245 371 514 747 176 492   7 387  26  70  54 883  32\n",
            "  50 547  16 704]\n",
            "La codificación del documento 3 es:\n",
            " [120 748 261 819  24 145  76  12 884   1 907 705 759 256  36   0   0   0\n",
            "   0   0   0   0   0   0   0   0   0   0   0   0   0   0   0   0   0   0\n",
            "   0   0   0   0]\n"
          ]
        }
      ],
      "source": [
        "for i,doc in enumerate(padded_train[:3]):\n",
        "     print(\"La codificación del documento\",i+1,\"es:\\n\",doc)"
      ]
    },
    {
      "cell_type": "code",
      "execution_count": 100,
      "metadata": {
        "id": "AIY4ySAbs8qU",
        "colab": {
          "base_uri": "https://localhost:8080/"
        },
        "outputId": "3b30d932-ae10-404d-af8e-4d224f41d8da"
      },
      "outputs": [
        {
          "output_type": "stream",
          "name": "stdout",
          "text": [
            "(4000, 40)\n",
            "(500, 40)\n"
          ]
        }
      ],
      "source": [
        "print(padded_train.shape)\n",
        "print(padded_test.shape)"
      ]
    },
    {
      "cell_type": "code",
      "execution_count": 101,
      "metadata": {
        "id": "4kR58BQaqtil"
      },
      "outputs": [],
      "source": [
        "y_train_arr = np.asarray(y_train)    # de Series --> array\n",
        "y_validation_arr = np.asarray(y_validation)\n",
        "y_test_arr = np.asarray(y_test)"
      ]
    },
    {
      "cell_type": "code",
      "execution_count": 102,
      "metadata": {
        "id": "ihQ8qv9c0c-l",
        "colab": {
          "base_uri": "https://localhost:8080/"
        },
        "outputId": "12667717-70db-45f7-a967-f8167a7f3c2d"
      },
      "outputs": [
        {
          "output_type": "stream",
          "name": "stdout",
          "text": [
            "Conjunto inicial: 0.768\n",
            "Conjunto de entrenamiento: 0.771\n",
            "Conjunto de valicación: 0.79\n",
            "Conjunto de prueba: 0.722\n"
          ]
        }
      ],
      "source": [
        "# veamos qué tan bien quedaron repartidas las clases en cada conjunto:\n",
        "print('Conjunto inicial:', sum(Y)/len(Y))\n",
        "\n",
        "print('Conjunto de entrenamiento:', sum(y_train)/len(y_train))\n",
        "print('Conjunto de valicación:',  sum(y_validation)/len(y_validation))\n",
        "print('Conjunto de prueba:', sum(y_test)/len(y_test))"
      ]
    },
    {
      "cell_type": "markdown",
      "metadata": {
        "id": "yazkBVhPQLro"
      },
      "source": [
        "# **La Tarea consiste en encontrar la arquitectura que nos genere un modelo que no esté subentrenado o sobreentrenado.**\n",
        "\n",
        "# **Diremos que el modelo no está sobreentrenado si la diferencia entre el accuracy del conjunto de Entrenamiento y el de Validación es menor al 3%.**"
      ]
    },
    {
      "cell_type": "code",
      "execution_count": 103,
      "metadata": {
        "id": "TFj7S8_tjR9j",
        "colab": {
          "base_uri": "https://localhost:8080/"
        },
        "outputId": "9a786662-f65d-4284-bebb-769b6b677d27"
      },
      "outputs": [
        {
          "output_type": "stream",
          "name": "stdout",
          "text": [
            "Model: \"sequential_1\"\n",
            "_________________________________________________________________\n",
            " Layer (type)                Output Shape              Param #   \n",
            "=================================================================\n",
            " embedding_1 (Embedding)     (None, None, 256)         246272    \n",
            "                                                                 \n",
            " lstm_2 (LSTM)               (None, None, 64)          82176     \n",
            "                                                                 \n",
            " dropout_2 (Dropout)         (None, None, 64)          0         \n",
            "                                                                 \n",
            " lstm_3 (LSTM)               (None, 16)                5184      \n",
            "                                                                 \n",
            " dense_2 (Dense)             (None, 32)                544       \n",
            "                                                                 \n",
            " dropout_3 (Dropout)         (None, 32)                0         \n",
            "                                                                 \n",
            " dense_3 (Dense)             (None, 1)                 33        \n",
            "                                                                 \n",
            "=================================================================\n",
            "Total params: 334209 (1.27 MB)\n",
            "Trainable params: 334209 (1.27 MB)\n",
            "Non-trainable params: 0 (0.00 Byte)\n",
            "_________________________________________________________________\n"
          ]
        }
      ],
      "source": [
        "from keras.models import Sequential\n",
        "from keras.layers import Embedding, LSTM, Dense, Dropout\n",
        "\n",
        "model = Sequential()\n",
        "\n",
        "# Embedding layer\n",
        "model.add(Embedding(input_dim=total_words, output_dim=256, embeddings_initializer='uniform'))\n",
        "\n",
        "# LSTM layers with reduced units and increased dropout\n",
        "model.add(LSTM(64, return_sequences=True))  # Reduce units\n",
        "model.add(Dropout(0.1))  # Increase dropout for stronger regularization\n",
        "\n",
        "model.add(LSTM(16))  # Keep units the same\n",
        "\n",
        "# Dense layers with increased dropout\n",
        "model.add(Dense(32, activation='relu'))\n",
        "model.add(Dropout(0.1))  # Increase dropout for stronger regularization\n",
        "\n",
        "\n",
        "model.add(Dense(1, activation='sigmoid'))\n",
        "\n",
        "# Compilar el modelo\n",
        "model.compile(optimizer='adam', loss='binary_crossentropy', metrics=['acc'])\n",
        "model.summary()\n"
      ]
    },
    {
      "cell_type": "code",
      "execution_count": 104,
      "metadata": {
        "id": "XxWwq2d4qtXT",
        "colab": {
          "base_uri": "https://localhost:8080/"
        },
        "outputId": "8c253639-3c2c-4c8f-bbb4-d42e12361288"
      },
      "outputs": [
        {
          "output_type": "stream",
          "name": "stdout",
          "text": [
            "Epoch 1/5\n",
            "63/63 [==============================] - 24s 208ms/step - loss: 0.5442 - acc: 0.7665 - val_loss: 0.4846 - val_acc: 0.7940\n",
            "Epoch 2/5\n",
            "63/63 [==============================] - 7s 116ms/step - loss: 0.4439 - acc: 0.8152 - val_loss: 0.3721 - val_acc: 0.8100\n",
            "Epoch 3/5\n",
            "63/63 [==============================] - 6s 95ms/step - loss: 0.3654 - acc: 0.8487 - val_loss: 0.3368 - val_acc: 0.8520\n",
            "Epoch 4/5\n",
            "63/63 [==============================] - 7s 116ms/step - loss: 0.3063 - acc: 0.8842 - val_loss: 0.3342 - val_acc: 0.8600\n",
            "Epoch 5/5\n",
            "63/63 [==============================] - 6s 97ms/step - loss: 0.2726 - acc: 0.9007 - val_loss: 0.3253 - val_acc: 0.8720\n"
          ]
        }
      ],
      "source": [
        "# Entrenar el modelo\n",
        "n_epochs = 5  # Aumentar el número de épocas\n",
        "n_batch = 64  # Ajustar el tamaño del lote\n",
        "\n",
        "H = model.fit(padded_train, y_train_arr, batch_size=n_batch, validation_data=(padded_validation, y_validation_arr), epochs=n_epochs)"
      ]
    },
    {
      "cell_type": "code",
      "source": [
        "import pandas as pd\n",
        "\n",
        "# Calcular la diferencia entre train_acc y val_acc para cada época\n",
        "differences = [train_acc - val_acc for train_acc, val_acc in zip(H.history[\"acc\"], H.history[\"val_acc\"])]\n",
        "\n",
        "# Crear un DataFrame para mostrar la diferencia en una tabla\n",
        "epoch_index = np.arange(1, n_epochs + 1)\n",
        "difference_df = pd.DataFrame({\"Epoch\": epoch_index, \"Train Accuracy\": H.history[\"acc\"], \"Validation Accuracy\": H.history[\"val_acc\"], \"Difference\": differences})\n",
        "\n",
        "# Imprimir la tabla\n",
        "print(difference_df)\n"
      ],
      "metadata": {
        "colab": {
          "base_uri": "https://localhost:8080/"
        },
        "id": "rPeKk1IGARaN",
        "outputId": "2859ce26-fb3d-4108-a3bb-cbe9483da3f2"
      },
      "execution_count": 105,
      "outputs": [
        {
          "output_type": "stream",
          "name": "stdout",
          "text": [
            "   Epoch  Train Accuracy  Validation Accuracy  Difference\n",
            "0      1         0.76650                0.794    -0.02750\n",
            "1      2         0.81525                0.810     0.00525\n",
            "2      3         0.84875                0.852    -0.00325\n",
            "3      4         0.88425                0.860     0.02425\n",
            "4      5         0.90075                0.872     0.02875\n"
          ]
        }
      ]
    },
    {
      "cell_type": "code",
      "execution_count": 106,
      "metadata": {
        "id": "PiMt5G_Z2yHL",
        "colab": {
          "base_uri": "https://localhost:8080/",
          "height": 937
        },
        "outputId": "5bd43531-cc82-4876-b3d2-2e8f1f1a3985"
      },
      "outputs": [
        {
          "output_type": "display_data",
          "data": {
            "text/plain": [
              "<Figure size 640x480 with 1 Axes>"
            ],
            "image/png": "[encoded data removed]"
          },
          "metadata": {}
        },
        {
          "output_type": "display_data",
          "data": {
            "text/plain": [
              "<Figure size 640x480 with 1 Axes>"
            ],
            "image/png": "[encoded data removed]"
          },
          "metadata": {}
        }
      ],
      "source": [
        "plt.style.use(\"ggplot\")\n",
        "plt.figure()\n",
        "plt.plot(np.arange(0,n_epochs),H.history[\"acc\"],label=\"train_acc\")\n",
        "plt.plot(np.arange(0,n_epochs),H.history[\"val_acc\"],label=\"val_acc\")\n",
        "plt.title(\"Training and Validation Accuracy\")\n",
        "plt.xlabel(\"Epoch\")\n",
        "plt.ylabel(\"Accuracy\")\n",
        "plt.legend()\n",
        "\n",
        "plt.figure()\n",
        "plt.plot(np.arange(0,n_epochs),H.history[\"loss\"],label=\"train_loss\")\n",
        "plt.plot(np.arange(0,n_epochs),H.history[\"val_loss\"],label=\"val_loss\")\n",
        "plt.title(\"Training and Validation Loss\")\n",
        "plt.xlabel(\"Epoch\")\n",
        "plt.ylabel(\"Loss\")\n",
        "plt.legend()\n",
        "\n",
        "plt.show()"
      ]
    },
    {
      "cell_type": "code",
      "execution_count": 107,
      "metadata": {
        "id": "mwEGT3zNqtTp",
        "colab": {
          "base_uri": "https://localhost:8080/"
        },
        "outputId": "7e71438b-6caa-454d-9433-0fdf977af164"
      },
      "outputs": [
        {
          "output_type": "stream",
          "name": "stdout",
          "text": [
            "16/16 [==============================] - 2s 36ms/step\n"
          ]
        }
      ],
      "source": [
        "# make prediction\n",
        "pred = model.predict(padded_test)\n"
      ]
    },
    {
      "cell_type": "code",
      "execution_count": 108,
      "metadata": {
        "id": "00P6zPsRx39g",
        "colab": {
          "base_uri": "https://localhost:8080/"
        },
        "outputId": "1026c85b-d1cd-4f2d-ee59-151aa5470476"
      },
      "outputs": [
        {
          "output_type": "execute_result",
          "data": {
            "text/plain": [
              "(500, 40)"
            ]
          },
          "metadata": {},
          "execution_count": 108
        }
      ],
      "source": [
        "padded_test.shape"
      ]
    },
    {
      "cell_type": "code",
      "execution_count": 109,
      "metadata": {
        "id": "S6Wl9_LvqtQS"
      },
      "outputs": [],
      "source": [
        "# if the predicted value is >0.5 it is real else it is fake\n",
        "prediction = []\n",
        "for i in range(len(pred)):\n",
        "    if pred[i].item() > 0.5:  # podemos buscar el mejor umbral...\n",
        "        prediction.append(1)\n",
        "    else:\n",
        "        prediction.append(0)"
      ]
    },
    {
      "cell_type": "code",
      "execution_count": 110,
      "metadata": {
        "id": "QjwtmLanqtMS",
        "colab": {
          "base_uri": "https://localhost:8080/"
        },
        "outputId": "a2c10aec-20eb-4e54-d81d-b224ad2e0ef1"
      },
      "outputs": [
        {
          "output_type": "stream",
          "name": "stdout",
          "text": [
            "Model Accuracy :  0.804\n"
          ]
        }
      ],
      "source": [
        "# getting the accuracy\n",
        "from sklearn.metrics import accuracy_score\n",
        "\n",
        "accuracy = accuracy_score(list(y_test_arr), prediction)\n",
        "\n",
        "print(\"Model Accuracy : \", accuracy)"
      ]
    },
    {
      "cell_type": "code",
      "execution_count": 111,
      "metadata": {
        "id": "iYNRTDxsXyAs",
        "colab": {
          "base_uri": "https://localhost:8080/"
        },
        "outputId": "cf76c47c-5599-46df-ed10-d3e7245ac86e"
      },
      "outputs": [
        {
          "output_type": "execute_result",
          "data": {
            "text/plain": [
              "0.804"
            ]
          },
          "metadata": {},
          "execution_count": 111
        }
      ],
      "source": [
        "# se puede calcular de manera más sencilla, pero por default el umbral es 0.5\n",
        "predic = np.round(pred)\n",
        "accuracy_score(list(y_test_arr), predic)"
      ]
    },
    {
      "cell_type": "code",
      "execution_count": 112,
      "metadata": {
        "id": "XL2oxHBrqtIO",
        "colab": {
          "base_uri": "https://localhost:8080/"
        },
        "outputId": "3115b819-e59a-4bdb-c89c-d67382bd10c6"
      },
      "outputs": [
        {
          "output_type": "stream",
          "name": "stdout",
          "text": [
            "[[ 71  68]\n",
            " [ 30 331]]\n"
          ]
        }
      ],
      "source": [
        "# get the confusion matrix\n",
        "from sklearn.metrics import confusion_matrix\n",
        "cm = confusion_matrix(list(y_test_arr), prediction)\n",
        "print(cm)\n"
      ]
    }
  ],
  "metadata": {
    "accelerator": "GPU",
    "colab": {
      "provenance": []
    },
    "gpuClass": "standard",
    "kernelspec": {
      "display_name": "Python 3 (ipykernel)",
      "language": "python",
      "name": "python3"
    },
    "language_info": {
      "codemirror_mode": {
        "name": "ipython",
        "version": 3
      },
      "file_extension": ".py",
      "mimetype": "text/x-python",
      "name": "python",
      "nbconvert_exporter": "python",
      "pygments_lexer": "ipython3",
      "version": "3.11.5"
    }
  },
  "nbformat": 4,
  "nbformat_minor": 0
}